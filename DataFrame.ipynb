{
 "nbformat": 4,
 "nbformat_minor": 0,
 "metadata": {
  "colab": {
   "provenance": [],
   "mount_file_id": "1wCNKDxWQppFj3ZG736sVXOzGfAOs1Be2",
   "authorship_tag": "ABX9TyPIFgcldC/5w0BlzlGAulte"
  },
  "kernelspec": {
   "name": "python3",
   "language": "python",
   "display_name": "Python 3 (ipykernel)"
  },
  "language_info": {
   "name": "python"
  }
 },
 "cells": [
  {
   "cell_type": "code",
   "execution_count": 3,
   "metadata": {
    "id": "cPTsnB26RixC",
    "executionInfo": {
     "status": "ok",
     "timestamp": 1709855423283,
     "user_tz": -540,
     "elapsed": 281,
     "user": {
      "displayName": "박한영",
      "userId": "03216900913188569861"
     }
    },
    "ExecuteTime": {
     "end_time": "2024-03-11T23:49:05.474213Z",
     "start_time": "2024-03-11T23:49:05.471658Z"
    }
   },
   "outputs": [],
   "source": [
    "import os\n",
    "import pandas as pd\n"
   ]
  },
  {
   "cell_type": "code",
   "source": [
    "os.listdir('./machine_learning_data')"
   ],
   "metadata": {
    "colab": {
     "base_uri": "https://localhost:8080/"
    },
    "id": "kX62QM71TUVn",
    "executionInfo": {
     "status": "ok",
     "timestamp": 1709855200090,
     "user_tz": -540,
     "elapsed": 355,
     "user": {
      "displayName": "박한영",
      "userId": "03216900913188569861"
     }
    },
    "outputId": "1afbbd0d-2a59-4894-c162-1ffad3b7aa27",
    "ExecuteTime": {
     "end_time": "2024-03-11T23:49:05.493352Z",
     "start_time": "2024-03-11T23:49:05.488801Z"
    }
   },
   "execution_count": 4,
   "outputs": [
    {
     "data": {
      "text/plain": "['friend.csv']"
     },
     "execution_count": 4,
     "metadata": {},
     "output_type": "execute_result"
    }
   ]
  },
  {
   "cell_type": "code",
   "source": [
    "# 데이터 폴더 src 변수 할당\n",
    "base_src = './machine_learning_data'\n",
    "\n",
    "friend_src = base_src + '/friend.csv'\n"
   ],
   "metadata": {
    "id": "mHeh2doVTWSE",
    "executionInfo": {
     "status": "ok",
     "timestamp": 1709855332075,
     "user_tz": -540,
     "elapsed": 4,
     "user": {
      "displayName": "박한영",
      "userId": "03216900913188569861"
     }
    },
    "ExecuteTime": {
     "end_time": "2024-03-11T23:49:05.508464Z",
     "start_time": "2024-03-11T23:49:05.506489Z"
    }
   },
   "execution_count": 5,
   "outputs": []
  },
  {
   "cell_type": "code",
   "source": [
    "friend_src"
   ],
   "metadata": {
    "colab": {
     "base_uri": "https://localhost:8080/",
     "height": 36
    },
    "id": "G-rMgtbtUfD_",
    "executionInfo": {
     "status": "ok",
     "timestamp": 1709855345122,
     "user_tz": -540,
     "elapsed": 5,
     "user": {
      "displayName": "박한영",
      "userId": "03216900913188569861"
     }
    },
    "outputId": "29332eeb-6db9-4082-8b26-b3688dc36677",
    "ExecuteTime": {
     "end_time": "2024-03-11T23:49:05.521475Z",
     "start_time": "2024-03-11T23:49:05.518574Z"
    }
   },
   "execution_count": 6,
   "outputs": [
    {
     "data": {
      "text/plain": "'./machine_learning_data/friend.csv'"
     },
     "execution_count": 6,
     "metadata": {},
     "output_type": "execute_result"
    }
   ]
  },
  {
   "cell_type": "code",
   "source": [
    "df = pd.read_csv(friend_src, encoding='utf-8')"
   ],
   "metadata": {
    "id": "4irTYxnkUge_",
    "executionInfo": {
     "status": "ok",
     "timestamp": 1709855426493,
     "user_tz": -540,
     "elapsed": 291,
     "user": {
      "displayName": "박한영",
      "userId": "03216900913188569861"
     }
    },
    "ExecuteTime": {
     "end_time": "2024-03-11T23:49:05.538545Z",
     "start_time": "2024-03-11T23:49:05.534741Z"
    }
   },
   "execution_count": 7,
   "outputs": []
  },
  {
   "cell_type": "code",
   "source": [
    "# head() 데이터를 5개만 읽기\n",
    "df.head()"
   ],
   "metadata": {
    "colab": {
     "base_uri": "https://localhost:8080/",
     "height": 206
    },
    "id": "4X4130fYUw9Y",
    "executionInfo": {
     "status": "ok",
     "timestamp": 1709855542304,
     "user_tz": -540,
     "elapsed": 404,
     "user": {
      "displayName": "박한영",
      "userId": "03216900913188569861"
     }
    },
    "outputId": "4289af90-1860-4569-ffb0-3da5d406481f",
    "ExecuteTime": {
     "end_time": "2024-03-11T23:49:05.579402Z",
     "start_time": "2024-03-11T23:49:05.573794Z"
    }
   },
   "execution_count": 8,
   "outputs": [
    {
     "data": {
      "text/plain": "    name  age        job\n0   John   20    student\n1  Jenny   30  developer\n2   Nate   30    teacher\n3  Julia   40    dentist\n4  Brian   45    manager",
      "text/html": "<div>\n<style scoped>\n    .dataframe tbody tr th:only-of-type {\n        vertical-align: middle;\n    }\n\n    .dataframe tbody tr th {\n        vertical-align: top;\n    }\n\n    .dataframe thead th {\n        text-align: right;\n    }\n</style>\n<table border=\"1\" class=\"dataframe\">\n  <thead>\n    <tr style=\"text-align: right;\">\n      <th></th>\n      <th>name</th>\n      <th>age</th>\n      <th>job</th>\n    </tr>\n  </thead>\n  <tbody>\n    <tr>\n      <th>0</th>\n      <td>John</td>\n      <td>20</td>\n      <td>student</td>\n    </tr>\n    <tr>\n      <th>1</th>\n      <td>Jenny</td>\n      <td>30</td>\n      <td>developer</td>\n    </tr>\n    <tr>\n      <th>2</th>\n      <td>Nate</td>\n      <td>30</td>\n      <td>teacher</td>\n    </tr>\n    <tr>\n      <th>3</th>\n      <td>Julia</td>\n      <td>40</td>\n      <td>dentist</td>\n    </tr>\n    <tr>\n      <th>4</th>\n      <td>Brian</td>\n      <td>45</td>\n      <td>manager</td>\n    </tr>\n  </tbody>\n</table>\n</div>"
     },
     "execution_count": 8,
     "metadata": {},
     "output_type": "execute_result"
    }
   ]
  },
  {
   "cell_type": "code",
   "source": [
    "df"
   ],
   "metadata": {
    "colab": {
     "base_uri": "https://localhost:8080/",
     "height": 238
    },
    "id": "hedXZtG_U2e6",
    "executionInfo": {
     "status": "ok",
     "timestamp": 1709855532740,
     "user_tz": -540,
     "elapsed": 6,
     "user": {
      "displayName": "박한영",
      "userId": "03216900913188569861"
     }
    },
    "outputId": "bd9c8127-764e-4ec7-86ff-b5082d2e3971",
    "ExecuteTime": {
     "end_time": "2024-03-11T23:49:05.596547Z",
     "start_time": "2024-03-11T23:49:05.592157Z"
    }
   },
   "execution_count": 9,
   "outputs": [
    {
     "data": {
      "text/plain": "    name  age        job\n0   John   20    student\n1  Jenny   30  developer\n2   Nate   30    teacher\n3  Julia   40    dentist\n4  Brian   45    manager\n5  Chris   25     intern",
      "text/html": "<div>\n<style scoped>\n    .dataframe tbody tr th:only-of-type {\n        vertical-align: middle;\n    }\n\n    .dataframe tbody tr th {\n        vertical-align: top;\n    }\n\n    .dataframe thead th {\n        text-align: right;\n    }\n</style>\n<table border=\"1\" class=\"dataframe\">\n  <thead>\n    <tr style=\"text-align: right;\">\n      <th></th>\n      <th>name</th>\n      <th>age</th>\n      <th>job</th>\n    </tr>\n  </thead>\n  <tbody>\n    <tr>\n      <th>0</th>\n      <td>John</td>\n      <td>20</td>\n      <td>student</td>\n    </tr>\n    <tr>\n      <th>1</th>\n      <td>Jenny</td>\n      <td>30</td>\n      <td>developer</td>\n    </tr>\n    <tr>\n      <th>2</th>\n      <td>Nate</td>\n      <td>30</td>\n      <td>teacher</td>\n    </tr>\n    <tr>\n      <th>3</th>\n      <td>Julia</td>\n      <td>40</td>\n      <td>dentist</td>\n    </tr>\n    <tr>\n      <th>4</th>\n      <td>Brian</td>\n      <td>45</td>\n      <td>manager</td>\n    </tr>\n    <tr>\n      <th>5</th>\n      <td>Chris</td>\n      <td>25</td>\n      <td>intern</td>\n    </tr>\n  </tbody>\n</table>\n</div>"
     },
     "execution_count": 9,
     "metadata": {},
     "output_type": "execute_result"
    }
   ]
  },
  {
   "cell_type": "code",
   "source": [
    "new_friend_src = base_src + \"/new_friend_index_true.csv\""
   ],
   "metadata": {
    "id": "hQ4BiLL0VOPm",
    "executionInfo": {
     "status": "ok",
     "timestamp": 1709855702557,
     "user_tz": -540,
     "elapsed": 304,
     "user": {
      "displayName": "박한영",
      "userId": "03216900913188569861"
     }
    },
    "ExecuteTime": {
     "end_time": "2024-03-11T23:49:05.612465Z",
     "start_time": "2024-03-11T23:49:05.610508Z"
    }
   },
   "execution_count": 10,
   "outputs": []
  },
  {
   "cell_type": "code",
   "source": [
    "df.to_csv(new_friend_src, index = False, encoding = 'utf-8')"
   ],
   "metadata": {
    "id": "9XiZmsvJV3qZ",
    "executionInfo": {
     "status": "ok",
     "timestamp": 1709855759952,
     "user_tz": -540,
     "elapsed": 768,
     "user": {
      "displayName": "박한영",
      "userId": "03216900913188569861"
     }
    },
    "ExecuteTime": {
     "end_time": "2024-03-11T23:49:05.646918Z",
     "start_time": "2024-03-11T23:49:05.643592Z"
    }
   },
   "execution_count": 11,
   "outputs": []
  },
  {
   "cell_type": "code",
   "source": [
    "os.listdir(base_src)"
   ],
   "metadata": {
    "colab": {
     "base_uri": "https://localhost:8080/"
    },
    "id": "LDhlHpKvWFkB",
    "executionInfo": {
     "status": "ok",
     "timestamp": 1709855771519,
     "user_tz": -540,
     "elapsed": 4,
     "user": {
      "displayName": "박한영",
      "userId": "03216900913188569861"
     }
    },
    "outputId": "292b8c9f-745d-406f-91ec-1b9c641e71bb",
    "ExecuteTime": {
     "end_time": "2024-03-11T23:49:05.713637Z",
     "start_time": "2024-03-11T23:49:05.710430Z"
    }
   },
   "execution_count": 12,
   "outputs": [
    {
     "data": {
      "text/plain": "['new_friend.csv', 'friend.csv']"
     },
     "execution_count": 12,
     "metadata": {},
     "output_type": "execute_result"
    }
   ]
  },
  {
   "cell_type": "code",
   "source": [
    "# Series 실습\n",
    "import numpy as np\n",
    "\n",
    "np.array([1, 2, 3])\n"
   ],
   "metadata": {
    "id": "rDHWen9DWIb3",
    "ExecuteTime": {
     "end_time": "2024-03-11T23:50:13.722808Z",
     "start_time": "2024-03-11T23:50:13.719740Z"
    }
   },
   "execution_count": 13,
   "outputs": [
    {
     "data": {
      "text/plain": "array([1, 2, 3])"
     },
     "execution_count": 13,
     "metadata": {},
     "output_type": "execute_result"
    }
   ]
  },
  {
   "cell_type": "code",
   "outputs": [
    {
     "data": {
      "text/plain": "0    1\n1    2\n2    3\ndtype: int64"
     },
     "execution_count": 14,
     "metadata": {},
     "output_type": "execute_result"
    }
   ],
   "source": [
    "pd.Series([1, 2, 3])"
   ],
   "metadata": {
    "collapsed": false,
    "ExecuteTime": {
     "end_time": "2024-03-11T23:50:15.401648Z",
     "start_time": "2024-03-11T23:50:15.397629Z"
    }
   },
   "execution_count": 14
  },
  {
   "cell_type": "code",
   "outputs": [
    {
     "data": {
      "text/plain": "0     John\n1    Jenny\n2     Nate\n3    Julia\n4    Brian\n5    Chris\nName: name, dtype: object"
     },
     "execution_count": 15,
     "metadata": {},
     "output_type": "execute_result"
    }
   ],
   "source": [
    "# 데이터프레임(집합) => 시리즈 (단일) => 데이터프레임\n",
    "series = df['name']\n",
    "series"
   ],
   "metadata": {
    "collapsed": false,
    "ExecuteTime": {
     "end_time": "2024-03-11T23:50:21.910675Z",
     "start_time": "2024-03-11T23:50:21.906151Z"
    }
   },
   "execution_count": 15
  },
  {
   "cell_type": "code",
   "outputs": [
    {
     "data": {
      "text/plain": "0    1\n1    2\n2    3\n3    4\ndtype: int64"
     },
     "execution_count": 16,
     "metadata": {},
     "output_type": "execute_result"
    }
   ],
   "source": [
    "series = pd.Series([1, 2, 3, 4])\n",
    "series\n"
   ],
   "metadata": {
    "collapsed": false,
    "ExecuteTime": {
     "end_time": "2024-03-11T23:50:29.038293Z",
     "start_time": "2024-03-11T23:50:29.033916Z"
    }
   },
   "execution_count": 16
  },
  {
   "cell_type": "code",
   "outputs": [
    {
     "data": {
      "text/plain": "a    1.0\nb    2.0\nc    3.0\nd    4.0\ndtype: float64"
     },
     "execution_count": 17,
     "metadata": {},
     "output_type": "execute_result"
    }
   ],
   "source": [
    "#pd.Series의 옵션이 무엇이 있는지 확인 \n",
    "series = pd.Series([1, 2, 3, 4], index=['a', 'b', 'c', 'd'], dtype = float)\n",
    "series"
   ],
   "metadata": {
    "collapsed": false,
    "ExecuteTime": {
     "end_time": "2024-03-11T23:50:35.776842Z",
     "start_time": "2024-03-11T23:50:35.773012Z"
    }
   },
   "execution_count": 17
  },
  {
   "cell_type": "code",
   "outputs": [],
   "source": [
    "series = pd.Series([10, 2, 5, 4], index = ['a', 'b', 'c', 'd'], dtype = float)\n",
    "series = series.sort_values(ascending=True)"
   ],
   "metadata": {
    "collapsed": false,
    "ExecuteTime": {
     "end_time": "2024-03-11T23:50:44.336597Z",
     "start_time": "2024-03-11T23:50:44.333283Z"
    }
   },
   "execution_count": 18
  },
  {
   "cell_type": "code",
   "outputs": [
    {
     "data": {
      "text/plain": "a    10.0\nc     5.0\nd     4.0\nb     2.0\ndtype: float64"
     },
     "execution_count": 19,
     "metadata": {},
     "output_type": "execute_result"
    }
   ],
   "source": [
    "series.sort_values(ascending=False)"
   ],
   "metadata": {
    "collapsed": false,
    "ExecuteTime": {
     "end_time": "2024-03-11T23:50:52.498569Z",
     "start_time": "2024-03-11T23:50:52.495065Z"
    }
   },
   "execution_count": 19
  },
  {
   "cell_type": "code",
   "outputs": [
    {
     "data": {
      "text/plain": "   a   b\n0  2   5\n1  3  10",
      "text/html": "<div>\n<style scoped>\n    .dataframe tbody tr th:only-of-type {\n        vertical-align: middle;\n    }\n\n    .dataframe tbody tr th {\n        vertical-align: top;\n    }\n\n    .dataframe thead th {\n        text-align: right;\n    }\n</style>\n<table border=\"1\" class=\"dataframe\">\n  <thead>\n    <tr style=\"text-align: right;\">\n      <th></th>\n      <th>a</th>\n      <th>b</th>\n    </tr>\n  </thead>\n  <tbody>\n    <tr>\n      <th>0</th>\n      <td>2</td>\n      <td>5</td>\n    </tr>\n    <tr>\n      <th>1</th>\n      <td>3</td>\n      <td>10</td>\n    </tr>\n  </tbody>\n</table>\n</div>"
     },
     "execution_count": 21,
     "metadata": {},
     "output_type": "execute_result"
    }
   ],
   "source": [
    "df = pd.DataFrame({ 'a':[2,3], 'b':[5,10]})\n",
    "df"
   ],
   "metadata": {
    "collapsed": false,
    "ExecuteTime": {
     "end_time": "2024-03-11T23:52:59.181311Z",
     "start_time": "2024-03-11T23:52:59.174854Z"
    }
   },
   "execution_count": 21
  },
  {
   "cell_type": "code",
   "outputs": [],
   "source": [
    "new_dict = {'a':2, 'b':3}"
   ],
   "metadata": {
    "collapsed": false,
    "ExecuteTime": {
     "end_time": "2024-03-11T23:56:15.945082Z",
     "start_time": "2024-03-11T23:56:15.942813Z"
    }
   },
   "execution_count": 22
  },
  {
   "cell_type": "code",
   "outputs": [
    {
     "name": "stdout",
     "output_type": "stream",
     "text": [
      "item :  a\n",
      "value :  2\n",
      "item :  b\n",
      "value :  3\n"
     ]
    }
   ],
   "source": [
    "for item,value in new_dict.items():\n",
    "    print(\"item : \", item)\n",
    "    print(\"value : \", value)"
   ],
   "metadata": {
    "collapsed": false,
    "ExecuteTime": {
     "end_time": "2024-03-11T23:56:55.453295Z",
     "start_time": "2024-03-11T23:56:55.450007Z"
    }
   },
   "execution_count": 23
  },
  {
   "cell_type": "code",
   "outputs": [
    {
     "data": {
      "text/plain": "    a   b\n0   2   5\n1   3  10\n2  10  20",
      "text/html": "<div>\n<style scoped>\n    .dataframe tbody tr th:only-of-type {\n        vertical-align: middle;\n    }\n\n    .dataframe tbody tr th {\n        vertical-align: top;\n    }\n\n    .dataframe thead th {\n        text-align: right;\n    }\n</style>\n<table border=\"1\" class=\"dataframe\">\n  <thead>\n    <tr style=\"text-align: right;\">\n      <th></th>\n      <th>a</th>\n      <th>b</th>\n    </tr>\n  </thead>\n  <tbody>\n    <tr>\n      <th>0</th>\n      <td>2</td>\n      <td>5</td>\n    </tr>\n    <tr>\n      <th>1</th>\n      <td>3</td>\n      <td>10</td>\n    </tr>\n    <tr>\n      <th>2</th>\n      <td>10</td>\n      <td>20</td>\n    </tr>\n  </tbody>\n</table>\n</div>"
     },
     "execution_count": 25,
     "metadata": {},
     "output_type": "execute_result"
    }
   ],
   "source": [
    "df = pd.DataFrame([[2, 5], [3, 10], [10, 20]], columns=['a', 'b'])\n",
    "df"
   ],
   "metadata": {
    "collapsed": false,
    "ExecuteTime": {
     "end_time": "2024-03-11T23:58:06.049188Z",
     "start_time": "2024-03-11T23:58:06.041744Z"
    }
   },
   "execution_count": 25
  },
  {
   "cell_type": "code",
   "outputs": [
    {
     "data": {
      "text/plain": "      a     b      c\n가   2.0   5.0  100.0\n니   3.0  10.0  200.0\n디  10.0  20.0  300.0",
      "text/html": "<div>\n<style scoped>\n    .dataframe tbody tr th:only-of-type {\n        vertical-align: middle;\n    }\n\n    .dataframe tbody tr th {\n        vertical-align: top;\n    }\n\n    .dataframe thead th {\n        text-align: right;\n    }\n</style>\n<table border=\"1\" class=\"dataframe\">\n  <thead>\n    <tr style=\"text-align: right;\">\n      <th></th>\n      <th>a</th>\n      <th>b</th>\n      <th>c</th>\n    </tr>\n  </thead>\n  <tbody>\n    <tr>\n      <th>가</th>\n      <td>2.0</td>\n      <td>5.0</td>\n      <td>100.0</td>\n    </tr>\n    <tr>\n      <th>니</th>\n      <td>3.0</td>\n      <td>10.0</td>\n      <td>200.0</td>\n    </tr>\n    <tr>\n      <th>디</th>\n      <td>10.0</td>\n      <td>20.0</td>\n      <td>300.0</td>\n    </tr>\n  </tbody>\n</table>\n</div>"
     },
     "execution_count": 27,
     "metadata": {},
     "output_type": "execute_result"
    }
   ],
   "source": [
    "df = pd.DataFrame([[2, 5, 100], [3, 10, 200], [10, 20, 300]], \n",
    "                  columns=['a', 'b', 'c'], index=['가', '니', '디'], dtype=float)\n",
    "df"
   ],
   "metadata": {
    "collapsed": false,
    "ExecuteTime": {
     "end_time": "2024-03-11T23:59:11.799711Z",
     "start_time": "2024-03-11T23:59:11.791347Z"
    }
   },
   "execution_count": 27
  },
  {
   "cell_type": "code",
   "outputs": [],
   "source": [],
   "metadata": {
    "collapsed": false
   }
  }
 ]
}
