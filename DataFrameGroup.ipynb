{
 "cells": [
  {
   "cell_type": "code",
   "execution_count": 1,
   "id": "initial_id",
   "metadata": {
    "collapsed": true,
    "ExecuteTime": {
     "end_time": "2024-03-14T23:09:31.699763Z",
     "start_time": "2024-03-14T23:09:30.884039Z"
    }
   },
   "outputs": [
    {
     "data": {
      "text/plain": "['new_friend.csv', 'friend.csv', 'abalone.data', 'new_friend_index_true.csv']"
     },
     "execution_count": 1,
     "metadata": {},
     "output_type": "execute_result"
    }
   ],
   "source": [
    "import os\n",
    "import pandas as pd\n",
    "import numpy as np\n",
    "\n",
    "base_src = './machine_learning_data'\n",
    "\n",
    "os.listdir(base_src)"
   ]
  },
  {
   "cell_type": "code",
   "outputs": [],
   "source": [
    "abalone_src = base_src + '/abalone.data'"
   ],
   "metadata": {
    "collapsed": false,
    "ExecuteTime": {
     "end_time": "2024-03-14T23:09:31.703187Z",
     "start_time": "2024-03-14T23:09:31.701145Z"
    }
   },
   "id": "1d14ab3a55ee2087",
   "execution_count": 2
  },
  {
   "cell_type": "code",
   "outputs": [
    {
     "data": {
      "text/plain": "     sex  length  diameter  height  whole_weight  shucked_weight  \\\n0      M   0.455     0.365   0.095        0.5140          0.2245   \n1      M   0.350     0.265   0.090        0.2255          0.0995   \n2      F   0.530     0.420   0.135        0.6770          0.2565   \n3      M   0.440     0.365   0.125        0.5160          0.2155   \n4      I   0.330     0.255   0.080        0.2050          0.0895   \n...   ..     ...       ...     ...           ...             ...   \n4172   F   0.565     0.450   0.165        0.8870          0.3700   \n4173   M   0.590     0.440   0.135        0.9660          0.4390   \n4174   M   0.600     0.475   0.205        1.1760          0.5255   \n4175   F   0.625     0.485   0.150        1.0945          0.5310   \n4176   M   0.710     0.555   0.195        1.9485          0.9455   \n\n      viscera_weight  shell_weight  rings  \n0             0.1010        0.1500     15  \n1             0.0485        0.0700      7  \n2             0.1415        0.2100      9  \n3             0.1140        0.1550     10  \n4             0.0395        0.0550      7  \n...              ...           ...    ...  \n4172          0.2390        0.2490     11  \n4173          0.2145        0.2605     10  \n4174          0.2875        0.3080      9  \n4175          0.2610        0.2960     10  \n4176          0.3765        0.4950     12  \n\n[4177 rows x 9 columns]",
      "text/html": "<div>\n<style scoped>\n    .dataframe tbody tr th:only-of-type {\n        vertical-align: middle;\n    }\n\n    .dataframe tbody tr th {\n        vertical-align: top;\n    }\n\n    .dataframe thead th {\n        text-align: right;\n    }\n</style>\n<table border=\"1\" class=\"dataframe\">\n  <thead>\n    <tr style=\"text-align: right;\">\n      <th></th>\n      <th>sex</th>\n      <th>length</th>\n      <th>diameter</th>\n      <th>height</th>\n      <th>whole_weight</th>\n      <th>shucked_weight</th>\n      <th>viscera_weight</th>\n      <th>shell_weight</th>\n      <th>rings</th>\n    </tr>\n  </thead>\n  <tbody>\n    <tr>\n      <th>0</th>\n      <td>M</td>\n      <td>0.455</td>\n      <td>0.365</td>\n      <td>0.095</td>\n      <td>0.5140</td>\n      <td>0.2245</td>\n      <td>0.1010</td>\n      <td>0.1500</td>\n      <td>15</td>\n    </tr>\n    <tr>\n      <th>1</th>\n      <td>M</td>\n      <td>0.350</td>\n      <td>0.265</td>\n      <td>0.090</td>\n      <td>0.2255</td>\n      <td>0.0995</td>\n      <td>0.0485</td>\n      <td>0.0700</td>\n      <td>7</td>\n    </tr>\n    <tr>\n      <th>2</th>\n      <td>F</td>\n      <td>0.530</td>\n      <td>0.420</td>\n      <td>0.135</td>\n      <td>0.6770</td>\n      <td>0.2565</td>\n      <td>0.1415</td>\n      <td>0.2100</td>\n      <td>9</td>\n    </tr>\n    <tr>\n      <th>3</th>\n      <td>M</td>\n      <td>0.440</td>\n      <td>0.365</td>\n      <td>0.125</td>\n      <td>0.5160</td>\n      <td>0.2155</td>\n      <td>0.1140</td>\n      <td>0.1550</td>\n      <td>10</td>\n    </tr>\n    <tr>\n      <th>4</th>\n      <td>I</td>\n      <td>0.330</td>\n      <td>0.255</td>\n      <td>0.080</td>\n      <td>0.2050</td>\n      <td>0.0895</td>\n      <td>0.0395</td>\n      <td>0.0550</td>\n      <td>7</td>\n    </tr>\n    <tr>\n      <th>...</th>\n      <td>...</td>\n      <td>...</td>\n      <td>...</td>\n      <td>...</td>\n      <td>...</td>\n      <td>...</td>\n      <td>...</td>\n      <td>...</td>\n      <td>...</td>\n    </tr>\n    <tr>\n      <th>4172</th>\n      <td>F</td>\n      <td>0.565</td>\n      <td>0.450</td>\n      <td>0.165</td>\n      <td>0.8870</td>\n      <td>0.3700</td>\n      <td>0.2390</td>\n      <td>0.2490</td>\n      <td>11</td>\n    </tr>\n    <tr>\n      <th>4173</th>\n      <td>M</td>\n      <td>0.590</td>\n      <td>0.440</td>\n      <td>0.135</td>\n      <td>0.9660</td>\n      <td>0.4390</td>\n      <td>0.2145</td>\n      <td>0.2605</td>\n      <td>10</td>\n    </tr>\n    <tr>\n      <th>4174</th>\n      <td>M</td>\n      <td>0.600</td>\n      <td>0.475</td>\n      <td>0.205</td>\n      <td>1.1760</td>\n      <td>0.5255</td>\n      <td>0.2875</td>\n      <td>0.3080</td>\n      <td>9</td>\n    </tr>\n    <tr>\n      <th>4175</th>\n      <td>F</td>\n      <td>0.625</td>\n      <td>0.485</td>\n      <td>0.150</td>\n      <td>1.0945</td>\n      <td>0.5310</td>\n      <td>0.2610</td>\n      <td>0.2960</td>\n      <td>10</td>\n    </tr>\n    <tr>\n      <th>4176</th>\n      <td>M</td>\n      <td>0.710</td>\n      <td>0.555</td>\n      <td>0.195</td>\n      <td>1.9485</td>\n      <td>0.9455</td>\n      <td>0.3765</td>\n      <td>0.4950</td>\n      <td>12</td>\n    </tr>\n  </tbody>\n</table>\n<p>4177 rows × 9 columns</p>\n</div>"
     },
     "execution_count": 3,
     "metadata": {},
     "output_type": "execute_result"
    }
   ],
   "source": [
    "abalone_df = pd.read_csv(abalone_src, header=None, sep=',', names = ['sex', 'length', 'diameter', 'height', 'whole_weight', 'shucked_weight', 'viscera_weight', 'shell_weight', 'rings'])\n",
    "abalone_df"
   ],
   "metadata": {
    "collapsed": false,
    "ExecuteTime": {
     "end_time": "2024-03-14T23:09:31.718818Z",
     "start_time": "2024-03-14T23:09:31.704015Z"
    }
   },
   "id": "acb5dd91f2e50545",
   "execution_count": 3
  },
  {
   "cell_type": "code",
   "outputs": [
    {
     "data": {
      "text/plain": "(4177, 9)"
     },
     "execution_count": 4,
     "metadata": {},
     "output_type": "execute_result"
    }
   ],
   "source": [
    "# 데이터 shape를 확인\n",
    "# 딥러닝 (CNN) => 이미지 (데이터수, 가로, 세로, 3)\n",
    "# 딥러닝 (RNN) => 텍스트, 시계열 (데이터수, 시간, 세로)\n",
    "abalone_df.shape"
   ],
   "metadata": {
    "collapsed": false,
    "ExecuteTime": {
     "end_time": "2024-03-14T23:09:31.723100Z",
     "start_time": "2024-03-14T23:09:31.720480Z"
    }
   },
   "id": "d2c7303ccbab8a2b",
   "execution_count": 4
  },
  {
   "cell_type": "code",
   "outputs": [
    {
     "data": {
      "text/plain": "0"
     },
     "execution_count": 5,
     "metadata": {},
     "output_type": "execute_result"
    }
   ],
   "source": [
    "# 데이터 결측값 확인 \n",
    "abalone_df.isnull().sum().sum()"
   ],
   "metadata": {
    "collapsed": false,
    "ExecuteTime": {
     "end_time": "2024-03-14T23:09:31.727421Z",
     "start_time": "2024-03-14T23:09:31.723829Z"
    }
   },
   "id": "bfe49fdc4d0e72d7",
   "execution_count": 5
  },
  {
   "cell_type": "code",
   "outputs": [
    {
     "data": {
      "text/plain": "2"
     },
     "execution_count": 6,
     "metadata": {},
     "output_type": "execute_result"
    }
   ],
   "source": [
    "sum([True, False, True])"
   ],
   "metadata": {
    "collapsed": false,
    "ExecuteTime": {
     "end_time": "2024-03-14T23:09:31.730858Z",
     "start_time": "2024-03-14T23:09:31.728070Z"
    }
   },
   "id": "aaf3e901699bfa0b",
   "execution_count": 6
  },
  {
   "cell_type": "code",
   "outputs": [
    {
     "data": {
      "text/plain": "            length     diameter       height  whole_weight  shucked_weight  \\\ncount  4177.000000  4177.000000  4177.000000   4177.000000     4177.000000   \nmean      0.523992     0.407881     0.139516      0.828742        0.359367   \nstd       0.120093     0.099240     0.041827      0.490389        0.221963   \nmin       0.075000     0.055000     0.000000      0.002000        0.001000   \n25%       0.450000     0.350000     0.115000      0.441500        0.186000   \n50%       0.545000     0.425000     0.140000      0.799500        0.336000   \n75%       0.615000     0.480000     0.165000      1.153000        0.502000   \nmax       0.815000     0.650000     1.130000      2.825500        1.488000   \n\n       viscera_weight  shell_weight        rings  \ncount     4177.000000   4177.000000  4177.000000  \nmean         0.180594      0.238831     9.933684  \nstd          0.109614      0.139203     3.224169  \nmin          0.000500      0.001500     1.000000  \n25%          0.093500      0.130000     8.000000  \n50%          0.171000      0.234000     9.000000  \n75%          0.253000      0.329000    11.000000  \nmax          0.760000      1.005000    29.000000  ",
      "text/html": "<div>\n<style scoped>\n    .dataframe tbody tr th:only-of-type {\n        vertical-align: middle;\n    }\n\n    .dataframe tbody tr th {\n        vertical-align: top;\n    }\n\n    .dataframe thead th {\n        text-align: right;\n    }\n</style>\n<table border=\"1\" class=\"dataframe\">\n  <thead>\n    <tr style=\"text-align: right;\">\n      <th></th>\n      <th>length</th>\n      <th>diameter</th>\n      <th>height</th>\n      <th>whole_weight</th>\n      <th>shucked_weight</th>\n      <th>viscera_weight</th>\n      <th>shell_weight</th>\n      <th>rings</th>\n    </tr>\n  </thead>\n  <tbody>\n    <tr>\n      <th>count</th>\n      <td>4177.000000</td>\n      <td>4177.000000</td>\n      <td>4177.000000</td>\n      <td>4177.000000</td>\n      <td>4177.000000</td>\n      <td>4177.000000</td>\n      <td>4177.000000</td>\n      <td>4177.000000</td>\n    </tr>\n    <tr>\n      <th>mean</th>\n      <td>0.523992</td>\n      <td>0.407881</td>\n      <td>0.139516</td>\n      <td>0.828742</td>\n      <td>0.359367</td>\n      <td>0.180594</td>\n      <td>0.238831</td>\n      <td>9.933684</td>\n    </tr>\n    <tr>\n      <th>std</th>\n      <td>0.120093</td>\n      <td>0.099240</td>\n      <td>0.041827</td>\n      <td>0.490389</td>\n      <td>0.221963</td>\n      <td>0.109614</td>\n      <td>0.139203</td>\n      <td>3.224169</td>\n    </tr>\n    <tr>\n      <th>min</th>\n      <td>0.075000</td>\n      <td>0.055000</td>\n      <td>0.000000</td>\n      <td>0.002000</td>\n      <td>0.001000</td>\n      <td>0.000500</td>\n      <td>0.001500</td>\n      <td>1.000000</td>\n    </tr>\n    <tr>\n      <th>25%</th>\n      <td>0.450000</td>\n      <td>0.350000</td>\n      <td>0.115000</td>\n      <td>0.441500</td>\n      <td>0.186000</td>\n      <td>0.093500</td>\n      <td>0.130000</td>\n      <td>8.000000</td>\n    </tr>\n    <tr>\n      <th>50%</th>\n      <td>0.545000</td>\n      <td>0.425000</td>\n      <td>0.140000</td>\n      <td>0.799500</td>\n      <td>0.336000</td>\n      <td>0.171000</td>\n      <td>0.234000</td>\n      <td>9.000000</td>\n    </tr>\n    <tr>\n      <th>75%</th>\n      <td>0.615000</td>\n      <td>0.480000</td>\n      <td>0.165000</td>\n      <td>1.153000</td>\n      <td>0.502000</td>\n      <td>0.253000</td>\n      <td>0.329000</td>\n      <td>11.000000</td>\n    </tr>\n    <tr>\n      <th>max</th>\n      <td>0.815000</td>\n      <td>0.650000</td>\n      <td>1.130000</td>\n      <td>2.825500</td>\n      <td>1.488000</td>\n      <td>0.760000</td>\n      <td>1.005000</td>\n      <td>29.000000</td>\n    </tr>\n  </tbody>\n</table>\n</div>"
     },
     "execution_count": 7,
     "metadata": {},
     "output_type": "execute_result"
    }
   ],
   "source": [
    "# 기술통계 확인 \n",
    "abalone_df.describe()"
   ],
   "metadata": {
    "collapsed": false,
    "ExecuteTime": {
     "end_time": "2024-03-14T23:09:31.743969Z",
     "start_time": "2024-03-14T23:09:31.731670Z"
    }
   },
   "id": "8cb406f530e2aaf2",
   "execution_count": 7
  },
  {
   "cell_type": "code",
   "outputs": [
    {
     "data": {
      "text/plain": "<pandas.core.groupby.generic.SeriesGroupBy object at 0x12639b940>"
     },
     "execution_count": 8,
     "metadata": {},
     "output_type": "execute_result"
    }
   ],
   "source": [
    "grouped = abalone_df['whole_weight'].groupby(abalone_df['sex'])\n",
    "grouped"
   ],
   "metadata": {
    "collapsed": false,
    "ExecuteTime": {
     "end_time": "2024-03-14T23:09:31.747828Z",
     "start_time": "2024-03-14T23:09:31.744673Z"
    }
   },
   "id": "a8c6e9d60a0ff785",
   "execution_count": 8
  },
  {
   "cell_type": "code",
   "outputs": [
    {
     "data": {
      "text/plain": "sex\nF    1367.8175\nI     578.8885\nM    1514.9500\nName: whole_weight, dtype: float64"
     },
     "execution_count": 9,
     "metadata": {},
     "output_type": "execute_result"
    }
   ],
   "source": [
    "grouped.sum()"
   ],
   "metadata": {
    "collapsed": false,
    "ExecuteTime": {
     "end_time": "2024-03-14T23:09:31.753568Z",
     "start_time": "2024-03-14T23:09:31.748609Z"
    }
   },
   "id": "3a3e708c8edd8a95",
   "execution_count": 9
  },
  {
   "cell_type": "code",
   "outputs": [
    {
     "data": {
      "text/plain": "sex\nF    1.046532\nI    0.431363\nM    0.991459\nName: whole_weight, dtype: float64"
     },
     "execution_count": 10,
     "metadata": {},
     "output_type": "execute_result"
    }
   ],
   "source": [
    "grouped.mean()"
   ],
   "metadata": {
    "collapsed": false,
    "ExecuteTime": {
     "end_time": "2024-03-14T23:09:31.759531Z",
     "start_time": "2024-03-14T23:09:31.756099Z"
    }
   },
   "id": "9aa501c24e96677d",
   "execution_count": 10
  },
  {
   "cell_type": "code",
   "outputs": [
    {
     "data": {
      "text/plain": "sex\nF    1307\nI    1342\nM    1528\nName: whole_weight, dtype: int64"
     },
     "execution_count": 11,
     "metadata": {},
     "output_type": "execute_result"
    }
   ],
   "source": [
    "grouped.size()"
   ],
   "metadata": {
    "collapsed": false,
    "ExecuteTime": {
     "end_time": "2024-03-14T23:09:31.763956Z",
     "start_time": "2024-03-14T23:09:31.760392Z"
    }
   },
   "id": "5fe55357690615f4",
   "execution_count": 11
  },
  {
   "cell_type": "code",
   "outputs": [
    {
     "data": {
      "text/plain": "       length  diameter    height  whole_weight  shucked_weight  \\\nsex                                                               \nF    0.579093  0.454732  0.158011      1.046532        0.446188   \nI    0.427746  0.326494  0.107996      0.431363        0.191035   \nM    0.561391  0.439287  0.151381      0.991459        0.432946   \n\n     viscera_weight  shell_weight      rings  \nsex                                           \nF          0.230689      0.302010  11.129304  \nI          0.092010      0.128182   7.890462  \nM          0.215545      0.281969  10.705497  ",
      "text/html": "<div>\n<style scoped>\n    .dataframe tbody tr th:only-of-type {\n        vertical-align: middle;\n    }\n\n    .dataframe tbody tr th {\n        vertical-align: top;\n    }\n\n    .dataframe thead th {\n        text-align: right;\n    }\n</style>\n<table border=\"1\" class=\"dataframe\">\n  <thead>\n    <tr style=\"text-align: right;\">\n      <th></th>\n      <th>length</th>\n      <th>diameter</th>\n      <th>height</th>\n      <th>whole_weight</th>\n      <th>shucked_weight</th>\n      <th>viscera_weight</th>\n      <th>shell_weight</th>\n      <th>rings</th>\n    </tr>\n    <tr>\n      <th>sex</th>\n      <th></th>\n      <th></th>\n      <th></th>\n      <th></th>\n      <th></th>\n      <th></th>\n      <th></th>\n      <th></th>\n    </tr>\n  </thead>\n  <tbody>\n    <tr>\n      <th>F</th>\n      <td>0.579093</td>\n      <td>0.454732</td>\n      <td>0.158011</td>\n      <td>1.046532</td>\n      <td>0.446188</td>\n      <td>0.230689</td>\n      <td>0.302010</td>\n      <td>11.129304</td>\n    </tr>\n    <tr>\n      <th>I</th>\n      <td>0.427746</td>\n      <td>0.326494</td>\n      <td>0.107996</td>\n      <td>0.431363</td>\n      <td>0.191035</td>\n      <td>0.092010</td>\n      <td>0.128182</td>\n      <td>7.890462</td>\n    </tr>\n    <tr>\n      <th>M</th>\n      <td>0.561391</td>\n      <td>0.439287</td>\n      <td>0.151381</td>\n      <td>0.991459</td>\n      <td>0.432946</td>\n      <td>0.215545</td>\n      <td>0.281969</td>\n      <td>10.705497</td>\n    </tr>\n  </tbody>\n</table>\n</div>"
     },
     "execution_count": 12,
     "metadata": {},
     "output_type": "execute_result"
    }
   ],
   "source": [
    "# 그룹 변수 하나가 아닌, 전체 연속형 변수에 대한 집계\n",
    "abalone_df.groupby(abalone_df['sex']).mean()"
   ],
   "metadata": {
    "collapsed": false,
    "ExecuteTime": {
     "end_time": "2024-03-14T23:09:31.770800Z",
     "start_time": "2024-03-14T23:09:31.764620Z"
    }
   },
   "id": "88556824c48d24d8",
   "execution_count": 12
  },
  {
   "cell_type": "code",
   "outputs": [
    {
     "data": {
      "text/plain": "       length  diameter    height  whole_weight  shucked_weight  \\\nsex                                                               \nF    0.579093  0.454732  0.158011      1.046532        0.446188   \nI    0.427746  0.326494  0.107996      0.431363        0.191035   \nM    0.561391  0.439287  0.151381      0.991459        0.432946   \n\n     viscera_weight  shell_weight      rings  \nsex                                           \nF          0.230689      0.302010  11.129304  \nI          0.092010      0.128182   7.890462  \nM          0.215545      0.281969  10.705497  ",
      "text/html": "<div>\n<style scoped>\n    .dataframe tbody tr th:only-of-type {\n        vertical-align: middle;\n    }\n\n    .dataframe tbody tr th {\n        vertical-align: top;\n    }\n\n    .dataframe thead th {\n        text-align: right;\n    }\n</style>\n<table border=\"1\" class=\"dataframe\">\n  <thead>\n    <tr style=\"text-align: right;\">\n      <th></th>\n      <th>length</th>\n      <th>diameter</th>\n      <th>height</th>\n      <th>whole_weight</th>\n      <th>shucked_weight</th>\n      <th>viscera_weight</th>\n      <th>shell_weight</th>\n      <th>rings</th>\n    </tr>\n    <tr>\n      <th>sex</th>\n      <th></th>\n      <th></th>\n      <th></th>\n      <th></th>\n      <th></th>\n      <th></th>\n      <th></th>\n      <th></th>\n    </tr>\n  </thead>\n  <tbody>\n    <tr>\n      <th>F</th>\n      <td>0.579093</td>\n      <td>0.454732</td>\n      <td>0.158011</td>\n      <td>1.046532</td>\n      <td>0.446188</td>\n      <td>0.230689</td>\n      <td>0.302010</td>\n      <td>11.129304</td>\n    </tr>\n    <tr>\n      <th>I</th>\n      <td>0.427746</td>\n      <td>0.326494</td>\n      <td>0.107996</td>\n      <td>0.431363</td>\n      <td>0.191035</td>\n      <td>0.092010</td>\n      <td>0.128182</td>\n      <td>7.890462</td>\n    </tr>\n    <tr>\n      <th>M</th>\n      <td>0.561391</td>\n      <td>0.439287</td>\n      <td>0.151381</td>\n      <td>0.991459</td>\n      <td>0.432946</td>\n      <td>0.215545</td>\n      <td>0.281969</td>\n      <td>10.705497</td>\n    </tr>\n  </tbody>\n</table>\n</div>"
     },
     "execution_count": 13,
     "metadata": {},
     "output_type": "execute_result"
    }
   ],
   "source": [
    "abalone_df.groupby('sex').mean()"
   ],
   "metadata": {
    "collapsed": false,
    "ExecuteTime": {
     "end_time": "2024-03-14T23:09:31.776943Z",
     "start_time": "2024-03-14T23:09:31.771476Z"
    }
   },
   "id": "f34ba070cda9a5b",
   "execution_count": 13
  },
  {
   "cell_type": "markdown",
   "source": [],
   "metadata": {
    "collapsed": false
   },
   "id": "73014f7f0b16dc75"
  },
  {
   "cell_type": "code",
   "outputs": [],
   "source": [
    "abalone_df['length_bool'] = np.where(abalone_df['length']>abalone_df['length'].median(),\n",
    "                                     'length_long',\n",
    "                                     'length_short')"
   ],
   "metadata": {
    "collapsed": false,
    "ExecuteTime": {
     "end_time": "2024-03-14T23:09:31.780750Z",
     "start_time": "2024-03-14T23:09:31.777616Z"
    }
   },
   "id": "b25dee73de42f0c0",
   "execution_count": 14
  },
  {
   "cell_type": "code",
   "outputs": [
    {
     "data": {
      "text/plain": "     sex  length  diameter  height  whole_weight  shucked_weight  \\\n0      M   0.455     0.365   0.095        0.5140          0.2245   \n1      M   0.350     0.265   0.090        0.2255          0.0995   \n2      F   0.530     0.420   0.135        0.6770          0.2565   \n3      M   0.440     0.365   0.125        0.5160          0.2155   \n4      I   0.330     0.255   0.080        0.2050          0.0895   \n...   ..     ...       ...     ...           ...             ...   \n4172   F   0.565     0.450   0.165        0.8870          0.3700   \n4173   M   0.590     0.440   0.135        0.9660          0.4390   \n4174   M   0.600     0.475   0.205        1.1760          0.5255   \n4175   F   0.625     0.485   0.150        1.0945          0.5310   \n4176   M   0.710     0.555   0.195        1.9485          0.9455   \n\n      viscera_weight  shell_weight  rings   length_bool  \n0             0.1010        0.1500     15  length_short  \n1             0.0485        0.0700      7  length_short  \n2             0.1415        0.2100      9  length_short  \n3             0.1140        0.1550     10  length_short  \n4             0.0395        0.0550      7  length_short  \n...              ...           ...    ...           ...  \n4172          0.2390        0.2490     11   length_long  \n4173          0.2145        0.2605     10   length_long  \n4174          0.2875        0.3080      9   length_long  \n4175          0.2610        0.2960     10   length_long  \n4176          0.3765        0.4950     12   length_long  \n\n[4177 rows x 10 columns]",
      "text/html": "<div>\n<style scoped>\n    .dataframe tbody tr th:only-of-type {\n        vertical-align: middle;\n    }\n\n    .dataframe tbody tr th {\n        vertical-align: top;\n    }\n\n    .dataframe thead th {\n        text-align: right;\n    }\n</style>\n<table border=\"1\" class=\"dataframe\">\n  <thead>\n    <tr style=\"text-align: right;\">\n      <th></th>\n      <th>sex</th>\n      <th>length</th>\n      <th>diameter</th>\n      <th>height</th>\n      <th>whole_weight</th>\n      <th>shucked_weight</th>\n      <th>viscera_weight</th>\n      <th>shell_weight</th>\n      <th>rings</th>\n      <th>length_bool</th>\n    </tr>\n  </thead>\n  <tbody>\n    <tr>\n      <th>0</th>\n      <td>M</td>\n      <td>0.455</td>\n      <td>0.365</td>\n      <td>0.095</td>\n      <td>0.5140</td>\n      <td>0.2245</td>\n      <td>0.1010</td>\n      <td>0.1500</td>\n      <td>15</td>\n      <td>length_short</td>\n    </tr>\n    <tr>\n      <th>1</th>\n      <td>M</td>\n      <td>0.350</td>\n      <td>0.265</td>\n      <td>0.090</td>\n      <td>0.2255</td>\n      <td>0.0995</td>\n      <td>0.0485</td>\n      <td>0.0700</td>\n      <td>7</td>\n      <td>length_short</td>\n    </tr>\n    <tr>\n      <th>2</th>\n      <td>F</td>\n      <td>0.530</td>\n      <td>0.420</td>\n      <td>0.135</td>\n      <td>0.6770</td>\n      <td>0.2565</td>\n      <td>0.1415</td>\n      <td>0.2100</td>\n      <td>9</td>\n      <td>length_short</td>\n    </tr>\n    <tr>\n      <th>3</th>\n      <td>M</td>\n      <td>0.440</td>\n      <td>0.365</td>\n      <td>0.125</td>\n      <td>0.5160</td>\n      <td>0.2155</td>\n      <td>0.1140</td>\n      <td>0.1550</td>\n      <td>10</td>\n      <td>length_short</td>\n    </tr>\n    <tr>\n      <th>4</th>\n      <td>I</td>\n      <td>0.330</td>\n      <td>0.255</td>\n      <td>0.080</td>\n      <td>0.2050</td>\n      <td>0.0895</td>\n      <td>0.0395</td>\n      <td>0.0550</td>\n      <td>7</td>\n      <td>length_short</td>\n    </tr>\n    <tr>\n      <th>...</th>\n      <td>...</td>\n      <td>...</td>\n      <td>...</td>\n      <td>...</td>\n      <td>...</td>\n      <td>...</td>\n      <td>...</td>\n      <td>...</td>\n      <td>...</td>\n      <td>...</td>\n    </tr>\n    <tr>\n      <th>4172</th>\n      <td>F</td>\n      <td>0.565</td>\n      <td>0.450</td>\n      <td>0.165</td>\n      <td>0.8870</td>\n      <td>0.3700</td>\n      <td>0.2390</td>\n      <td>0.2490</td>\n      <td>11</td>\n      <td>length_long</td>\n    </tr>\n    <tr>\n      <th>4173</th>\n      <td>M</td>\n      <td>0.590</td>\n      <td>0.440</td>\n      <td>0.135</td>\n      <td>0.9660</td>\n      <td>0.4390</td>\n      <td>0.2145</td>\n      <td>0.2605</td>\n      <td>10</td>\n      <td>length_long</td>\n    </tr>\n    <tr>\n      <th>4174</th>\n      <td>M</td>\n      <td>0.600</td>\n      <td>0.475</td>\n      <td>0.205</td>\n      <td>1.1760</td>\n      <td>0.5255</td>\n      <td>0.2875</td>\n      <td>0.3080</td>\n      <td>9</td>\n      <td>length_long</td>\n    </tr>\n    <tr>\n      <th>4175</th>\n      <td>F</td>\n      <td>0.625</td>\n      <td>0.485</td>\n      <td>0.150</td>\n      <td>1.0945</td>\n      <td>0.5310</td>\n      <td>0.2610</td>\n      <td>0.2960</td>\n      <td>10</td>\n      <td>length_long</td>\n    </tr>\n    <tr>\n      <th>4176</th>\n      <td>M</td>\n      <td>0.710</td>\n      <td>0.555</td>\n      <td>0.195</td>\n      <td>1.9485</td>\n      <td>0.9455</td>\n      <td>0.3765</td>\n      <td>0.4950</td>\n      <td>12</td>\n      <td>length_long</td>\n    </tr>\n  </tbody>\n</table>\n<p>4177 rows × 10 columns</p>\n</div>"
     },
     "execution_count": 15,
     "metadata": {},
     "output_type": "execute_result"
    }
   ],
   "source": [
    "abalone_df"
   ],
   "metadata": {
    "collapsed": false,
    "ExecuteTime": {
     "end_time": "2024-03-14T23:09:31.787684Z",
     "start_time": "2024-03-14T23:09:31.781354Z"
    }
   },
   "id": "c4e177c3aa863823",
   "execution_count": 15
  },
  {
   "cell_type": "code",
   "outputs": [
    {
     "data": {
      "text/plain": "                    length  diameter    height  whole_weight  shucked_weight  \\\nsex length_bool                                                                \nF   length_long   0.626895  0.493020  0.169944      1.261330        0.542957   \n    length_short  0.477428  0.373301  0.132632      0.589702        0.240380   \nI   length_long   0.584495  0.452952  0.150957      0.923215        0.402524   \n    length_short  0.402210  0.305893  0.100997      0.351234        0.156581   \nM   length_long   0.623359  0.489291  0.168670      1.255182        0.554312   \n    length_short  0.454875  0.353336  0.121664      0.538157        0.224335   \n\n                  viscera_weight  shell_weight      rings  \nsex length_bool                                            \nF   length_long         0.276945      0.360013  11.415073  \n    length_short        0.132311      0.178650  10.521531  \nI   length_long         0.196912      0.273247  10.585106  \n    length_short        0.074920      0.104549   7.451473  \nM   length_long         0.272203      0.351683  11.299172  \n    length_short        0.118156      0.162141   9.685053  ",
      "text/html": "<div>\n<style scoped>\n    .dataframe tbody tr th:only-of-type {\n        vertical-align: middle;\n    }\n\n    .dataframe tbody tr th {\n        vertical-align: top;\n    }\n\n    .dataframe thead th {\n        text-align: right;\n    }\n</style>\n<table border=\"1\" class=\"dataframe\">\n  <thead>\n    <tr style=\"text-align: right;\">\n      <th></th>\n      <th></th>\n      <th>length</th>\n      <th>diameter</th>\n      <th>height</th>\n      <th>whole_weight</th>\n      <th>shucked_weight</th>\n      <th>viscera_weight</th>\n      <th>shell_weight</th>\n      <th>rings</th>\n    </tr>\n    <tr>\n      <th>sex</th>\n      <th>length_bool</th>\n      <th></th>\n      <th></th>\n      <th></th>\n      <th></th>\n      <th></th>\n      <th></th>\n      <th></th>\n      <th></th>\n    </tr>\n  </thead>\n  <tbody>\n    <tr>\n      <th rowspan=\"2\" valign=\"top\">F</th>\n      <th>length_long</th>\n      <td>0.626895</td>\n      <td>0.493020</td>\n      <td>0.169944</td>\n      <td>1.261330</td>\n      <td>0.542957</td>\n      <td>0.276945</td>\n      <td>0.360013</td>\n      <td>11.415073</td>\n    </tr>\n    <tr>\n      <th>length_short</th>\n      <td>0.477428</td>\n      <td>0.373301</td>\n      <td>0.132632</td>\n      <td>0.589702</td>\n      <td>0.240380</td>\n      <td>0.132311</td>\n      <td>0.178650</td>\n      <td>10.521531</td>\n    </tr>\n    <tr>\n      <th rowspan=\"2\" valign=\"top\">I</th>\n      <th>length_long</th>\n      <td>0.584495</td>\n      <td>0.452952</td>\n      <td>0.150957</td>\n      <td>0.923215</td>\n      <td>0.402524</td>\n      <td>0.196912</td>\n      <td>0.273247</td>\n      <td>10.585106</td>\n    </tr>\n    <tr>\n      <th>length_short</th>\n      <td>0.402210</td>\n      <td>0.305893</td>\n      <td>0.100997</td>\n      <td>0.351234</td>\n      <td>0.156581</td>\n      <td>0.074920</td>\n      <td>0.104549</td>\n      <td>7.451473</td>\n    </tr>\n    <tr>\n      <th rowspan=\"2\" valign=\"top\">M</th>\n      <th>length_long</th>\n      <td>0.623359</td>\n      <td>0.489291</td>\n      <td>0.168670</td>\n      <td>1.255182</td>\n      <td>0.554312</td>\n      <td>0.272203</td>\n      <td>0.351683</td>\n      <td>11.299172</td>\n    </tr>\n    <tr>\n      <th>length_short</th>\n      <td>0.454875</td>\n      <td>0.353336</td>\n      <td>0.121664</td>\n      <td>0.538157</td>\n      <td>0.224335</td>\n      <td>0.118156</td>\n      <td>0.162141</td>\n      <td>9.685053</td>\n    </tr>\n  </tbody>\n</table>\n</div>"
     },
     "execution_count": 16,
     "metadata": {},
     "output_type": "execute_result"
    }
   ],
   "source": [
    "abalone_df.groupby(['sex', 'length_bool']).mean()"
   ],
   "metadata": {
    "collapsed": false,
    "ExecuteTime": {
     "end_time": "2024-03-14T23:09:31.795042Z",
     "start_time": "2024-03-14T23:09:31.788432Z"
    }
   },
   "id": "2a4eef0004c128c",
   "execution_count": 16
  },
  {
   "cell_type": "code",
   "outputs": [
    {
     "data": {
      "text/plain": "sex  length_bool \nF    length_long     1.261330\n     length_short    0.589702\nI    length_long     0.923215\n     length_short    0.351234\nM    length_long     1.255182\n     length_short    0.538157\nName: whole_weight, dtype: float64"
     },
     "execution_count": 17,
     "metadata": {},
     "output_type": "execute_result"
    }
   ],
   "source": [
    "abalone_df.groupby(['sex', 'length_bool'])['whole_weight'].mean()"
   ],
   "metadata": {
    "collapsed": false,
    "ExecuteTime": {
     "end_time": "2024-03-14T23:09:31.800146Z",
     "start_time": "2024-03-14T23:09:31.795667Z"
    }
   },
   "id": "cd17e8d84aea0cf5",
   "execution_count": 17
  },
  {
   "cell_type": "code",
   "outputs": [
    {
     "data": {
      "text/plain": "     sex  length  diameter  height  whole_weight  shucked_weight  \\\n0      M   0.455     0.365   0.095        0.5140          0.2245   \n1      M   0.350     0.265   0.090        0.2255          0.0995   \n2      F   0.530     0.420   0.135        0.6770          0.2565   \n3      M   0.440     0.365   0.125        0.5160          0.2155   \n4      I   0.330     0.255   0.080        0.2050          0.0895   \n...   ..     ...       ...     ...           ...             ...   \n4172   F   0.565     0.450   0.165        0.8870          0.3700   \n4173   M   0.590     0.440   0.135        0.9660          0.4390   \n4174   M   0.600     0.475   0.205        1.1760          0.5255   \n4175   F   0.625     0.485   0.150        1.0945          0.5310   \n4176   M   0.710     0.555   0.195        1.9485          0.9455   \n\n      viscera_weight  shell_weight  rings   length_bool  \n0             0.1010        0.1500     15  length_short  \n1             0.0485        0.0700      7  length_short  \n2             0.1415        0.2100      9  length_short  \n3             0.1140        0.1550     10  length_short  \n4             0.0395        0.0550      7  length_short  \n...              ...           ...    ...           ...  \n4172          0.2390        0.2490     11   length_long  \n4173          0.2145        0.2605     10   length_long  \n4174          0.2875        0.3080      9   length_long  \n4175          0.2610        0.2960     10   length_long  \n4176          0.3765        0.4950     12   length_long  \n\n[4177 rows x 10 columns]",
      "text/html": "<div>\n<style scoped>\n    .dataframe tbody tr th:only-of-type {\n        vertical-align: middle;\n    }\n\n    .dataframe tbody tr th {\n        vertical-align: top;\n    }\n\n    .dataframe thead th {\n        text-align: right;\n    }\n</style>\n<table border=\"1\" class=\"dataframe\">\n  <thead>\n    <tr style=\"text-align: right;\">\n      <th></th>\n      <th>sex</th>\n      <th>length</th>\n      <th>diameter</th>\n      <th>height</th>\n      <th>whole_weight</th>\n      <th>shucked_weight</th>\n      <th>viscera_weight</th>\n      <th>shell_weight</th>\n      <th>rings</th>\n      <th>length_bool</th>\n    </tr>\n  </thead>\n  <tbody>\n    <tr>\n      <th>0</th>\n      <td>M</td>\n      <td>0.455</td>\n      <td>0.365</td>\n      <td>0.095</td>\n      <td>0.5140</td>\n      <td>0.2245</td>\n      <td>0.1010</td>\n      <td>0.1500</td>\n      <td>15</td>\n      <td>length_short</td>\n    </tr>\n    <tr>\n      <th>1</th>\n      <td>M</td>\n      <td>0.350</td>\n      <td>0.265</td>\n      <td>0.090</td>\n      <td>0.2255</td>\n      <td>0.0995</td>\n      <td>0.0485</td>\n      <td>0.0700</td>\n      <td>7</td>\n      <td>length_short</td>\n    </tr>\n    <tr>\n      <th>2</th>\n      <td>F</td>\n      <td>0.530</td>\n      <td>0.420</td>\n      <td>0.135</td>\n      <td>0.6770</td>\n      <td>0.2565</td>\n      <td>0.1415</td>\n      <td>0.2100</td>\n      <td>9</td>\n      <td>length_short</td>\n    </tr>\n    <tr>\n      <th>3</th>\n      <td>M</td>\n      <td>0.440</td>\n      <td>0.365</td>\n      <td>0.125</td>\n      <td>0.5160</td>\n      <td>0.2155</td>\n      <td>0.1140</td>\n      <td>0.1550</td>\n      <td>10</td>\n      <td>length_short</td>\n    </tr>\n    <tr>\n      <th>4</th>\n      <td>I</td>\n      <td>0.330</td>\n      <td>0.255</td>\n      <td>0.080</td>\n      <td>0.2050</td>\n      <td>0.0895</td>\n      <td>0.0395</td>\n      <td>0.0550</td>\n      <td>7</td>\n      <td>length_short</td>\n    </tr>\n    <tr>\n      <th>...</th>\n      <td>...</td>\n      <td>...</td>\n      <td>...</td>\n      <td>...</td>\n      <td>...</td>\n      <td>...</td>\n      <td>...</td>\n      <td>...</td>\n      <td>...</td>\n      <td>...</td>\n    </tr>\n    <tr>\n      <th>4172</th>\n      <td>F</td>\n      <td>0.565</td>\n      <td>0.450</td>\n      <td>0.165</td>\n      <td>0.8870</td>\n      <td>0.3700</td>\n      <td>0.2390</td>\n      <td>0.2490</td>\n      <td>11</td>\n      <td>length_long</td>\n    </tr>\n    <tr>\n      <th>4173</th>\n      <td>M</td>\n      <td>0.590</td>\n      <td>0.440</td>\n      <td>0.135</td>\n      <td>0.9660</td>\n      <td>0.4390</td>\n      <td>0.2145</td>\n      <td>0.2605</td>\n      <td>10</td>\n      <td>length_long</td>\n    </tr>\n    <tr>\n      <th>4174</th>\n      <td>M</td>\n      <td>0.600</td>\n      <td>0.475</td>\n      <td>0.205</td>\n      <td>1.1760</td>\n      <td>0.5255</td>\n      <td>0.2875</td>\n      <td>0.3080</td>\n      <td>9</td>\n      <td>length_long</td>\n    </tr>\n    <tr>\n      <th>4175</th>\n      <td>F</td>\n      <td>0.625</td>\n      <td>0.485</td>\n      <td>0.150</td>\n      <td>1.0945</td>\n      <td>0.5310</td>\n      <td>0.2610</td>\n      <td>0.2960</td>\n      <td>10</td>\n      <td>length_long</td>\n    </tr>\n    <tr>\n      <th>4176</th>\n      <td>M</td>\n      <td>0.710</td>\n      <td>0.555</td>\n      <td>0.195</td>\n      <td>1.9485</td>\n      <td>0.9455</td>\n      <td>0.3765</td>\n      <td>0.4950</td>\n      <td>12</td>\n      <td>length_long</td>\n    </tr>\n  </tbody>\n</table>\n<p>4177 rows × 10 columns</p>\n</div>"
     },
     "execution_count": 18,
     "metadata": {},
     "output_type": "execute_result"
    }
   ],
   "source": [
    "abalone_df"
   ],
   "metadata": {
    "collapsed": false,
    "ExecuteTime": {
     "end_time": "2024-03-14T23:09:51.377848Z",
     "start_time": "2024-03-14T23:09:51.362619Z"
    }
   },
   "id": "8171651eb78b3196",
   "execution_count": 18
  },
  {
   "cell_type": "code",
   "outputs": [
    {
     "data": {
      "text/plain": "0"
     },
     "execution_count": 20,
     "metadata": {},
     "output_type": "execute_result"
    }
   ],
   "source": [
    "abalone_df.duplicated().sum()"
   ],
   "metadata": {
    "collapsed": false,
    "ExecuteTime": {
     "end_time": "2024-03-14T23:10:35.618460Z",
     "start_time": "2024-03-14T23:10:35.613003Z"
    }
   },
   "id": "5bd4b2c1089d8c65",
   "execution_count": 20
  },
  {
   "cell_type": "code",
   "outputs": [
    {
     "data": {
      "text/plain": "     sex  length  diameter  height  whole_weight  shucked_weight  \\\n0      M   0.455     0.365   0.095        0.5140          0.2245   \n1      M   0.350     0.265   0.090        0.2255          0.0995   \n2      F   0.530     0.420   0.135        0.6770          0.2565   \n3      M   0.440     0.365   0.125        0.5160          0.2155   \n4      I   0.330     0.255   0.080        0.2050          0.0895   \n...   ..     ...       ...     ...           ...             ...   \n4173   M   0.590     0.440   0.135        0.9660          0.4390   \n4174   M   0.600     0.475   0.205        1.1760          0.5255   \n4175   F   0.625     0.485   0.150        1.0945          0.5310   \n4176   M   0.710     0.555   0.195        1.9485          0.9455   \n0      M   0.455     0.365   0.095        0.5140          0.2245   \n\n      viscera_weight  shell_weight  rings   length_bool  \n0             0.1010        0.1500     15  length_short  \n1             0.0485        0.0700      7  length_short  \n2             0.1415        0.2100      9  length_short  \n3             0.1140        0.1550     10  length_short  \n4             0.0395        0.0550      7  length_short  \n...              ...           ...    ...           ...  \n4173          0.2145        0.2605     10   length_long  \n4174          0.2875        0.3080      9   length_long  \n4175          0.2610        0.2960     10   length_long  \n4176          0.3765        0.4950     12   length_long  \n0             0.1010        0.1500     15  length_short  \n\n[4178 rows x 10 columns]",
      "text/html": "<div>\n<style scoped>\n    .dataframe tbody tr th:only-of-type {\n        vertical-align: middle;\n    }\n\n    .dataframe tbody tr th {\n        vertical-align: top;\n    }\n\n    .dataframe thead th {\n        text-align: right;\n    }\n</style>\n<table border=\"1\" class=\"dataframe\">\n  <thead>\n    <tr style=\"text-align: right;\">\n      <th></th>\n      <th>sex</th>\n      <th>length</th>\n      <th>diameter</th>\n      <th>height</th>\n      <th>whole_weight</th>\n      <th>shucked_weight</th>\n      <th>viscera_weight</th>\n      <th>shell_weight</th>\n      <th>rings</th>\n      <th>length_bool</th>\n    </tr>\n  </thead>\n  <tbody>\n    <tr>\n      <th>0</th>\n      <td>M</td>\n      <td>0.455</td>\n      <td>0.365</td>\n      <td>0.095</td>\n      <td>0.5140</td>\n      <td>0.2245</td>\n      <td>0.1010</td>\n      <td>0.1500</td>\n      <td>15</td>\n      <td>length_short</td>\n    </tr>\n    <tr>\n      <th>1</th>\n      <td>M</td>\n      <td>0.350</td>\n      <td>0.265</td>\n      <td>0.090</td>\n      <td>0.2255</td>\n      <td>0.0995</td>\n      <td>0.0485</td>\n      <td>0.0700</td>\n      <td>7</td>\n      <td>length_short</td>\n    </tr>\n    <tr>\n      <th>2</th>\n      <td>F</td>\n      <td>0.530</td>\n      <td>0.420</td>\n      <td>0.135</td>\n      <td>0.6770</td>\n      <td>0.2565</td>\n      <td>0.1415</td>\n      <td>0.2100</td>\n      <td>9</td>\n      <td>length_short</td>\n    </tr>\n    <tr>\n      <th>3</th>\n      <td>M</td>\n      <td>0.440</td>\n      <td>0.365</td>\n      <td>0.125</td>\n      <td>0.5160</td>\n      <td>0.2155</td>\n      <td>0.1140</td>\n      <td>0.1550</td>\n      <td>10</td>\n      <td>length_short</td>\n    </tr>\n    <tr>\n      <th>4</th>\n      <td>I</td>\n      <td>0.330</td>\n      <td>0.255</td>\n      <td>0.080</td>\n      <td>0.2050</td>\n      <td>0.0895</td>\n      <td>0.0395</td>\n      <td>0.0550</td>\n      <td>7</td>\n      <td>length_short</td>\n    </tr>\n    <tr>\n      <th>...</th>\n      <td>...</td>\n      <td>...</td>\n      <td>...</td>\n      <td>...</td>\n      <td>...</td>\n      <td>...</td>\n      <td>...</td>\n      <td>...</td>\n      <td>...</td>\n      <td>...</td>\n    </tr>\n    <tr>\n      <th>4173</th>\n      <td>M</td>\n      <td>0.590</td>\n      <td>0.440</td>\n      <td>0.135</td>\n      <td>0.9660</td>\n      <td>0.4390</td>\n      <td>0.2145</td>\n      <td>0.2605</td>\n      <td>10</td>\n      <td>length_long</td>\n    </tr>\n    <tr>\n      <th>4174</th>\n      <td>M</td>\n      <td>0.600</td>\n      <td>0.475</td>\n      <td>0.205</td>\n      <td>1.1760</td>\n      <td>0.5255</td>\n      <td>0.2875</td>\n      <td>0.3080</td>\n      <td>9</td>\n      <td>length_long</td>\n    </tr>\n    <tr>\n      <th>4175</th>\n      <td>F</td>\n      <td>0.625</td>\n      <td>0.485</td>\n      <td>0.150</td>\n      <td>1.0945</td>\n      <td>0.5310</td>\n      <td>0.2610</td>\n      <td>0.2960</td>\n      <td>10</td>\n      <td>length_long</td>\n    </tr>\n    <tr>\n      <th>4176</th>\n      <td>M</td>\n      <td>0.710</td>\n      <td>0.555</td>\n      <td>0.195</td>\n      <td>1.9485</td>\n      <td>0.9455</td>\n      <td>0.3765</td>\n      <td>0.4950</td>\n      <td>12</td>\n      <td>length_long</td>\n    </tr>\n    <tr>\n      <th>0</th>\n      <td>M</td>\n      <td>0.455</td>\n      <td>0.365</td>\n      <td>0.095</td>\n      <td>0.5140</td>\n      <td>0.2245</td>\n      <td>0.1010</td>\n      <td>0.1500</td>\n      <td>15</td>\n      <td>length_short</td>\n    </tr>\n  </tbody>\n</table>\n<p>4178 rows × 10 columns</p>\n</div>"
     },
     "execution_count": 25,
     "metadata": {},
     "output_type": "execute_result"
    }
   ],
   "source": [
    "new_abalone = abalone_df.iloc[[0]]\n",
    "new_abalone_df = pd.concat([abalone_df, new_abalone], axis=0)\n",
    "new_abalone_df"
   ],
   "metadata": {
    "collapsed": false,
    "ExecuteTime": {
     "end_time": "2024-03-14T23:13:03.187991Z",
     "start_time": "2024-03-14T23:13:03.180019Z"
    }
   },
   "id": "e44dd531aa816db3",
   "execution_count": 25
  },
  {
   "cell_type": "code",
   "outputs": [
    {
     "data": {
      "text/plain": "1"
     },
     "execution_count": 26,
     "metadata": {},
     "output_type": "execute_result"
    }
   ],
   "source": [
    "new_abalone_df.duplicated().sum()"
   ],
   "metadata": {
    "collapsed": false,
    "ExecuteTime": {
     "end_time": "2024-03-14T23:13:17.925969Z",
     "start_time": "2024-03-14T23:13:17.920811Z"
    }
   },
   "id": "ec79fd41340f86e5",
   "execution_count": 26
  },
  {
   "cell_type": "code",
   "outputs": [
    {
     "data": {
      "text/plain": "0        True\n1       False\n2       False\n3       False\n4       False\n        ...  \n4173    False\n4174    False\n4175    False\n4176    False\n0       False\nLength: 4178, dtype: bool"
     },
     "execution_count": 27,
     "metadata": {},
     "output_type": "execute_result"
    }
   ],
   "source": [
    "new_abalone_df.duplicated(keep='last')"
   ],
   "metadata": {
    "collapsed": false,
    "ExecuteTime": {
     "end_time": "2024-03-14T23:15:06.292879Z",
     "start_time": "2024-03-14T23:15:06.286916Z"
    }
   },
   "id": "bdaf85220df0dae1",
   "execution_count": 27
  },
  {
   "cell_type": "code",
   "outputs": [
    {
     "data": {
      "text/plain": "     sex  length  diameter  height  whole_weight  shucked_weight  \\\n0      M   0.455     0.365   0.095        0.5140          0.2245   \n1      M   0.350     0.265   0.090        0.2255          0.0995   \n2      F   0.530     0.420   0.135        0.6770          0.2565   \n3      M   0.440     0.365   0.125        0.5160          0.2155   \n4      I   0.330     0.255   0.080        0.2050          0.0895   \n...   ..     ...       ...     ...           ...             ...   \n4172   F   0.565     0.450   0.165        0.8870          0.3700   \n4173   M   0.590     0.440   0.135        0.9660          0.4390   \n4174   M   0.600     0.475   0.205        1.1760          0.5255   \n4175   F   0.625     0.485   0.150        1.0945          0.5310   \n4176   M   0.710     0.555   0.195        1.9485          0.9455   \n\n      viscera_weight  shell_weight  rings   length_bool  \n0             0.1010        0.1500     15  length_short  \n1             0.0485        0.0700      7  length_short  \n2             0.1415        0.2100      9  length_short  \n3             0.1140        0.1550     10  length_short  \n4             0.0395        0.0550      7  length_short  \n...              ...           ...    ...           ...  \n4172          0.2390        0.2490     11   length_long  \n4173          0.2145        0.2605     10   length_long  \n4174          0.2875        0.3080      9   length_long  \n4175          0.2610        0.2960     10   length_long  \n4176          0.3765        0.4950     12   length_long  \n\n[4177 rows x 10 columns]",
      "text/html": "<div>\n<style scoped>\n    .dataframe tbody tr th:only-of-type {\n        vertical-align: middle;\n    }\n\n    .dataframe tbody tr th {\n        vertical-align: top;\n    }\n\n    .dataframe thead th {\n        text-align: right;\n    }\n</style>\n<table border=\"1\" class=\"dataframe\">\n  <thead>\n    <tr style=\"text-align: right;\">\n      <th></th>\n      <th>sex</th>\n      <th>length</th>\n      <th>diameter</th>\n      <th>height</th>\n      <th>whole_weight</th>\n      <th>shucked_weight</th>\n      <th>viscera_weight</th>\n      <th>shell_weight</th>\n      <th>rings</th>\n      <th>length_bool</th>\n    </tr>\n  </thead>\n  <tbody>\n    <tr>\n      <th>0</th>\n      <td>M</td>\n      <td>0.455</td>\n      <td>0.365</td>\n      <td>0.095</td>\n      <td>0.5140</td>\n      <td>0.2245</td>\n      <td>0.1010</td>\n      <td>0.1500</td>\n      <td>15</td>\n      <td>length_short</td>\n    </tr>\n    <tr>\n      <th>1</th>\n      <td>M</td>\n      <td>0.350</td>\n      <td>0.265</td>\n      <td>0.090</td>\n      <td>0.2255</td>\n      <td>0.0995</td>\n      <td>0.0485</td>\n      <td>0.0700</td>\n      <td>7</td>\n      <td>length_short</td>\n    </tr>\n    <tr>\n      <th>2</th>\n      <td>F</td>\n      <td>0.530</td>\n      <td>0.420</td>\n      <td>0.135</td>\n      <td>0.6770</td>\n      <td>0.2565</td>\n      <td>0.1415</td>\n      <td>0.2100</td>\n      <td>9</td>\n      <td>length_short</td>\n    </tr>\n    <tr>\n      <th>3</th>\n      <td>M</td>\n      <td>0.440</td>\n      <td>0.365</td>\n      <td>0.125</td>\n      <td>0.5160</td>\n      <td>0.2155</td>\n      <td>0.1140</td>\n      <td>0.1550</td>\n      <td>10</td>\n      <td>length_short</td>\n    </tr>\n    <tr>\n      <th>4</th>\n      <td>I</td>\n      <td>0.330</td>\n      <td>0.255</td>\n      <td>0.080</td>\n      <td>0.2050</td>\n      <td>0.0895</td>\n      <td>0.0395</td>\n      <td>0.0550</td>\n      <td>7</td>\n      <td>length_short</td>\n    </tr>\n    <tr>\n      <th>...</th>\n      <td>...</td>\n      <td>...</td>\n      <td>...</td>\n      <td>...</td>\n      <td>...</td>\n      <td>...</td>\n      <td>...</td>\n      <td>...</td>\n      <td>...</td>\n      <td>...</td>\n    </tr>\n    <tr>\n      <th>4172</th>\n      <td>F</td>\n      <td>0.565</td>\n      <td>0.450</td>\n      <td>0.165</td>\n      <td>0.8870</td>\n      <td>0.3700</td>\n      <td>0.2390</td>\n      <td>0.2490</td>\n      <td>11</td>\n      <td>length_long</td>\n    </tr>\n    <tr>\n      <th>4173</th>\n      <td>M</td>\n      <td>0.590</td>\n      <td>0.440</td>\n      <td>0.135</td>\n      <td>0.9660</td>\n      <td>0.4390</td>\n      <td>0.2145</td>\n      <td>0.2605</td>\n      <td>10</td>\n      <td>length_long</td>\n    </tr>\n    <tr>\n      <th>4174</th>\n      <td>M</td>\n      <td>0.600</td>\n      <td>0.475</td>\n      <td>0.205</td>\n      <td>1.1760</td>\n      <td>0.5255</td>\n      <td>0.2875</td>\n      <td>0.3080</td>\n      <td>9</td>\n      <td>length_long</td>\n    </tr>\n    <tr>\n      <th>4175</th>\n      <td>F</td>\n      <td>0.625</td>\n      <td>0.485</td>\n      <td>0.150</td>\n      <td>1.0945</td>\n      <td>0.5310</td>\n      <td>0.2610</td>\n      <td>0.2960</td>\n      <td>10</td>\n      <td>length_long</td>\n    </tr>\n    <tr>\n      <th>4176</th>\n      <td>M</td>\n      <td>0.710</td>\n      <td>0.555</td>\n      <td>0.195</td>\n      <td>1.9485</td>\n      <td>0.9455</td>\n      <td>0.3765</td>\n      <td>0.4950</td>\n      <td>12</td>\n      <td>length_long</td>\n    </tr>\n  </tbody>\n</table>\n<p>4177 rows × 10 columns</p>\n</div>"
     },
     "execution_count": 30,
     "metadata": {},
     "output_type": "execute_result"
    }
   ],
   "source": [
    "# 중복 데이터 삭제\n",
    "new_abalone_df = new_abalone_df.drop_duplicates()\n",
    "new_abalone_df"
   ],
   "metadata": {
    "collapsed": false,
    "ExecuteTime": {
     "end_time": "2024-03-14T23:16:10.414579Z",
     "start_time": "2024-03-14T23:16:10.402199Z"
    }
   },
   "id": "50c40036b3bbaed7",
   "execution_count": 30
  },
  {
   "cell_type": "code",
   "outputs": [],
   "source": [
    "nan_abalone_df = abalone_df.copy()"
   ],
   "metadata": {
    "collapsed": false,
    "ExecuteTime": {
     "end_time": "2024-03-14T23:17:46.638370Z",
     "start_time": "2024-03-14T23:17:46.634417Z"
    }
   },
   "id": "1c7ae9ab1e828ad7",
   "execution_count": 31
  },
  {
   "cell_type": "code",
   "outputs": [],
   "source": [
    "nan_abalone_df.loc[2, 'length'] = np.nan"
   ],
   "metadata": {
    "collapsed": false,
    "ExecuteTime": {
     "end_time": "2024-03-14T23:18:22.921190Z",
     "start_time": "2024-03-14T23:18:22.917357Z"
    }
   },
   "id": "7d1e7b87e56819cb",
   "execution_count": 33
  },
  {
   "cell_type": "code",
   "outputs": [
    {
     "data": {
      "text/plain": "sex               0\nlength            1\ndiameter          0\nheight            0\nwhole_weight      0\nshucked_weight    0\nviscera_weight    0\nshell_weight      0\nrings             0\nlength_bool       0\ndtype: int64"
     },
     "execution_count": 35,
     "metadata": {},
     "output_type": "execute_result"
    }
   ],
   "source": [
    "nan_abalone_df.isnull().sum()"
   ],
   "metadata": {
    "collapsed": false,
    "ExecuteTime": {
     "end_time": "2024-03-14T23:18:52.913458Z",
     "start_time": "2024-03-14T23:18:52.908493Z"
    }
   },
   "id": "e6988bdda2602b05",
   "execution_count": 35
  },
  {
   "cell_type": "code",
   "outputs": [],
   "source": [
    "zero_abalone_df = nan_abalone_df.fillna(0)"
   ],
   "metadata": {
    "collapsed": false,
    "ExecuteTime": {
     "end_time": "2024-03-14T23:19:20.550690Z",
     "start_time": "2024-03-14T23:19:20.547341Z"
    }
   },
   "id": "9217c9a2df609881",
   "execution_count": 36
  },
  {
   "cell_type": "code",
   "outputs": [
    {
     "data": {
      "text/plain": "     sex  length  diameter  height  whole_weight  shucked_weight  \\\n0      M   0.455     0.365   0.095        0.5140          0.2245   \n1      M   0.350     0.265   0.090        0.2255          0.0995   \n2      F   0.000     0.420   0.135        0.6770          0.2565   \n3      M   0.440     0.365   0.125        0.5160          0.2155   \n4      I   0.330     0.255   0.080        0.2050          0.0895   \n...   ..     ...       ...     ...           ...             ...   \n4172   F   0.565     0.450   0.165        0.8870          0.3700   \n4173   M   0.590     0.440   0.135        0.9660          0.4390   \n4174   M   0.600     0.475   0.205        1.1760          0.5255   \n4175   F   0.625     0.485   0.150        1.0945          0.5310   \n4176   M   0.710     0.555   0.195        1.9485          0.9455   \n\n      viscera_weight  shell_weight  rings   length_bool  \n0             0.1010        0.1500     15  length_short  \n1             0.0485        0.0700      7  length_short  \n2             0.1415        0.2100      9  length_short  \n3             0.1140        0.1550     10  length_short  \n4             0.0395        0.0550      7  length_short  \n...              ...           ...    ...           ...  \n4172          0.2390        0.2490     11   length_long  \n4173          0.2145        0.2605     10   length_long  \n4174          0.2875        0.3080      9   length_long  \n4175          0.2610        0.2960     10   length_long  \n4176          0.3765        0.4950     12   length_long  \n\n[4177 rows x 10 columns]",
      "text/html": "<div>\n<style scoped>\n    .dataframe tbody tr th:only-of-type {\n        vertical-align: middle;\n    }\n\n    .dataframe tbody tr th {\n        vertical-align: top;\n    }\n\n    .dataframe thead th {\n        text-align: right;\n    }\n</style>\n<table border=\"1\" class=\"dataframe\">\n  <thead>\n    <tr style=\"text-align: right;\">\n      <th></th>\n      <th>sex</th>\n      <th>length</th>\n      <th>diameter</th>\n      <th>height</th>\n      <th>whole_weight</th>\n      <th>shucked_weight</th>\n      <th>viscera_weight</th>\n      <th>shell_weight</th>\n      <th>rings</th>\n      <th>length_bool</th>\n    </tr>\n  </thead>\n  <tbody>\n    <tr>\n      <th>0</th>\n      <td>M</td>\n      <td>0.455</td>\n      <td>0.365</td>\n      <td>0.095</td>\n      <td>0.5140</td>\n      <td>0.2245</td>\n      <td>0.1010</td>\n      <td>0.1500</td>\n      <td>15</td>\n      <td>length_short</td>\n    </tr>\n    <tr>\n      <th>1</th>\n      <td>M</td>\n      <td>0.350</td>\n      <td>0.265</td>\n      <td>0.090</td>\n      <td>0.2255</td>\n      <td>0.0995</td>\n      <td>0.0485</td>\n      <td>0.0700</td>\n      <td>7</td>\n      <td>length_short</td>\n    </tr>\n    <tr>\n      <th>2</th>\n      <td>F</td>\n      <td>0.000</td>\n      <td>0.420</td>\n      <td>0.135</td>\n      <td>0.6770</td>\n      <td>0.2565</td>\n      <td>0.1415</td>\n      <td>0.2100</td>\n      <td>9</td>\n      <td>length_short</td>\n    </tr>\n    <tr>\n      <th>3</th>\n      <td>M</td>\n      <td>0.440</td>\n      <td>0.365</td>\n      <td>0.125</td>\n      <td>0.5160</td>\n      <td>0.2155</td>\n      <td>0.1140</td>\n      <td>0.1550</td>\n      <td>10</td>\n      <td>length_short</td>\n    </tr>\n    <tr>\n      <th>4</th>\n      <td>I</td>\n      <td>0.330</td>\n      <td>0.255</td>\n      <td>0.080</td>\n      <td>0.2050</td>\n      <td>0.0895</td>\n      <td>0.0395</td>\n      <td>0.0550</td>\n      <td>7</td>\n      <td>length_short</td>\n    </tr>\n    <tr>\n      <th>...</th>\n      <td>...</td>\n      <td>...</td>\n      <td>...</td>\n      <td>...</td>\n      <td>...</td>\n      <td>...</td>\n      <td>...</td>\n      <td>...</td>\n      <td>...</td>\n      <td>...</td>\n    </tr>\n    <tr>\n      <th>4172</th>\n      <td>F</td>\n      <td>0.565</td>\n      <td>0.450</td>\n      <td>0.165</td>\n      <td>0.8870</td>\n      <td>0.3700</td>\n      <td>0.2390</td>\n      <td>0.2490</td>\n      <td>11</td>\n      <td>length_long</td>\n    </tr>\n    <tr>\n      <th>4173</th>\n      <td>M</td>\n      <td>0.590</td>\n      <td>0.440</td>\n      <td>0.135</td>\n      <td>0.9660</td>\n      <td>0.4390</td>\n      <td>0.2145</td>\n      <td>0.2605</td>\n      <td>10</td>\n      <td>length_long</td>\n    </tr>\n    <tr>\n      <th>4174</th>\n      <td>M</td>\n      <td>0.600</td>\n      <td>0.475</td>\n      <td>0.205</td>\n      <td>1.1760</td>\n      <td>0.5255</td>\n      <td>0.2875</td>\n      <td>0.3080</td>\n      <td>9</td>\n      <td>length_long</td>\n    </tr>\n    <tr>\n      <th>4175</th>\n      <td>F</td>\n      <td>0.625</td>\n      <td>0.485</td>\n      <td>0.150</td>\n      <td>1.0945</td>\n      <td>0.5310</td>\n      <td>0.2610</td>\n      <td>0.2960</td>\n      <td>10</td>\n      <td>length_long</td>\n    </tr>\n    <tr>\n      <th>4176</th>\n      <td>M</td>\n      <td>0.710</td>\n      <td>0.555</td>\n      <td>0.195</td>\n      <td>1.9485</td>\n      <td>0.9455</td>\n      <td>0.3765</td>\n      <td>0.4950</td>\n      <td>12</td>\n      <td>length_long</td>\n    </tr>\n  </tbody>\n</table>\n<p>4177 rows × 10 columns</p>\n</div>"
     },
     "execution_count": 37,
     "metadata": {},
     "output_type": "execute_result"
    }
   ],
   "source": [
    "zero_abalone_df"
   ],
   "metadata": {
    "collapsed": false,
    "ExecuteTime": {
     "end_time": "2024-03-14T23:19:23.721565Z",
     "start_time": "2024-03-14T23:19:23.713479Z"
    }
   },
   "id": "caf9df7c99881ba1",
   "execution_count": 37
  },
  {
   "cell_type": "code",
   "outputs": [
    {
     "ename": "TypeError",
     "evalue": "Could not convert ['MMFMIIFFMFFMMFFMIFMMMIFFFFFMMMMFMFFMFFFMFFIIIIMFIFIMMFMFMMIFMMFMMMFFFIMFFMFFMFFFFMFMMFMMFFMMMFMMMMMFIMMMMFFFFFMMIMFFFMFMFIFMIIIIMMMFFIIFFMFMFFMMMFMIIIMFFFFMFMFFMFMFFMFFMFMFMFIIIIIMMMFFFMFFFFMMMIFMFMMMFMFFMFIIFIFMFMFMMIMFFFFFIFFIFFMMMIIIIIIIMIIIIIIIIIIMFFMMMMFFFFMIMFMMMFFMMMMMFMMFFIFMMFMFMFMFMFMIIIMMFFMMFIIMMMFMMFMIFMFIIIMIMIIMMIMFIIFMMMMFMFMFFMFIIMFFMMMMMFMFMFFFFMMFMFFFFFMFMFMFMMMMMFMMMIIMFIIIFMMMFMFFIFMMMMMMFMFFFMFMFIFIIMFMFFFMMMIMIIMMIIFIFFMMMFMFFFFMFIIFMFIIIIFMFMFFIFFMFMMMFMMFMFMFMFMMFMMFFFFMFFFFFMMMMIIFFMFMMMMFMFIMMMMFFMIFIFIIIMMFFFMMFMMMFIIIIIIIIFFIFIFFFMIIMFIIFFIFIFIFFIFIFIIFMFIFIFMIFIIFIFFIIIMIMMFMMIIMFMMMMIFFIFFFIMIFMIMMMMIFMIFMMIMMIFMIIMFMFFIFIIFFIFMFMFMFFMFFMFFFIMFMMMFFMMMIFMIIIMFFMFFMMMMFMIIMIMMIIIIIIMMMMFMFMFMMMMMMMFMMMFFFMFFMMMFMFFMMMFMMMFFMFMFMFFFIMMMMMMMFMMMIIMFMFFFFMMMMMMMFMMMIMMIFFFMFIIIIIIIIIIIIIIIIIIMIIIIIMIFIMFMMMMFFFMFMMMMFMMFFFFMFMFMFFMMFMFFMMFFFMMMMMFFFFFFMIIIIIIIIIIIIIIIIIIIIIIIIIIIIIIIIIIIIIIIFIIIIIIIIIIIIFMFMFMMMMFMMMMIMMFIMIMIIMMFMFMFFMFMMFFFFMMFMMMFFFMFMMMFFFMFMFMMMMFFFMFFFMFMMMMFFFMMFMFFMMMFFFMMFMFFMMMFFMMFFMIIIIIIIIIIIIIIIIIIIIIIIIIIIMIIIIIIIIIIIIMIIIIMIIIMFIFIIIMIIFIIMIIIIMMMFFMMMFMMMFMFIFFMFMIMMMMMMMFMMMFMFMFMMFMMMMFFMMFFMMMFMMFFMMFFMIFFMFMFMMMFFFMMFFMMFMMFFMFIIIIIIIIIIIIIIIIIIIIIIIIIIIIIIIIIIIIIIIIIIIIIIIIIIIIIFIIIFIIIIIIIIIIIIMIMIIIIIIIIIIIIIMIIIIIIFMFIIFIIIFMIIMIIIIIFIIFMMIIFMIMFFMMMFMMIMMMMIMMFFMMIFFMIMIFFMMMIMMFMMFMMFMMFFMFFFFIMIMMFFMMMMMMMFFMMFFMFMFFFFFMMFFMMFFFMFFFFFFIIIIIIIIIIIIIIMIIIMIMIIIIIMIFIIMMFMFIMIMMIMFFMFFMMMFFMMFFFMMFFFFIMFMMMMFMMFFMFFMFFMFMFMMFMMMFMMFMMMMMMIIIIIIIIIIIIIIIIIIIIIIIIIIIIIIIIIIIIIIIMIIIMIIIIIIIIIFIIIIIIMIIIMIIIIIIIIMIIIIIIMIIIIIIIIIMIFMMFMIIIIMIFIMFIIFMMFMMIFMIIFMMIFFMIFMMFMIFFFMFFMFIMFMMIFMFIFIIMFMMMIFIMFMMMIMFFFMMMMMMMMFMFMFFMMMMFFFMFMMMMFMMMMFFFMFMFMFFMFFMFFMMMFFFMFFMMMIIFMIMIIIIMIMIFMMMMMMFIIFFFMMMIFMIMMMMFFMMMMFFMMMFMFFFFMFFMMIIIIIIIIIIIIIIIIIIIIIIIIIIIIIIIIIIFIIMIIIIIIIIIIIIIFIIIIIIMMMIMIFMMIMIMMMMFMMMMMFIIFMFFMIMMFMMFIFMMFFFMMFMMMFMMMMMMFFFMFFFMMMMFFIMFFMFIFFFFMFMFMMFMFMMMMMFMMFFMFFMIIIIIIIIIIIIIIIIIIIIIIIIIMIMIIMMMIMMFFMFFMFMMFMMFMIIIIIIIIFIIIIIMFMMMIFIMIMFMMMFFFFMIFMFFMFFMFMMFMFFFMFFMFMFIMMMMFIMIMFMMFMMIIMIIIIFFIMIFFMMFIMMMMFMFMFFFMFIIMMFMMMMMFFIMMMMMFMFFFMFIFMIMIIMFMFFFFFMMMIMFMMFMMFIIIIIIFFFMMMIFMFFMMFMFFIFMFFMFFFMIIFMMFFMFMFMIFMFFMIMFFMFMMFFMMMMMFMMFFIFFFFMFFMFMMFFMMMIFIIIFFIFIMFIMFFMIIFFMFMFFFMMFMIMFMMMFFIMMIFFMMFIIMFMFMFMMMFIIIMFFMMFFMMFMMMMFFFMFMFFMMFIIMFFIMFIIFMMIFFFFIIMFMMIIIIIIFIFIMIIFIIFFIMFIMMMFFMIFFMIIMFMIFFFIFMIFFMMMFMMFIFFFMMIIIIIIFMFMMFMMMFMMMMFMFMMFFFMMFMIFFMMMFFIMMFMMMFFIIIIIIIIIIMFIFIMMIMMMFMMMMFFFMFMMFFIMFFFFFFIIIIIIIIIIIIIIIIIIIIIFFIIIMIIMMIIMMMFMFMFFFFMFFMFFFFFMMFFMFFFMFFFFMFFMMFMFMFMFFMMIIIIIIIIIIIIIIIIIIIMIIMMIIIIFMMFIFIMFMFFMFFMMFFMMMFFMFMMMMFMMMMMMFMMFMFMFMMFMMMMFMMFMIIIIIIIIIIIIIIIIIIIIIIIIIIIMIIIIIMIIIIIIFMIIFIIMFIIIIIIFIIIFFMFFIMIFMMMMMMMMFFFFMMMFMMMMMFMMMFFFMFMMMIIIIIIIIIIIIIIMIMIFMFFFMMFMFMMMMMFMMFMMFFFFFFMMFFFMMIIIIIIIIIIIIIIFIIIIIIIMIIIMIMFIIIIIIFIIFIMMMFFMFIMIIMMIFMFMFMIIFMIFFMFFMMMFFMFMFMFMMFMMMFFMMFFFFFFIFMMMMFMMMMMMIIIMMIFFFFIMMMMFMIFMMFFFFMMMFFMMMFIIIIIIIIIIIIIIIIIIIIIIIIMMIIMIMFMIMIFMMIMMMFFMFMMIFMMFFMFFMMMFFFMMFFMFFMFFIIIIIIMMMMFMMFMFMMMMMMIIIIIIIIIIIMFMFFFMMFMMFFFMMFFMMMMMIMIIIFMMFFFFFFMMMMFMFIFMFFFFMMMFMFMMIFFMIFMMMFFFFMMIMFMFFIIMFFFFFFMIIIIMFFFFFMMFMMMMMMIFFIFMMMFFMIMMFMMMFFFMFMMFIMIFIFMMMFFFMFMFFMFFMMFFMMFMFMMFFMFFMFMFMFMFMFMFMFFFFFIIFMIFFFMIMMMMFFIFFIMIIIFFFIIIFFIFFIFMFIFIMIIIFFIFIIIMIFMMIMIMIIIMMIMFFIIMIIMMMFFMMMMMMMMMFMFMFMMMIMIIIIIIIIMFFMMFMFMMFMFMMIIIIIIIIIIIIIFMIFIIFMMFMFFFMFFFMMFFMMFMMFFMFIIIIIIIIIIIIIIFIIFMMMMFMMFMFMMMFFMMFFFMMFFMFFFMMFIIIIIIIIIIIIIIIIIMIIIIIIIIIFIMIIIIMIIIFMIFIIFMIIIMFFFFMFMFFFMFFMMIMMMFFMFFMMMMMIIIIIIFMMFMFMFMMMMMFFFMMFFMMFIIIIIIIIIIIIIIIIIIIIIIIFIIMIMIMFIIIIIIFFIMIFFFMFMFMFMMMIMFIIFMMMMMFMMFMFMFFMFFMFMMMFMFMIIIIFMIIFMIMIMMFFMMMMMFFFFFFIIIIIIIIIIIIIIIMMMIIIIFMMFIIMFIMFMIMMMFIMMMMFFFFFFMMFMFFMIIIIMIFMFIMFIIIMMMMMMFFMMFMMFMFFMMFMIIMFMFMMMIMFMFMMFFMIMFFFFMFIMFFFFMFFIFMMFMFIFFMIIFFFMMFFIMFMFFIMFIMMMMIIFMIIIIIFIFIMMIMFFIIIFFIFIIMFMFMMFFMMIMMFFFFIIMIFFFFMMFIIIIIIIIIMIIIIIMMFMIFMMFFMFMMMMIIIIIIIIIIMFMFMMMMFMMMFMMMFFMIIIIIIIIIIIMIIIIIFIFFFMMMFMMMMFFFMFFMIMMFFIIIIIIIIIIMIIMMIMIMFMMIMMMMFMMFFMFMFFMMFFFIIMMIFIFFMFMIMIIIIIMIMIMIIMFFFMMFFFMFMMMMMIIIIIIIMMIFFFMIIIIMFMMMFMMFM'\n 'length_shortlength_shortlength_shortlength_shortlength_shortlength_shortlength_shortlength_shortlength_shortlength_longlength_shortlength_shortlength_shortlength_shortlength_shortlength_shortlength_shortlength_shortlength_shortlength_shortlength_shortlength_shortlength_longlength_longlength_longlength_longlength_longlength_longlength_longlength_longlength_longlength_longlength_longlength_longlength_longlength_shortlength_shortlength_shortlength_longlength_shortlength_shortlength_longlength_shortlength_shortlength_shortlength_shortlength_shortlength_shortlength_shortlength_shortlength_shortlength_shortlength_shortlength_shortlength_shortlength_shortlength_shortlength_shortlength_shortlength_shortlength_shortlength_shortlength_shortlength_shortlength_shortlength_shortlength_longlength_longlength_shortlength_shortlength_longlength_shortlength_longlength_longlength_longlength_longlength_longlength_longlength_longlength_longlength_longlength_longlength_shortlength_longlength_longlength_longlength_longlength_longlength_shortlength_longlength_longlength_longlength_longlength_longlength_longlength_longlength_shortlength_shortlength_shortlength_shortlength_shortlength_longlength_shortlength_shortlength_longlength_shortlength_shortlength_shortlength_shortlength_shortlength_shortlength_shortlength_shortlength_shortlength_shortlength_shortlength_shortlength_shortlength_longlength_shortlength_shortlength_shortlength_shortlength_shortlength_shortlength_shortlength_shortlength_shortlength_longlength_longlength_longlength_shortlength_shortlength_shortlength_shortlength_shortlength_shortlength_shortlength_shortlength_shortlength_longlength_longlength_longlength_longlength_shortlength_shortlength_shortlength_shortlength_shortlength_shortlength_longlength_longlength_longlength_longlength_longlength_shortlength_longlength_longlength_longlength_longlength_longlength_longlength_longlength_longlength_longlength_longlength_longlength_longlength_longlength_longlength_longlength_shortlength_shortlength_shortlength_shortlength_shortlength_shortlength_shortlength_shortlength_longlength_longlength_longlength_longlength_longlength_longlength_longlength_longlength_longlength_longlength_longlength_longlength_longlength_longlength_shortlength_shortlength_shortlength_shortlength_longlength_longlength_longlength_shortlength_shortlength_shortlength_shortlength_shortlength_shortlength_shortlength_shortlength_shortlength_shortlength_shortlength_shortlength_shortlength_shortlength_shortlength_longlength_shortlength_shortlength_shortlength_shortlength_shortlength_shortlength_shortlength_shortlength_shortlength_shortlength_shortlength_shortlength_longlength_shortlength_longlength_longlength_longlength_shortlength_shortlength_shortlength_shortlength_shortlength_shortlength_shortlength_longlength_shortlength_shortlength_shortlength_shortlength_shortlength_shortlength_shortlength_shortlength_shortlength_shortlength_longlength_longlength_longlength_longlength_longlength_longlength_shortlength_longlength_longlength_shortlength_longlength_shortlength_shortlength_shortlength_shortlength_shortlength_shortlength_shortlength_shortlength_longlength_longlength_longlength_longlength_longlength_longlength_longlength_longlength_longlength_shortlength_shortlength_shortlength_shortlength_shortlength_shortlength_shortlength_shortlength_shortlength_shortlength_shortlength_shortlength_longlength_longlength_longlength_longlength_shortlength_shortlength_shortlength_shortlength_shortlength_shortlength_shortlength_shortlength_shortlength_shortlength_shortlength_shortlength_longlength_longlength_longlength_longlength_longlength_longlength_longlength_longlength_shortlength_longlength_shortlength_longlength_shortlength_shortlength_shortlength_shortlength_shortlength_shortlength_shortlength_shortlength_shortlength_shortlength_shortlength_shortlength_shortlength_shortlength_shortlength_longlength_longlength_longlength_longlength_longlength_longlength_longlength_longlength_longlength_shortlength_shortlength_shortlength_shortlength_shortlength_shortlength_longlength_longlength_longlength_longlength_longlength_longlength_longlength_longlength_longlength_longlength_longlength_longlength_longlength_longlength_longlength_longlength_longlength_longlength_longlength_longlength_longlength_longlength_longlength_longlength_longlength_longlength_longlength_longlength_longlength_longlength_longlength_longlength_shortlength_shortlength_shortlength_shortlength_shortlength_shortlength_shortlength_shortlength_shortlength_shortlength_shortlength_shortlength_shortlength_shortlength_shortlength_shortlength_shortlength_shortlength_longlength_shortlength_shortlength_shortlength_shortlength_shortlength_shortlength_shortlength_longlength_longlength_longlength_longlength_longlength_longlength_shortlength_longlength_longlength_longlength_longlength_longlength_shortlength_longlength_shortlength_shortlength_shortlength_shortlength_longlength_longlength_longlength_longlength_longlength_longlength_longlength_longlength_shortlength_shortlength_shortlength_shortlength_shortlength_shortlength_shortlength_shortlength_shortlength_shortlength_shortlength_shortlength_longlength_longlength_longlength_longlength_longlength_longlength_longlength_longlength_longlength_longlength_longlength_longlength_shortlength_shortlength_shortlength_shortlength_longlength_shortlength_shortlength_shortlength_shortlength_longlength_longlength_longlength_longlength_shortlength_shortlength_shortlength_shortlength_shortlength_shortlength_shortlength_longlength_longlength_longlength_longlength_longlength_longlength_longlength_longlength_longlength_longlength_longlength_shortlength_longlength_longlength_longlength_longlength_longlength_longlength_longlength_longlength_longlength_longlength_longlength_longlength_longlength_longlength_longlength_longlength_longlength_longlength_longlength_longlength_longlength_longlength_shortlength_shortlength_shortlength_shortlength_shortlength_shortlength_shortlength_shortlength_shortlength_shortlength_shortlength_shortlength_shortlength_shortlength_shortlength_shortlength_longlength_longlength_shortlength_shortlength_shortlength_shortlength_shortlength_shortlength_shortlength_shortlength_shortlength_shortlength_shortlength_shortlength_shortlength_shortlength_shortlength_shortlength_shortlength_shortlength_shortlength_longlength_longlength_longlength_longlength_longlength_shortlength_shortlength_shortlength_shortlength_longlength_longlength_shortlength_shortlength_shortlength_shortlength_shortlength_shortlength_shortlength_shortlength_shortlength_shortlength_shortlength_shortlength_shortlength_longlength_longlength_longlength_longlength_longlength_longlength_longlength_longlength_longlength_longlength_longlength_shortlength_shortlength_shortlength_shortlength_longlength_shortlength_shortlength_shortlength_shortlength_shortlength_longlength_shortlength_longlength_longlength_longlength_longlength_longlength_shortlength_shortlength_shortlength_shortlength_shortlength_shortlength_shortlength_shortlength_shortlength_shortlength_shortlength_shortlength_shortlength_shortlength_shortlength_shortlength_shortlength_shortlength_shortlength_shortlength_shortlength_shortlength_shortlength_shortlength_shortlength_shortlength_shortlength_shortlength_shortlength_shortlength_shortlength_shortlength_shortlength_shortlength_shortlength_shortlength_shortlength_shortlength_shortlength_shortlength_shortlength_longlength_longlength_shortlength_shortlength_shortlength_shortlength_shortlength_shortlength_shortlength_shortlength_shortlength_shortlength_shortlength_shortlength_shortlength_longlength_longlength_longlength_longlength_longlength_shortlength_shortlength_shortlength_shortlength_shortlength_shortlength_shortlength_longlength_shortlength_shortlength_shortlength_shortlength_shortlength_shortlength_shortlength_shortlength_shortlength_shortlength_shortlength_shortlength_shortlength_shortlength_shortlength_shortlength_longlength_shortlength_shortlength_shortlength_longlength_shortlength_shortlength_shortlength_shortlength_shortlength_shortlength_shortlength_shortlength_shortlength_shortlength_shortlength_shortlength_shortlength_shortlength_shortlength_shortlength_shortlength_shortlength_shortlength_shortlength_shortlength_shortlength_shortlength_shortlength_shortlength_shortlength_shortlength_shortlength_shortlength_shortlength_shortlength_longlength_longlength_shortlength_shortlength_shortlength_shortlength_shortlength_shortlength_shortlength_shortlength_shortlength_shortlength_shortlength_shortlength_shortlength_shortlength_shortlength_shortlength_shortlength_shortlength_shortlength_shortlength_shortlength_shortlength_shortlength_longlength_shortlength_shortlength_longlength_shortlength_shortlength_longlength_longlength_longlength_longlength_longlength_longlength_longlength_longlength_longlength_longlength_shortlength_longlength_longlength_shortlength_longlength_shortlength_longlength_shortlength_shortlength_shortlength_shortlength_shortlength_shortlength_shortlength_shortlength_shortlength_shortlength_shortlength_longlength_shortlength_shortlength_shortlength_shortlength_longlength_shortlength_shortlength_shortlength_longlength_longlength_shortlength_shortlength_longlength_longlength_shortlength_shortlength_shortlength_shortlength_shortlength_shortlength_shortlength_shortlength_shortlength_shortlength_shortlength_shortlength_shortlength_shortlength_shortlength_shortlength_shortlength_shortlength_shortlength_shortlength_shortlength_shortlength_shortlength_shortlength_shortlength_shortlength_shortlength_shortlength_shortlength_shortlength_shortlength_shortlength_shortlength_shortlength_shortlength_shortlength_shortlength_shortlength_shortlength_shortlength_shortlength_shortlength_shortlength_shortlength_shortlength_shortlength_shortlength_shortlength_shortlength_shortlength_shortlength_shortlength_shortlength_longlength_longlength_longlength_longlength_longlength_longlength_longlength_longlength_longlength_longlength_longlength_longlength_longlength_longlength_longlength_longlength_longlength_longlength_longlength_longlength_longlength_longlength_longlength_longlength_longlength_longlength_longlength_longlength_longlength_longlength_longlength_longlength_longlength_longlength_longlength_longlength_longlength_longlength_longlength_longlength_longlength_longlength_longlength_longlength_shortlength_shortlength_shortlength_shortlength_shortlength_shortlength_shortlength_shortlength_shortlength_shortlength_shortlength_shortlength_shortlength_shortlength_shortlength_shortlength_shortlength_shortlength_shortlength_shortlength_shortlength_shortlength_shortlength_shortlength_shortlength_shortlength_shortlength_shortlength_shortlength_shortlength_shortlength_shortlength_shortlength_shortlength_shortlength_shortlength_shortlength_shortlength_shortlength_shortlength_shortlength_shortlength_shortlength_shortlength_shortlength_shortlength_shortlength_shortlength_shortlength_shortlength_shortlength_shortlength_shortlength_shortlength_shortlength_shortlength_shortlength_shortlength_shortlength_shortlength_shortlength_shortlength_shortlength_shortlength_shortlength_shortlength_shortlength_shortlength_shortlength_shortlength_shortlength_shortlength_shortlength_shortlength_shortlength_shortlength_shortlength_shortlength_shortlength_shortlength_shortlength_shortlength_shortlength_shortlength_shortlength_shortlength_shortlength_shortlength_longlength_longlength_longlength_longlength_longlength_longlength_longlength_longlength_longlength_longlength_longlength_longlength_longlength_longlength_longlength_longlength_longlength_longlength_longlength_longlength_longlength_longlength_longlength_longlength_longlength_longlength_longlength_longlength_longlength_longlength_longlength_longlength_longlength_longlength_longlength_longlength_longlength_longlength_longlength_longlength_longlength_longlength_longlength_longlength_longlength_longlength_longlength_longlength_longlength_longlength_longlength_longlength_longlength_longlength_longlength_longlength_longlength_longlength_longlength_longlength_longlength_longlength_longlength_longlength_longlength_longlength_longlength_longlength_longlength_longlength_longlength_longlength_longlength_shortlength_shortlength_shortlength_shortlength_shortlength_shortlength_shortlength_shortlength_shortlength_shortlength_shortlength_shortlength_shortlength_shortlength_shortlength_shortlength_shortlength_shortlength_shortlength_shortlength_shortlength_shortlength_shortlength_shortlength_shortlength_shortlength_shortlength_shortlength_shortlength_shortlength_shortlength_shortlength_shortlength_shortlength_shortlength_shortlength_shortlength_shortlength_shortlength_shortlength_shortlength_shortlength_shortlength_shortlength_shortlength_shortlength_shortlength_shortlength_shortlength_shortlength_shortlength_shortlength_shortlength_shortlength_shortlength_shortlength_shortlength_shortlength_shortlength_shortlength_shortlength_shortlength_shortlength_shortlength_shortlength_shortlength_shortlength_shortlength_shortlength_shortlength_longlength_longlength_longlength_longlength_longlength_longlength_longlength_longlength_longlength_longlength_longlength_longlength_longlength_longlength_longlength_longlength_longlength_longlength_longlength_longlength_longlength_longlength_longlength_longlength_longlength_longlength_longlength_longlength_longlength_longlength_longlength_longlength_longlength_longlength_longlength_longlength_longlength_longlength_longlength_longlength_longlength_longlength_longlength_longlength_longlength_longlength_longlength_longlength_longlength_longlength_longlength_longlength_longlength_longlength_longlength_longlength_longlength_longlength_longlength_longlength_longlength_longlength_longlength_longlength_longlength_longlength_longlength_longlength_longlength_longlength_longlength_longlength_longlength_longlength_longlength_longlength_longlength_longlength_longlength_longlength_longlength_longlength_longlength_longlength_longlength_longlength_longlength_shortlength_shortlength_shortlength_shortlength_shortlength_shortlength_shortlength_shortlength_shortlength_shortlength_shortlength_shortlength_shortlength_shortlength_shortlength_shortlength_shortlength_shortlength_shortlength_shortlength_shortlength_shortlength_shortlength_shortlength_shortlength_shortlength_shortlength_shortlength_shortlength_shortlength_shortlength_shortlength_shortlength_shortlength_shortlength_shortlength_shortlength_shortlength_shortlength_shortlength_shortlength_shortlength_shortlength_shortlength_shortlength_shortlength_shortlength_shortlength_shortlength_shortlength_shortlength_shortlength_shortlength_shortlength_shortlength_shortlength_shortlength_shortlength_shortlength_shortlength_shortlength_shortlength_shortlength_shortlength_shortlength_shortlength_shortlength_shortlength_shortlength_shortlength_shortlength_shortlength_shortlength_shortlength_shortlength_shortlength_shortlength_shortlength_shortlength_shortlength_shortlength_shortlength_shortlength_shortlength_shortlength_shortlength_shortlength_shortlength_shortlength_shortlength_shortlength_shortlength_shortlength_shortlength_shortlength_shortlength_shortlength_shortlength_shortlength_shortlength_shortlength_longlength_longlength_longlength_longlength_longlength_longlength_longlength_longlength_longlength_longlength_longlength_longlength_longlength_longlength_longlength_longlength_longlength_longlength_longlength_longlength_longlength_longlength_longlength_longlength_longlength_longlength_longlength_longlength_longlength_longlength_longlength_longlength_longlength_longlength_longlength_longlength_longlength_longlength_longlength_longlength_longlength_longlength_longlength_longlength_longlength_longlength_longlength_longlength_longlength_longlength_longlength_longlength_longlength_longlength_longlength_longlength_longlength_longlength_longlength_longlength_longlength_longlength_longlength_longlength_longlength_longlength_longlength_longlength_longlength_longlength_longlength_longlength_longlength_longlength_longlength_longlength_longlength_longlength_longlength_longlength_longlength_longlength_longlength_longlength_longlength_longlength_longlength_longlength_longlength_longlength_longlength_longlength_longlength_longlength_longlength_longlength_longlength_longlength_longlength_longlength_longlength_longlength_longlength_longlength_longlength_longlength_longlength_longlength_longlength_longlength_longlength_longlength_longlength_longlength_longlength_longlength_longlength_longlength_shortlength_shortlength_shortlength_shortlength_shortlength_shortlength_shortlength_shortlength_shortlength_shortlength_shortlength_shortlength_shortlength_shortlength_shortlength_shortlength_shortlength_shortlength_shortlength_shortlength_shortlength_shortlength_shortlength_shortlength_shortlength_shortlength_shortlength_shortlength_shortlength_shortlength_shortlength_shortlength_shortlength_shortlength_shortlength_shortlength_shortlength_shortlength_shortlength_shortlength_shortlength_shortlength_shortlength_shortlength_longlength_longlength_longlength_longlength_longlength_longlength_longlength_longlength_longlength_longlength_longlength_longlength_longlength_longlength_longlength_longlength_longlength_longlength_longlength_longlength_longlength_longlength_longlength_longlength_longlength_longlength_longlength_longlength_longlength_longlength_longlength_longlength_longlength_longlength_longlength_longlength_longlength_longlength_longlength_longlength_longlength_longlength_longlength_longlength_longlength_longlength_longlength_longlength_longlength_longlength_longlength_longlength_longlength_longlength_longlength_longlength_longlength_longlength_shortlength_shortlength_shortlength_shortlength_shortlength_shortlength_shortlength_shortlength_shortlength_shortlength_shortlength_shortlength_shortlength_shortlength_shortlength_shortlength_shortlength_shortlength_shortlength_shortlength_shortlength_shortlength_shortlength_shortlength_shortlength_shortlength_shortlength_shortlength_shortlength_shortlength_shortlength_shortlength_shortlength_shortlength_shortlength_shortlength_shortlength_shortlength_shortlength_shortlength_shortlength_shortlength_shortlength_shortlength_shortlength_shortlength_shortlength_shortlength_shortlength_shortlength_shortlength_shortlength_shortlength_shortlength_shortlength_shortlength_shortlength_shortlength_shortlength_shortlength_shortlength_shortlength_shortlength_shortlength_shortlength_shortlength_shortlength_shortlength_shortlength_shortlength_shortlength_shortlength_shortlength_shortlength_shortlength_shortlength_shortlength_shortlength_shortlength_shortlength_longlength_longlength_longlength_longlength_longlength_longlength_longlength_longlength_longlength_longlength_longlength_longlength_longlength_longlength_longlength_longlength_longlength_longlength_longlength_longlength_longlength_longlength_longlength_longlength_longlength_longlength_longlength_longlength_longlength_longlength_longlength_longlength_longlength_longlength_longlength_longlength_longlength_longlength_longlength_longlength_longlength_longlength_longlength_longlength_longlength_longlength_longlength_longlength_longlength_longlength_longlength_longlength_longlength_longlength_longlength_longlength_longlength_longlength_longlength_longlength_longlength_longlength_longlength_longlength_longlength_longlength_longlength_longlength_longlength_longlength_longlength_longlength_longlength_longlength_longlength_longlength_longlength_longlength_longlength_longlength_longlength_longlength_longlength_longlength_longlength_longlength_longlength_longlength_longlength_longlength_longlength_longlength_longlength_longlength_longlength_longlength_longlength_longlength_longlength_longlength_longlength_longlength_longlength_longlength_longlength_longlength_longlength_longlength_longlength_longlength_longlength_longlength_longlength_longlength_longlength_longlength_longlength_longlength_longlength_longlength_longlength_longlength_longlength_longlength_longlength_longlength_longlength_longlength_longlength_longlength_longlength_longlength_longlength_longlength_longlength_longlength_longlength_longlength_longlength_longlength_longlength_longlength_longlength_longlength_longlength_longlength_longlength_longlength_longlength_longlength_longlength_longlength_longlength_shortlength_shortlength_shortlength_shortlength_shortlength_shortlength_shortlength_shortlength_shortlength_shortlength_shortlength_shortlength_shortlength_shortlength_shortlength_shortlength_shortlength_shortlength_shortlength_shortlength_shortlength_shortlength_shortlength_shortlength_shortlength_shortlength_longlength_longlength_longlength_longlength_longlength_longlength_longlength_longlength_longlength_longlength_longlength_longlength_longlength_longlength_longlength_longlength_longlength_longlength_longlength_longlength_longlength_longlength_longlength_longlength_longlength_longlength_longlength_longlength_longlength_longlength_longlength_longlength_longlength_longlength_shortlength_shortlength_shortlength_shortlength_shortlength_shortlength_shortlength_shortlength_shortlength_shortlength_shortlength_shortlength_shortlength_shortlength_shortlength_shortlength_shortlength_shortlength_shortlength_shortlength_shortlength_shortlength_shortlength_shortlength_shortlength_shortlength_shortlength_shortlength_shortlength_shortlength_shortlength_shortlength_shortlength_shortlength_shortlength_shortlength_shortlength_shortlength_shortlength_shortlength_shortlength_shortlength_shortlength_shortlength_shortlength_shortlength_shortlength_shortlength_shortlength_shortlength_shortlength_shortlength_shortlength_shortlength_shortlength_shortlength_longlength_longlength_longlength_longlength_longlength_longlength_longlength_longlength_longlength_longlength_longlength_longlength_longlength_longlength_longlength_longlength_longlength_longlength_longlength_longlength_longlength_longlength_longlength_longlength_longlength_longlength_longlength_longlength_longlength_longlength_longlength_longlength_longlength_longlength_longlength_longlength_longlength_longlength_longlength_longlength_longlength_longlength_longlength_longlength_longlength_longlength_longlength_longlength_longlength_longlength_longlength_longlength_longlength_longlength_longlength_longlength_longlength_longlength_longlength_longlength_longlength_longlength_longlength_longlength_longlength_longlength_longlength_longlength_longlength_longlength_longlength_longlength_longlength_longlength_longlength_longlength_longlength_longlength_longlength_longlength_longlength_longlength_longlength_longlength_longlength_longlength_longlength_longlength_longlength_longlength_longlength_longlength_longlength_longlength_longlength_longlength_longlength_longlength_longlength_longlength_longlength_longlength_longlength_longlength_longlength_longlength_shortlength_shortlength_shortlength_shortlength_shortlength_shortlength_shortlength_shortlength_shortlength_shortlength_shortlength_shortlength_shortlength_shortlength_shortlength_shortlength_shortlength_shortlength_shortlength_shortlength_shortlength_shortlength_shortlength_shortlength_shortlength_shortlength_shortlength_shortlength_shortlength_shortlength_shortlength_shortlength_shortlength_shortlength_shortlength_shortlength_shortlength_shortlength_shortlength_longlength_longlength_longlength_longlength_longlength_longlength_longlength_longlength_longlength_longlength_longlength_shortlength_shortlength_shortlength_shortlength_shortlength_shortlength_shortlength_shortlength_shortlength_shortlength_shortlength_shortlength_shortlength_shortlength_shortlength_shortlength_shortlength_shortlength_shortlength_shortlength_shortlength_shortlength_shortlength_shortlength_shortlength_shortlength_shortlength_shortlength_shortlength_shortlength_shortlength_shortlength_shortlength_longlength_longlength_longlength_longlength_longlength_longlength_longlength_longlength_longlength_longlength_longlength_longlength_longlength_longlength_longlength_longlength_longlength_longlength_longlength_longlength_longlength_longlength_shortlength_shortlength_shortlength_shortlength_shortlength_shortlength_shortlength_shortlength_shortlength_shortlength_shortlength_shortlength_shortlength_shortlength_longlength_longlength_longlength_longlength_longlength_shortlength_shortlength_shortlength_shortlength_shortlength_shortlength_shortlength_shortlength_shortlength_shortlength_shortlength_shortlength_shortlength_shortlength_shortlength_shortlength_shortlength_shortlength_longlength_longlength_longlength_shortlength_shortlength_shortlength_shortlength_longlength_longlength_longlength_longlength_longlength_shortlength_shortlength_shortlength_shortlength_shortlength_shortlength_shortlength_shortlength_shortlength_shortlength_shortlength_longlength_shortlength_shortlength_longlength_longlength_longlength_longlength_longlength_longlength_longlength_longlength_longlength_longlength_shortlength_longlength_shortlength_shortlength_shortlength_shortlength_shortlength_shortlength_shortlength_longlength_longlength_longlength_longlength_longlength_longlength_longlength_longlength_shortlength_longlength_shortlength_shortlength_shortlength_shortlength_shortlength_shortlength_shortlength_longlength_longlength_longlength_shortlength_shortlength_shortlength_shortlength_shortlength_shortlength_longlength_longlength_longlength_longlength_longlength_shortlength_shortlength_shortlength_shortlength_longlength_longlength_longlength_longlength_longlength_longlength_shortlength_shortlength_shortlength_shortlength_shortlength_shortlength_shortlength_longlength_longlength_longlength_longlength_longlength_shortlength_shortlength_shortlength_shortlength_longlength_shortlength_longlength_longlength_longlength_longlength_longlength_longlength_shortlength_shortlength_shortlength_shortlength_shortlength_shortlength_shortlength_shortlength_shortlength_shortlength_shortlength_longlength_longlength_longlength_longlength_longlength_longlength_shortlength_shortlength_shortlength_shortlength_longlength_longlength_longlength_longlength_longlength_longlength_longlength_longlength_longlength_shortlength_longlength_longlength_shortlength_longlength_longlength_longlength_longlength_longlength_longlength_shortlength_shortlength_shortlength_shortlength_shortlength_shortlength_shortlength_shortlength_shortlength_shortlength_shortlength_longlength_shortlength_shortlength_shortlength_shortlength_shortlength_shortlength_shortlength_shortlength_shortlength_shortlength_shortlength_shortlength_shortlength_longlength_longlength_longlength_longlength_shortlength_shortlength_shortlength_shortlength_shortlength_shortlength_longlength_longlength_longlength_shortlength_shortlength_shortlength_shortlength_shortlength_shortlength_shortlength_shortlength_longlength_shortlength_shortlength_shortlength_shortlength_shortlength_shortlength_longlength_shortlength_longlength_longlength_longlength_longlength_longlength_longlength_longlength_longlength_shortlength_shortlength_shortlength_longlength_longlength_longlength_shortlength_shortlength_shortlength_shortlength_longlength_longlength_longlength_longlength_longlength_longlength_longlength_longlength_longlength_shortlength_longlength_longlength_longlength_longlength_longlength_longlength_longlength_longlength_longlength_shortlength_shortlength_shortlength_shortlength_shortlength_shortlength_shortlength_shortlength_shortlength_shortlength_shortlength_shortlength_shortlength_shortlength_shortlength_shortlength_shortlength_shortlength_shortlength_shortlength_shortlength_shortlength_shortlength_shortlength_longlength_longlength_longlength_longlength_shortlength_shortlength_shortlength_longlength_shortlength_shortlength_longlength_longlength_longlength_longlength_longlength_longlength_shortlength_shortlength_shortlength_shortlength_shortlength_shortlength_shortlength_shortlength_shortlength_shortlength_shortlength_shortlength_shortlength_shortlength_shortlength_longlength_longlength_shortlength_shortlength_shortlength_shortlength_longlength_longlength_longlength_longlength_shortlength_shortlength_shortlength_shortlength_shortlength_shortlength_shortlength_shortlength_shortlength_shortlength_shortlength_longlength_shortlength_shortlength_shortlength_shortlength_shortlength_shortlength_shortlength_shortlength_shortlength_shortlength_shortlength_shortlength_longlength_shortlength_shortlength_shortlength_shortlength_shortlength_shortlength_shortlength_shortlength_shortlength_shortlength_longlength_longlength_longlength_longlength_longlength_longlength_longlength_longlength_shortlength_shortlength_shortlength_shortlength_shortlength_shortlength_shortlength_shortlength_shortlength_longlength_shortlength_shortlength_shortlength_shortlength_shortlength_shortlength_shortlength_shortlength_shortlength_shortlength_shortlength_shortlength_shortlength_shortlength_shortlength_shortlength_shortlength_shortlength_shortlength_shortlength_shortlength_shortlength_shortlength_shortlength_shortlength_shortlength_shortlength_shortlength_shortlength_shortlength_shortlength_shortlength_shortlength_shortlength_shortlength_longlength_longlength_longlength_longlength_longlength_longlength_longlength_longlength_longlength_longlength_longlength_longlength_longlength_longlength_longlength_longlength_longlength_longlength_longlength_longlength_longlength_longlength_shortlength_shortlength_shortlength_shortlength_shortlength_shortlength_shortlength_shortlength_shortlength_shortlength_shortlength_shortlength_shortlength_shortlength_shortlength_shortlength_shortlength_shortlength_shortlength_shortlength_shortlength_shortlength_shortlength_shortlength_shortlength_shortlength_shortlength_shortlength_shortlength_shortlength_shortlength_shortlength_shortlength_shortlength_shortlength_shortlength_shortlength_shortlength_shortlength_shortlength_longlength_longlength_longlength_longlength_longlength_longlength_longlength_longlength_longlength_longlength_longlength_longlength_longlength_longlength_longlength_longlength_longlength_longlength_longlength_longlength_longlength_longlength_longlength_longlength_longlength_longlength_longlength_longlength_longlength_longlength_longlength_longlength_longlength_longlength_longlength_longlength_longlength_longlength_longlength_longlength_longlength_shortlength_shortlength_shortlength_shortlength_shortlength_shortlength_shortlength_shortlength_shortlength_shortlength_shortlength_shortlength_shortlength_shortlength_shortlength_shortlength_shortlength_shortlength_shortlength_shortlength_shortlength_shortlength_shortlength_shortlength_shortlength_shortlength_shortlength_shortlength_shortlength_shortlength_shortlength_shortlength_longlength_longlength_longlength_longlength_longlength_longlength_longlength_longlength_longlength_longlength_longlength_longlength_longlength_longlength_longlength_longlength_longlength_longlength_longlength_longlength_longlength_longlength_longlength_longlength_longlength_longlength_longlength_longlength_longlength_longlength_longlength_longlength_longlength_longlength_longlength_longlength_longlength_longlength_longlength_longlength_longlength_longlength_longlength_longlength_longlength_longlength_longlength_longlength_longlength_longlength_longlength_longlength_longlength_shortlength_shortlength_shortlength_shortlength_shortlength_shortlength_shortlength_shortlength_shortlength_shortlength_shortlength_shortlength_shortlength_shortlength_shortlength_shortlength_shortlength_shortlength_shortlength_shortlength_shortlength_shortlength_shortlength_shortlength_shortlength_shortlength_shortlength_shortlength_shortlength_shortlength_shortlength_shortlength_shortlength_shortlength_shortlength_shortlength_shortlength_shortlength_shortlength_shortlength_shortlength_shortlength_shortlength_shortlength_shortlength_shortlength_shortlength_shortlength_shortlength_longlength_longlength_longlength_longlength_longlength_longlength_longlength_longlength_longlength_longlength_longlength_longlength_longlength_longlength_longlength_longlength_longlength_longlength_longlength_longlength_longlength_longlength_longlength_longlength_longlength_longlength_longlength_longlength_longlength_longlength_longlength_longlength_longlength_longlength_longlength_longlength_longlength_longlength_longlength_longlength_longlength_longlength_longlength_longlength_longlength_longlength_longlength_longlength_longlength_longlength_longlength_longlength_shortlength_shortlength_shortlength_shortlength_shortlength_shortlength_shortlength_shortlength_shortlength_shortlength_shortlength_shortlength_shortlength_shortlength_shortlength_shortlength_shortlength_shortlength_shortlength_shortlength_shortlength_shortlength_longlength_longlength_longlength_longlength_longlength_longlength_longlength_longlength_longlength_longlength_longlength_longlength_longlength_longlength_longlength_longlength_longlength_longlength_longlength_longlength_longlength_longlength_longlength_longlength_longlength_longlength_longlength_longlength_longlength_longlength_shortlength_shortlength_shortlength_shortlength_shortlength_shortlength_shortlength_shortlength_shortlength_shortlength_shortlength_shortlength_shortlength_shortlength_shortlength_shortlength_shortlength_shortlength_shortlength_shortlength_shortlength_shortlength_shortlength_shortlength_shortlength_shortlength_shortlength_shortlength_shortlength_shortlength_shortlength_shortlength_shortlength_shortlength_longlength_longlength_longlength_longlength_longlength_longlength_longlength_longlength_longlength_longlength_longlength_longlength_longlength_longlength_longlength_longlength_longlength_longlength_longlength_longlength_longlength_longlength_longlength_longlength_longlength_longlength_longlength_longlength_longlength_longlength_longlength_longlength_longlength_longlength_longlength_longlength_longlength_longlength_longlength_longlength_longlength_longlength_longlength_longlength_longlength_longlength_longlength_longlength_longlength_longlength_longlength_longlength_longlength_longlength_longlength_longlength_longlength_longlength_longlength_longlength_longlength_longlength_longlength_longlength_longlength_longlength_longlength_longlength_longlength_longlength_longlength_longlength_longlength_longlength_longlength_longlength_longlength_shortlength_shortlength_shortlength_shortlength_shortlength_shortlength_shortlength_shortlength_shortlength_shortlength_shortlength_shortlength_longlength_longlength_longlength_longlength_longlength_longlength_longlength_longlength_longlength_longlength_longlength_longlength_longlength_longlength_longlength_longlength_longlength_longlength_longlength_longlength_longlength_longlength_shortlength_shortlength_shortlength_shortlength_shortlength_shortlength_shortlength_shortlength_shortlength_shortlength_shortlength_shortlength_shortlength_shortlength_shortlength_shortlength_shortlength_shortlength_shortlength_shortlength_shortlength_shortlength_shortlength_shortlength_shortlength_shortlength_longlength_longlength_longlength_longlength_longlength_longlength_longlength_longlength_longlength_longlength_longlength_longlength_longlength_longlength_longlength_longlength_longlength_longlength_longlength_longlength_longlength_longlength_longlength_longlength_longlength_longlength_longlength_longlength_longlength_longlength_longlength_longlength_longlength_longlength_longlength_longlength_longlength_longlength_longlength_longlength_longlength_longlength_longlength_longlength_longlength_longlength_longlength_longlength_shortlength_shortlength_shortlength_shortlength_shortlength_shortlength_shortlength_shortlength_shortlength_shortlength_shortlength_shortlength_shortlength_shortlength_shortlength_longlength_longlength_longlength_longlength_longlength_longlength_longlength_shortlength_shortlength_shortlength_shortlength_shortlength_shortlength_shortlength_shortlength_shortlength_shortlength_shortlength_shortlength_shortlength_shortlength_shortlength_shortlength_longlength_longlength_longlength_longlength_longlength_longlength_longlength_longlength_longlength_longlength_longlength_longlength_shortlength_shortlength_shortlength_shortlength_shortlength_shortlength_shortlength_longlength_shortlength_shortlength_shortlength_longlength_longlength_longlength_longlength_longlength_longlength_longlength_longlength_shortlength_shortlength_shortlength_shortlength_shortlength_shortlength_longlength_shortlength_shortlength_shortlength_longlength_longlength_longlength_shortlength_longlength_longlength_longlength_longlength_longlength_shortlength_shortlength_shortlength_shortlength_shortlength_shortlength_shortlength_shortlength_shortlength_shortlength_shortlength_longlength_longlength_longlength_longlength_shortlength_shortlength_longlength_longlength_shortlength_longlength_shortlength_longlength_longlength_shortlength_shortlength_shortlength_shortlength_shortlength_shortlength_shortlength_longlength_longlength_longlength_shortlength_shortlength_shortlength_shortlength_shortlength_longlength_longlength_longlength_longlength_longlength_longlength_longlength_shortlength_longlength_longlength_shortlength_shortlength_shortlength_shortlength_longlength_shortlength_shortlength_shortlength_shortlength_longlength_longlength_shortlength_shortlength_longlength_longlength_longlength_shortlength_longlength_longlength_longlength_longlength_longlength_longlength_longlength_longlength_longlength_longlength_longlength_longlength_shortlength_shortlength_shortlength_shortlength_shortlength_shortlength_shortlength_longlength_shortlength_shortlength_longlength_longlength_longlength_longlength_longlength_longlength_shortlength_shortlength_shortlength_shortlength_longlength_longlength_shortlength_shortlength_shortlength_shortlength_shortlength_shortlength_shortlength_shortlength_longlength_longlength_longlength_longlength_longlength_longlength_longlength_longlength_longlength_longlength_shortlength_shortlength_shortlength_shortlength_longlength_longlength_longlength_longlength_longlength_longlength_longlength_longlength_longlength_longlength_longlength_longlength_longlength_shortlength_shortlength_shortlength_shortlength_longlength_shortlength_shortlength_shortlength_shortlength_shortlength_shortlength_shortlength_shortlength_longlength_shortlength_shortlength_shortlength_shortlength_shortlength_shortlength_longlength_longlength_longlength_shortlength_shortlength_shortlength_shortlength_shortlength_shortlength_shortlength_shortlength_longlength_longlength_longlength_shortlength_shortlength_shortlength_shortlength_shortlength_shortlength_shortlength_shortlength_shortlength_shortlength_shortlength_shortlength_shortlength_shortlength_shortlength_shortlength_shortlength_shortlength_shortlength_longlength_longlength_shortlength_shortlength_shortlength_shortlength_shortlength_shortlength_longlength_longlength_longlength_shortlength_shortlength_shortlength_shortlength_shortlength_shortlength_shortlength_shortlength_shortlength_shortlength_shortlength_shortlength_shortlength_shortlength_shortlength_shortlength_shortlength_shortlength_longlength_longlength_longlength_shortlength_longlength_longlength_longlength_longlength_longlength_shortlength_shortlength_shortlength_shortlength_shortlength_shortlength_shortlength_shortlength_shortlength_shortlength_shortlength_shortlength_shortlength_shortlength_shortlength_shortlength_shortlength_shortlength_longlength_longlength_longlength_longlength_longlength_longlength_longlength_longlength_longlength_longlength_longlength_longlength_longlength_shortlength_shortlength_shortlength_shortlength_shortlength_shortlength_shortlength_shortlength_shortlength_shortlength_shortlength_shortlength_shortlength_shortlength_shortlength_shortlength_shortlength_shortlength_shortlength_shortlength_shortlength_shortlength_shortlength_longlength_longlength_longlength_longlength_longlength_longlength_longlength_longlength_longlength_longlength_longlength_longlength_longlength_longlength_longlength_longlength_longlength_longlength_longlength_longlength_longlength_shortlength_shortlength_shortlength_shortlength_shortlength_shortlength_shortlength_shortlength_shortlength_shortlength_shortlength_shortlength_shortlength_shortlength_shortlength_shortlength_shortlength_shortlength_shortlength_longlength_longlength_longlength_longlength_longlength_longlength_longlength_longlength_longlength_longlength_longlength_longlength_longlength_longlength_longlength_longlength_longlength_longlength_longlength_longlength_longlength_longlength_longlength_longlength_longlength_longlength_longlength_longlength_longlength_longlength_shortlength_shortlength_shortlength_shortlength_shortlength_shortlength_shortlength_shortlength_shortlength_shortlength_shortlength_shortlength_shortlength_shortlength_shortlength_shortlength_shortlength_shortlength_shortlength_shortlength_shortlength_shortlength_shortlength_shortlength_shortlength_shortlength_shortlength_shortlength_shortlength_shortlength_shortlength_shortlength_shortlength_shortlength_shortlength_shortlength_shortlength_longlength_longlength_longlength_longlength_longlength_longlength_longlength_longlength_longlength_longlength_longlength_longlength_longlength_longlength_longlength_longlength_longlength_longlength_longlength_longlength_longlength_longlength_longlength_longlength_longlength_longlength_longlength_longlength_longlength_longlength_longlength_longlength_longlength_longlength_longlength_longlength_longlength_longlength_longlength_longlength_longlength_longlength_shortlength_shortlength_shortlength_shortlength_shortlength_shortlength_shortlength_shortlength_shortlength_longlength_longlength_longlength_longlength_longlength_longlength_longlength_longlength_longlength_longlength_longlength_longlength_longlength_longlength_longlength_longlength_longlength_longlength_longlength_longlength_shortlength_shortlength_shortlength_shortlength_shortlength_shortlength_shortlength_shortlength_shortlength_shortlength_shortlength_shortlength_shortlength_shortlength_shortlength_shortlength_shortlength_shortlength_shortlength_shortlength_shortlength_shortlength_shortlength_shortlength_shortlength_shortlength_shortlength_shortlength_shortlength_shortlength_shortlength_shortlength_longlength_longlength_longlength_longlength_longlength_longlength_longlength_longlength_longlength_longlength_longlength_longlength_longlength_longlength_longlength_longlength_longlength_longlength_longlength_longlength_longlength_longlength_longlength_longlength_longlength_longlength_longlength_longlength_longlength_longlength_longlength_longlength_longlength_longlength_longlength_longlength_longlength_longlength_longlength_longlength_longlength_longlength_longlength_longlength_longlength_longlength_longlength_longlength_longlength_longlength_longlength_longlength_longlength_longlength_longlength_shortlength_shortlength_shortlength_shortlength_shortlength_shortlength_shortlength_shortlength_shortlength_shortlength_shortlength_shortlength_shortlength_shortlength_shortlength_longlength_longlength_longlength_longlength_longlength_longlength_longlength_longlength_longlength_longlength_longlength_longlength_longlength_shortlength_shortlength_shortlength_shortlength_shortlength_shortlength_shortlength_shortlength_shortlength_shortlength_shortlength_shortlength_shortlength_shortlength_shortlength_shortlength_shortlength_shortlength_shortlength_shortlength_shortlength_shortlength_longlength_longlength_longlength_longlength_longlength_longlength_longlength_longlength_longlength_longlength_longlength_longlength_longlength_longlength_longlength_longlength_longlength_longlength_longlength_longlength_longlength_longlength_longlength_longlength_longlength_longlength_longlength_longlength_longlength_longlength_longlength_longlength_longlength_longlength_longlength_shortlength_shortlength_shortlength_shortlength_shortlength_shortlength_shortlength_shortlength_shortlength_shortlength_longlength_longlength_shortlength_shortlength_shortlength_shortlength_shortlength_longlength_longlength_longlength_longlength_longlength_longlength_longlength_longlength_longlength_longlength_longlength_longlength_shortlength_shortlength_shortlength_shortlength_shortlength_shortlength_shortlength_shortlength_shortlength_shortlength_shortlength_shortlength_longlength_longlength_longlength_shortlength_shortlength_shortlength_longlength_shortlength_shortlength_longlength_longlength_longlength_shortlength_shortlength_shortlength_longlength_longlength_longlength_longlength_longlength_shortlength_longlength_shortlength_shortlength_shortlength_shortlength_shortlength_shortlength_shortlength_shortlength_shortlength_shortlength_shortlength_shortlength_shortlength_longlength_shortlength_longlength_shortlength_longlength_longlength_shortlength_shortlength_shortlength_shortlength_longlength_longlength_longlength_shortlength_longlength_shortlength_shortlength_shortlength_longlength_longlength_longlength_longlength_shortlength_shortlength_shortlength_shortlength_longlength_longlength_shortlength_shortlength_shortlength_shortlength_shortlength_shortlength_shortlength_shortlength_shortlength_shortlength_longlength_shortlength_longlength_longlength_longlength_shortlength_shortlength_shortlength_shortlength_shortlength_shortlength_longlength_shortlength_longlength_longlength_longlength_longlength_shortlength_shortlength_shortlength_shortlength_shortlength_shortlength_shortlength_longlength_shortlength_shortlength_shortlength_longlength_longlength_shortlength_shortlength_shortlength_shortlength_shortlength_shortlength_shortlength_shortlength_shortlength_shortlength_shortlength_shortlength_longlength_longlength_longlength_longlength_longlength_longlength_shortlength_shortlength_shortlength_shortlength_shortlength_shortlength_shortlength_shortlength_shortlength_shortlength_shortlength_shortlength_shortlength_shortlength_shortlength_shortlength_shortlength_shortlength_longlength_longlength_longlength_longlength_longlength_longlength_longlength_longlength_longlength_longlength_longlength_longlength_longlength_shortlength_shortlength_shortlength_shortlength_shortlength_shortlength_shortlength_shortlength_shortlength_shortlength_shortlength_longlength_longlength_longlength_longlength_longlength_longlength_longlength_longlength_longlength_longlength_longlength_longlength_longlength_longlength_longlength_longlength_longlength_longlength_shortlength_shortlength_shortlength_shortlength_shortlength_shortlength_shortlength_shortlength_shortlength_shortlength_shortlength_shortlength_shortlength_shortlength_shortlength_longlength_longlength_longlength_longlength_longlength_longlength_longlength_longlength_longlength_longlength_longlength_longlength_longlength_longlength_longlength_longlength_longlength_longlength_longlength_longlength_longlength_shortlength_shortlength_longlength_longlength_longlength_longlength_shortlength_shortlength_shortlength_shortlength_shortlength_shortlength_shortlength_shortlength_shortlength_shortlength_shortlength_shortlength_longlength_longlength_longlength_longlength_longlength_longlength_longlength_longlength_longlength_longlength_longlength_longlength_longlength_longlength_longlength_longlength_longlength_longlength_longlength_longlength_longlength_longlength_longlength_longlength_longlength_longlength_longlength_longlength_longlength_longlength_shortlength_shortlength_shortlength_shortlength_shortlength_longlength_longlength_longlength_longlength_longlength_longlength_longlength_shortlength_shortlength_shortlength_shortlength_shortlength_shortlength_shortlength_longlength_longlength_longlength_longlength_longlength_longlength_longlength_longlength_longlength_longlength_longlength_longlength_longlength_longlength_longlength_longlength_longlength_longlength_longlength_longlength_longlength_longlength_longlength_shortlength_shortlength_shortlength_shortlength_shortlength_shortlength_shortlength_shortlength_shortlength_shortlength_longlength_longlength_longlength_shortlength_shortlength_shortlength_shortlength_shortlength_shortlength_shortlength_shortlength_longlength_longlength_longlength_longlength_longlength_longlength_long'] to numeric",
     "output_type": "error",
     "traceback": [
      "\u001B[0;31m---------------------------------------------------------------------------\u001B[0m",
      "\u001B[0;31mTypeError\u001B[0m                                 Traceback (most recent call last)",
      "Cell \u001B[0;32mIn[41], line 1\u001B[0m\n\u001B[0;32m----> 1\u001B[0m \u001B[43mnan_abalone_df\u001B[49m\u001B[38;5;241;43m.\u001B[39;49m\u001B[43mmean\u001B[49m\u001B[43m(\u001B[49m\u001B[43m)\u001B[49m\n",
      "File \u001B[0;32m/Volumes/Dev/repo/ij/python-ai/venv/lib/python3.9/site-packages/pandas/core/frame.py:11680\u001B[0m, in \u001B[0;36mDataFrame.mean\u001B[0;34m(self, axis, skipna, numeric_only, **kwargs)\u001B[0m\n\u001B[1;32m  11672\u001B[0m \u001B[38;5;129m@doc\u001B[39m(make_doc(\u001B[38;5;124m\"\u001B[39m\u001B[38;5;124mmean\u001B[39m\u001B[38;5;124m\"\u001B[39m, ndim\u001B[38;5;241m=\u001B[39m\u001B[38;5;241m2\u001B[39m))\n\u001B[1;32m  11673\u001B[0m \u001B[38;5;28;01mdef\u001B[39;00m \u001B[38;5;21mmean\u001B[39m(\n\u001B[1;32m  11674\u001B[0m     \u001B[38;5;28mself\u001B[39m,\n\u001B[0;32m   (...)\u001B[0m\n\u001B[1;32m  11678\u001B[0m     \u001B[38;5;241m*\u001B[39m\u001B[38;5;241m*\u001B[39mkwargs,\n\u001B[1;32m  11679\u001B[0m ):\n\u001B[0;32m> 11680\u001B[0m     result \u001B[38;5;241m=\u001B[39m \u001B[38;5;28;43msuper\u001B[39;49m\u001B[43m(\u001B[49m\u001B[43m)\u001B[49m\u001B[38;5;241;43m.\u001B[39;49m\u001B[43mmean\u001B[49m\u001B[43m(\u001B[49m\u001B[43maxis\u001B[49m\u001B[43m,\u001B[49m\u001B[43m \u001B[49m\u001B[43mskipna\u001B[49m\u001B[43m,\u001B[49m\u001B[43m \u001B[49m\u001B[43mnumeric_only\u001B[49m\u001B[43m,\u001B[49m\u001B[43m \u001B[49m\u001B[38;5;241;43m*\u001B[39;49m\u001B[38;5;241;43m*\u001B[39;49m\u001B[43mkwargs\u001B[49m\u001B[43m)\u001B[49m\n\u001B[1;32m  11681\u001B[0m     \u001B[38;5;28;01mif\u001B[39;00m \u001B[38;5;28misinstance\u001B[39m(result, Series):\n\u001B[1;32m  11682\u001B[0m         result \u001B[38;5;241m=\u001B[39m result\u001B[38;5;241m.\u001B[39m__finalize__(\u001B[38;5;28mself\u001B[39m, method\u001B[38;5;241m=\u001B[39m\u001B[38;5;124m\"\u001B[39m\u001B[38;5;124mmean\u001B[39m\u001B[38;5;124m\"\u001B[39m)\n",
      "File \u001B[0;32m/Volumes/Dev/repo/ij/python-ai/venv/lib/python3.9/site-packages/pandas/core/generic.py:12417\u001B[0m, in \u001B[0;36mNDFrame.mean\u001B[0;34m(self, axis, skipna, numeric_only, **kwargs)\u001B[0m\n\u001B[1;32m  12410\u001B[0m \u001B[38;5;28;01mdef\u001B[39;00m \u001B[38;5;21mmean\u001B[39m(\n\u001B[1;32m  12411\u001B[0m     \u001B[38;5;28mself\u001B[39m,\n\u001B[1;32m  12412\u001B[0m     axis: Axis \u001B[38;5;241m|\u001B[39m \u001B[38;5;28;01mNone\u001B[39;00m \u001B[38;5;241m=\u001B[39m \u001B[38;5;241m0\u001B[39m,\n\u001B[0;32m   (...)\u001B[0m\n\u001B[1;32m  12415\u001B[0m     \u001B[38;5;241m*\u001B[39m\u001B[38;5;241m*\u001B[39mkwargs,\n\u001B[1;32m  12416\u001B[0m ) \u001B[38;5;241m-\u001B[39m\u001B[38;5;241m>\u001B[39m Series \u001B[38;5;241m|\u001B[39m \u001B[38;5;28mfloat\u001B[39m:\n\u001B[0;32m> 12417\u001B[0m     \u001B[38;5;28;01mreturn\u001B[39;00m \u001B[38;5;28;43mself\u001B[39;49m\u001B[38;5;241;43m.\u001B[39;49m\u001B[43m_stat_function\u001B[49m\u001B[43m(\u001B[49m\n\u001B[1;32m  12418\u001B[0m \u001B[43m        \u001B[49m\u001B[38;5;124;43m\"\u001B[39;49m\u001B[38;5;124;43mmean\u001B[39;49m\u001B[38;5;124;43m\"\u001B[39;49m\u001B[43m,\u001B[49m\u001B[43m \u001B[49m\u001B[43mnanops\u001B[49m\u001B[38;5;241;43m.\u001B[39;49m\u001B[43mnanmean\u001B[49m\u001B[43m,\u001B[49m\u001B[43m \u001B[49m\u001B[43maxis\u001B[49m\u001B[43m,\u001B[49m\u001B[43m \u001B[49m\u001B[43mskipna\u001B[49m\u001B[43m,\u001B[49m\u001B[43m \u001B[49m\u001B[43mnumeric_only\u001B[49m\u001B[43m,\u001B[49m\u001B[43m \u001B[49m\u001B[38;5;241;43m*\u001B[39;49m\u001B[38;5;241;43m*\u001B[39;49m\u001B[43mkwargs\u001B[49m\n\u001B[1;32m  12419\u001B[0m \u001B[43m    \u001B[49m\u001B[43m)\u001B[49m\n",
      "File \u001B[0;32m/Volumes/Dev/repo/ij/python-ai/venv/lib/python3.9/site-packages/pandas/core/generic.py:12374\u001B[0m, in \u001B[0;36mNDFrame._stat_function\u001B[0;34m(self, name, func, axis, skipna, numeric_only, **kwargs)\u001B[0m\n\u001B[1;32m  12370\u001B[0m nv\u001B[38;5;241m.\u001B[39mvalidate_func(name, (), kwargs)\n\u001B[1;32m  12372\u001B[0m validate_bool_kwarg(skipna, \u001B[38;5;124m\"\u001B[39m\u001B[38;5;124mskipna\u001B[39m\u001B[38;5;124m\"\u001B[39m, none_allowed\u001B[38;5;241m=\u001B[39m\u001B[38;5;28;01mFalse\u001B[39;00m)\n\u001B[0;32m> 12374\u001B[0m \u001B[38;5;28;01mreturn\u001B[39;00m \u001B[38;5;28;43mself\u001B[39;49m\u001B[38;5;241;43m.\u001B[39;49m\u001B[43m_reduce\u001B[49m\u001B[43m(\u001B[49m\n\u001B[1;32m  12375\u001B[0m \u001B[43m    \u001B[49m\u001B[43mfunc\u001B[49m\u001B[43m,\u001B[49m\u001B[43m \u001B[49m\u001B[43mname\u001B[49m\u001B[38;5;241;43m=\u001B[39;49m\u001B[43mname\u001B[49m\u001B[43m,\u001B[49m\u001B[43m \u001B[49m\u001B[43maxis\u001B[49m\u001B[38;5;241;43m=\u001B[39;49m\u001B[43maxis\u001B[49m\u001B[43m,\u001B[49m\u001B[43m \u001B[49m\u001B[43mskipna\u001B[49m\u001B[38;5;241;43m=\u001B[39;49m\u001B[43mskipna\u001B[49m\u001B[43m,\u001B[49m\u001B[43m \u001B[49m\u001B[43mnumeric_only\u001B[49m\u001B[38;5;241;43m=\u001B[39;49m\u001B[43mnumeric_only\u001B[49m\n\u001B[1;32m  12376\u001B[0m \u001B[43m\u001B[49m\u001B[43m)\u001B[49m\n",
      "File \u001B[0;32m/Volumes/Dev/repo/ij/python-ai/venv/lib/python3.9/site-packages/pandas/core/frame.py:11549\u001B[0m, in \u001B[0;36mDataFrame._reduce\u001B[0;34m(self, op, name, axis, skipna, numeric_only, filter_type, **kwds)\u001B[0m\n\u001B[1;32m  11545\u001B[0m     df \u001B[38;5;241m=\u001B[39m df\u001B[38;5;241m.\u001B[39mT\n\u001B[1;32m  11547\u001B[0m \u001B[38;5;66;03m# After possibly _get_data and transposing, we are now in the\u001B[39;00m\n\u001B[1;32m  11548\u001B[0m \u001B[38;5;66;03m#  simple case where we can use BlockManager.reduce\u001B[39;00m\n\u001B[0;32m> 11549\u001B[0m res \u001B[38;5;241m=\u001B[39m \u001B[43mdf\u001B[49m\u001B[38;5;241;43m.\u001B[39;49m\u001B[43m_mgr\u001B[49m\u001B[38;5;241;43m.\u001B[39;49m\u001B[43mreduce\u001B[49m\u001B[43m(\u001B[49m\u001B[43mblk_func\u001B[49m\u001B[43m)\u001B[49m\n\u001B[1;32m  11550\u001B[0m out \u001B[38;5;241m=\u001B[39m df\u001B[38;5;241m.\u001B[39m_constructor_from_mgr(res, axes\u001B[38;5;241m=\u001B[39mres\u001B[38;5;241m.\u001B[39maxes)\u001B[38;5;241m.\u001B[39miloc[\u001B[38;5;241m0\u001B[39m]\n\u001B[1;32m  11551\u001B[0m \u001B[38;5;28;01mif\u001B[39;00m out_dtype \u001B[38;5;129;01mis\u001B[39;00m \u001B[38;5;129;01mnot\u001B[39;00m \u001B[38;5;28;01mNone\u001B[39;00m \u001B[38;5;129;01mand\u001B[39;00m out\u001B[38;5;241m.\u001B[39mdtype \u001B[38;5;241m!=\u001B[39m \u001B[38;5;124m\"\u001B[39m\u001B[38;5;124mboolean\u001B[39m\u001B[38;5;124m\"\u001B[39m:\n",
      "File \u001B[0;32m/Volumes/Dev/repo/ij/python-ai/venv/lib/python3.9/site-packages/pandas/core/internals/managers.py:1500\u001B[0m, in \u001B[0;36mBlockManager.reduce\u001B[0;34m(self, func)\u001B[0m\n\u001B[1;32m   1498\u001B[0m res_blocks: \u001B[38;5;28mlist\u001B[39m[Block] \u001B[38;5;241m=\u001B[39m []\n\u001B[1;32m   1499\u001B[0m \u001B[38;5;28;01mfor\u001B[39;00m blk \u001B[38;5;129;01min\u001B[39;00m \u001B[38;5;28mself\u001B[39m\u001B[38;5;241m.\u001B[39mblocks:\n\u001B[0;32m-> 1500\u001B[0m     nbs \u001B[38;5;241m=\u001B[39m \u001B[43mblk\u001B[49m\u001B[38;5;241;43m.\u001B[39;49m\u001B[43mreduce\u001B[49m\u001B[43m(\u001B[49m\u001B[43mfunc\u001B[49m\u001B[43m)\u001B[49m\n\u001B[1;32m   1501\u001B[0m     res_blocks\u001B[38;5;241m.\u001B[39mextend(nbs)\n\u001B[1;32m   1503\u001B[0m index \u001B[38;5;241m=\u001B[39m Index([\u001B[38;5;28;01mNone\u001B[39;00m])  \u001B[38;5;66;03m# placeholder\u001B[39;00m\n",
      "File \u001B[0;32m/Volumes/Dev/repo/ij/python-ai/venv/lib/python3.9/site-packages/pandas/core/internals/blocks.py:404\u001B[0m, in \u001B[0;36mBlock.reduce\u001B[0;34m(self, func)\u001B[0m\n\u001B[1;32m    398\u001B[0m \u001B[38;5;129m@final\u001B[39m\n\u001B[1;32m    399\u001B[0m \u001B[38;5;28;01mdef\u001B[39;00m \u001B[38;5;21mreduce\u001B[39m(\u001B[38;5;28mself\u001B[39m, func) \u001B[38;5;241m-\u001B[39m\u001B[38;5;241m>\u001B[39m \u001B[38;5;28mlist\u001B[39m[Block]:\n\u001B[1;32m    400\u001B[0m     \u001B[38;5;66;03m# We will apply the function and reshape the result into a single-row\u001B[39;00m\n\u001B[1;32m    401\u001B[0m     \u001B[38;5;66;03m#  Block with the same mgr_locs; squeezing will be done at a higher level\u001B[39;00m\n\u001B[1;32m    402\u001B[0m     \u001B[38;5;28;01massert\u001B[39;00m \u001B[38;5;28mself\u001B[39m\u001B[38;5;241m.\u001B[39mndim \u001B[38;5;241m==\u001B[39m \u001B[38;5;241m2\u001B[39m\n\u001B[0;32m--> 404\u001B[0m     result \u001B[38;5;241m=\u001B[39m \u001B[43mfunc\u001B[49m\u001B[43m(\u001B[49m\u001B[38;5;28;43mself\u001B[39;49m\u001B[38;5;241;43m.\u001B[39;49m\u001B[43mvalues\u001B[49m\u001B[43m)\u001B[49m\n\u001B[1;32m    406\u001B[0m     \u001B[38;5;28;01mif\u001B[39;00m \u001B[38;5;28mself\u001B[39m\u001B[38;5;241m.\u001B[39mvalues\u001B[38;5;241m.\u001B[39mndim \u001B[38;5;241m==\u001B[39m \u001B[38;5;241m1\u001B[39m:\n\u001B[1;32m    407\u001B[0m         res_values \u001B[38;5;241m=\u001B[39m result\n",
      "File \u001B[0;32m/Volumes/Dev/repo/ij/python-ai/venv/lib/python3.9/site-packages/pandas/core/frame.py:11468\u001B[0m, in \u001B[0;36mDataFrame._reduce.<locals>.blk_func\u001B[0;34m(values, axis)\u001B[0m\n\u001B[1;32m  11466\u001B[0m         \u001B[38;5;28;01mreturn\u001B[39;00m np\u001B[38;5;241m.\u001B[39marray([result])\n\u001B[1;32m  11467\u001B[0m \u001B[38;5;28;01melse\u001B[39;00m:\n\u001B[0;32m> 11468\u001B[0m     \u001B[38;5;28;01mreturn\u001B[39;00m \u001B[43mop\u001B[49m\u001B[43m(\u001B[49m\u001B[43mvalues\u001B[49m\u001B[43m,\u001B[49m\u001B[43m \u001B[49m\u001B[43maxis\u001B[49m\u001B[38;5;241;43m=\u001B[39;49m\u001B[43maxis\u001B[49m\u001B[43m,\u001B[49m\u001B[43m \u001B[49m\u001B[43mskipna\u001B[49m\u001B[38;5;241;43m=\u001B[39;49m\u001B[43mskipna\u001B[49m\u001B[43m,\u001B[49m\u001B[43m \u001B[49m\u001B[38;5;241;43m*\u001B[39;49m\u001B[38;5;241;43m*\u001B[39;49m\u001B[43mkwds\u001B[49m\u001B[43m)\u001B[49m\n",
      "File \u001B[0;32m/Volumes/Dev/repo/ij/python-ai/venv/lib/python3.9/site-packages/pandas/core/nanops.py:147\u001B[0m, in \u001B[0;36mbottleneck_switch.__call__.<locals>.f\u001B[0;34m(values, axis, skipna, **kwds)\u001B[0m\n\u001B[1;32m    145\u001B[0m         result \u001B[38;5;241m=\u001B[39m alt(values, axis\u001B[38;5;241m=\u001B[39maxis, skipna\u001B[38;5;241m=\u001B[39mskipna, \u001B[38;5;241m*\u001B[39m\u001B[38;5;241m*\u001B[39mkwds)\n\u001B[1;32m    146\u001B[0m \u001B[38;5;28;01melse\u001B[39;00m:\n\u001B[0;32m--> 147\u001B[0m     result \u001B[38;5;241m=\u001B[39m \u001B[43malt\u001B[49m\u001B[43m(\u001B[49m\u001B[43mvalues\u001B[49m\u001B[43m,\u001B[49m\u001B[43m \u001B[49m\u001B[43maxis\u001B[49m\u001B[38;5;241;43m=\u001B[39;49m\u001B[43maxis\u001B[49m\u001B[43m,\u001B[49m\u001B[43m \u001B[49m\u001B[43mskipna\u001B[49m\u001B[38;5;241;43m=\u001B[39;49m\u001B[43mskipna\u001B[49m\u001B[43m,\u001B[49m\u001B[43m \u001B[49m\u001B[38;5;241;43m*\u001B[39;49m\u001B[38;5;241;43m*\u001B[39;49m\u001B[43mkwds\u001B[49m\u001B[43m)\u001B[49m\n\u001B[1;32m    149\u001B[0m \u001B[38;5;28;01mreturn\u001B[39;00m result\n",
      "File \u001B[0;32m/Volumes/Dev/repo/ij/python-ai/venv/lib/python3.9/site-packages/pandas/core/nanops.py:404\u001B[0m, in \u001B[0;36m_datetimelike_compat.<locals>.new_func\u001B[0;34m(values, axis, skipna, mask, **kwargs)\u001B[0m\n\u001B[1;32m    401\u001B[0m \u001B[38;5;28;01mif\u001B[39;00m datetimelike \u001B[38;5;129;01mand\u001B[39;00m mask \u001B[38;5;129;01mis\u001B[39;00m \u001B[38;5;28;01mNone\u001B[39;00m:\n\u001B[1;32m    402\u001B[0m     mask \u001B[38;5;241m=\u001B[39m isna(values)\n\u001B[0;32m--> 404\u001B[0m result \u001B[38;5;241m=\u001B[39m \u001B[43mfunc\u001B[49m\u001B[43m(\u001B[49m\u001B[43mvalues\u001B[49m\u001B[43m,\u001B[49m\u001B[43m \u001B[49m\u001B[43maxis\u001B[49m\u001B[38;5;241;43m=\u001B[39;49m\u001B[43maxis\u001B[49m\u001B[43m,\u001B[49m\u001B[43m \u001B[49m\u001B[43mskipna\u001B[49m\u001B[38;5;241;43m=\u001B[39;49m\u001B[43mskipna\u001B[49m\u001B[43m,\u001B[49m\u001B[43m \u001B[49m\u001B[43mmask\u001B[49m\u001B[38;5;241;43m=\u001B[39;49m\u001B[43mmask\u001B[49m\u001B[43m,\u001B[49m\u001B[43m \u001B[49m\u001B[38;5;241;43m*\u001B[39;49m\u001B[38;5;241;43m*\u001B[39;49m\u001B[43mkwargs\u001B[49m\u001B[43m)\u001B[49m\n\u001B[1;32m    406\u001B[0m \u001B[38;5;28;01mif\u001B[39;00m datetimelike:\n\u001B[1;32m    407\u001B[0m     result \u001B[38;5;241m=\u001B[39m _wrap_results(result, orig_values\u001B[38;5;241m.\u001B[39mdtype, fill_value\u001B[38;5;241m=\u001B[39miNaT)\n",
      "File \u001B[0;32m/Volumes/Dev/repo/ij/python-ai/venv/lib/python3.9/site-packages/pandas/core/nanops.py:720\u001B[0m, in \u001B[0;36mnanmean\u001B[0;34m(values, axis, skipna, mask)\u001B[0m\n\u001B[1;32m    718\u001B[0m count \u001B[38;5;241m=\u001B[39m _get_counts(values\u001B[38;5;241m.\u001B[39mshape, mask, axis, dtype\u001B[38;5;241m=\u001B[39mdtype_count)\n\u001B[1;32m    719\u001B[0m the_sum \u001B[38;5;241m=\u001B[39m values\u001B[38;5;241m.\u001B[39msum(axis, dtype\u001B[38;5;241m=\u001B[39mdtype_sum)\n\u001B[0;32m--> 720\u001B[0m the_sum \u001B[38;5;241m=\u001B[39m \u001B[43m_ensure_numeric\u001B[49m\u001B[43m(\u001B[49m\u001B[43mthe_sum\u001B[49m\u001B[43m)\u001B[49m\n\u001B[1;32m    722\u001B[0m \u001B[38;5;28;01mif\u001B[39;00m axis \u001B[38;5;129;01mis\u001B[39;00m \u001B[38;5;129;01mnot\u001B[39;00m \u001B[38;5;28;01mNone\u001B[39;00m \u001B[38;5;129;01mand\u001B[39;00m \u001B[38;5;28mgetattr\u001B[39m(the_sum, \u001B[38;5;124m\"\u001B[39m\u001B[38;5;124mndim\u001B[39m\u001B[38;5;124m\"\u001B[39m, \u001B[38;5;28;01mFalse\u001B[39;00m):\n\u001B[1;32m    723\u001B[0m     count \u001B[38;5;241m=\u001B[39m cast(np\u001B[38;5;241m.\u001B[39mndarray, count)\n",
      "File \u001B[0;32m/Volumes/Dev/repo/ij/python-ai/venv/lib/python3.9/site-packages/pandas/core/nanops.py:1686\u001B[0m, in \u001B[0;36m_ensure_numeric\u001B[0;34m(x)\u001B[0m\n\u001B[1;32m   1683\u001B[0m inferred \u001B[38;5;241m=\u001B[39m lib\u001B[38;5;241m.\u001B[39minfer_dtype(x)\n\u001B[1;32m   1684\u001B[0m \u001B[38;5;28;01mif\u001B[39;00m inferred \u001B[38;5;129;01min\u001B[39;00m [\u001B[38;5;124m\"\u001B[39m\u001B[38;5;124mstring\u001B[39m\u001B[38;5;124m\"\u001B[39m, \u001B[38;5;124m\"\u001B[39m\u001B[38;5;124mmixed\u001B[39m\u001B[38;5;124m\"\u001B[39m]:\n\u001B[1;32m   1685\u001B[0m     \u001B[38;5;66;03m# GH#44008, GH#36703 avoid casting e.g. strings to numeric\u001B[39;00m\n\u001B[0;32m-> 1686\u001B[0m     \u001B[38;5;28;01mraise\u001B[39;00m \u001B[38;5;167;01mTypeError\u001B[39;00m(\u001B[38;5;124mf\u001B[39m\u001B[38;5;124m\"\u001B[39m\u001B[38;5;124mCould not convert \u001B[39m\u001B[38;5;132;01m{\u001B[39;00mx\u001B[38;5;132;01m}\u001B[39;00m\u001B[38;5;124m to numeric\u001B[39m\u001B[38;5;124m\"\u001B[39m)\n\u001B[1;32m   1687\u001B[0m \u001B[38;5;28;01mtry\u001B[39;00m:\n\u001B[1;32m   1688\u001B[0m     x \u001B[38;5;241m=\u001B[39m x\u001B[38;5;241m.\u001B[39mastype(np\u001B[38;5;241m.\u001B[39mcomplex128)\n",
      "\u001B[0;31mTypeError\u001B[0m: Could not convert ['MMFMIIFFMFFMMFFMIFMMMIFFFFFMMMMFMFFMFFFMFFIIIIMFIFIMMFMFMMIFMMFMMMFFFIMFFMFFMFFFFMFMMFMMFFMMMFMMMMMFIMMMMFFFFFMMIMFFFMFMFIFMIIIIMMMFFIIFFMFMFFMMMFMIIIMFFFFMFMFFMFMFFMFFMFMFMFIIIIIMMMFFFMFFFFMMMIFMFMMMFMFFMFIIFIFMFMFMMIMFFFFFIFFIFFMMMIIIIIIIMIIIIIIIIIIMFFMMMMFFFFMIMFMMMFFMMMMMFMMFFIFMMFMFMFMFMFMIIIMMFFMMFIIMMMFMMFMIFMFIIIMIMIIMMIMFIIFMMMMFMFMFFMFIIMFFMMMMMFMFMFFFFMMFMFFFFFMFMFMFMMMMMFMMMIIMFIIIFMMMFMFFIFMMMMMMFMFFFMFMFIFIIMFMFFFMMMIMIIMMIIFIFFMMMFMFFFFMFIIFMFIIIIFMFMFFIFFMFMMMFMMFMFMFMFMMFMMFFFFMFFFFFMMMMIIFFMFMMMMFMFIMMMMFFMIFIFIIIMMFFFMMFMMMFIIIIIIIIFFIFIFFFMIIMFIIFFIFIFIFFIFIFIIFMFIFIFMIFIIFIFFIIIMIMMFMMIIMFMMMMIFFIFFFIMIFMIMMMMIFMIFMMIMMIFMIIMFMFFIFIIFFIFMFMFMFFMFFMFFFIMFMMMFFMMMIFMIIIMFFMFFMMMMFMIIMIMMIIIIIIMMMMFMFMFMMMMMMMFMMMFFFMFFMMMFMFFMMMFMMMFFMFMFMFFFIMMMMMMMFMMMIIMFMFFFFMMMMMMMFMMMIMMIFFFMFIIIIIIIIIIIIIIIIIIMIIIIIMIFIMFMMMMFFFMFMMMMFMMFFFFMFMFMFFMMFMFFMMFFFMMMMMFFFFFFMIIIIIIIIIIIIIIIIIIIIIIIIIIIIIIIIIIIIIIIFIIIIIIIIIIIIFMFMFMMMMFMMMMIMMFIMIMIIMMFMFMFFMFMMFFFFMMFMMMFFFMFMMMFFFMFMFMMMMFFFMFFFMFMMMMFFFMMFMFFMMMFFFMMFMFFMMMFFMMFFMIIIIIIIIIIIIIIIIIIIIIIIIIIIMIIIIIIIIIIIIMIIIIMIIIMFIFIIIMIIFIIMIIIIMMMFFMMMFMMMFMFIFFMFMIMMMMMMMFMMMFMFMFMMFMMMMFFMMFFMMMFMMFFMMFFMIFFMFMFMMMFFFMMFFMMFMMFFMFIIIIIIIIIIIIIIIIIIIIIIIIIIIIIIIIIIIIIIIIIIIIIIIIIIIIIFIIIFIIIIIIIIIIIIMIMIIIIIIIIIIIIIMIIIIIIFMFIIFIIIFMIIMIIIIIFIIFMMIIFMIMFFMMMFMMIMMMMIMMFFMMIFFMIMIFFMMMIMMFMMFMMFMMFFMFFFFIMIMMFFMMMMMMMFFMMFFMFMFFFFFMMFFMMFFFMFFFFFFIIIIIIIIIIIIIIMIIIMIMIIIIIMIFIIMMFMFIMIMMIMFFMFFMMMFFMMFFFMMFFFFIMFMMMMFMMFFMFFMFFMFMFMMFMMMFMMFMMMMMMIIIIIIIIIIIIIIIIIIIIIIIIIIIIIIIIIIIIIIIMIIIMIIIIIIIIIFIIIIIIMIIIMIIIIIIIIMIIIIIIMIIIIIIIIIMIFMMFMIIIIMIFIMFIIFMMFMMIFMIIFMMIFFMIFMMFMIFFFMFFMFIMFMMIFMFIFIIMFMMMIFIMFMMMIMFFFMMMMMMMMFMFMFFMMMMFFFMFMMMMFMMMMFFFMFMFMFFMFFMFFMMMFFFMFFMMMIIFMIMIIIIMIMIFMMMMMMFIIFFFMMMIFMIMMMMFFMMMMFFMMMFMFFFFMFFMMIIIIIIIIIIIIIIIIIIIIIIIIIIIIIIIIIIFIIMIIIIIIIIIIIIIFIIIIIIMMMIMIFMMIMIMMMMFMMMMMFIIFMFFMIMMFMMFIFMMFFFMMFMMMFMMMMMMFFFMFFFMMMMFFIMFFMFIFFFFMFMFMMFMFMMMMMFMMFFMFFMIIIIIIIIIIIIIIIIIIIIIIIIIMIMIIMMMIMMFFMFFMFMMFMMFMIIIIIIIIFIIIIIMFMMMIFIMIMFMMMFFFFMIFMFFMFFMFMMFMFFFMFFMFMFIMMMMFIMIMFMMFMMIIMIIIIFFIMIFFMMFIMMMMFMFMFFFMFIIMMFMMMMMFFIMMMMMFMFFFMFIFMIMIIMFMFFFFFMMMIMFMMFMMFIIIIIIFFFMMMIFMFFMMFMFFIFMFFMFFFMIIFMMFFMFMFMIFMFFMIMFFMFMMFFMMMMMFMMFFIFFFFMFFMFMMFFMMMIFIIIFFIFIMFIMFFMIIFFMFMFFFMMFMIMFMMMFFIMMIFFMMFIIMFMFMFMMMFIIIMFFMMFFMMFMMMMFFFMFMFFMMFIIMFFIMFIIFMMIFFFFIIMFMMIIIIIIFIFIMIIFIIFFIMFIMMMFFMIFFMIIMFMIFFFIFMIFFMMMFMMFIFFFMMIIIIIIFMFMMFMMMFMMMMFMFMMFFFMMFMIFFMMMFFIMMFMMMFFIIIIIIIIIIMFIFIMMIMMMFMMMMFFFMFMMFFIMFFFFFFIIIIIIIIIIIIIIIIIIIIIFFIIIMIIMMIIMMMFMFMFFFFMFFMFFFFFMMFFMFFFMFFFFMFFMMFMFMFMFFMMIIIIIIIIIIIIIIIIIIIMIIMMIIIIFMMFIFIMFMFFMFFMMFFMMMFFMFMMMMFMMMMMMFMMFMFMFMMFMMMMFMMFMIIIIIIIIIIIIIIIIIIIIIIIIIIIMIIIIIMIIIIIIFMIIFIIMFIIIIIIFIIIFFMFFIMIFMMMMMMMMFFFFMMMFMMMMMFMMMFFFMFMMMIIIIIIIIIIIIIIMIMIFMFFFMMFMFMMMMMFMMFMMFFFFFFMMFFFMMIIIIIIIIIIIIIIFIIIIIIIMIIIMIMFIIIIIIFIIFIMMMFFMFIMIIMMIFMFMFMIIFMIFFMFFMMMFFMFMFMFMMFMMMFFMMFFFFFFIFMMMMFMMMMMMIIIMMIFFFFIMMMMFMIFMMFFFFMMMFFMMMFIIIIIIIIIIIIIIIIIIIIIIIIMMIIMIMFMIMIFMMIMMMFFMFMMIFMMFFMFFMMMFFFMMFFMFFMFFIIIIIIMMMMFMMFMFMMMMMMIIIIIIIIIIIMFMFFFMMFMMFFFMMFFMMMMMIMIIIFMMFFFFFFMMMMFMFIFMFFFFMMMFMFMMIFFMIFMMMFFFFMMIMFMFFIIMFFFFFFMIIIIMFFFFFMMFMMMMMMIFFIFMMMFFMIMMFMMMFFFMFMMFIMIFIFMMMFFFMFMFFMFFMMFFMMFMFMMFFMFFMFMFMFMFMFMFMFFFFFIIFMIFFFMIMMMMFFIFFIMIIIFFFIIIFFIFFIFMFIFIMIIIFFIFIIIMIFMMIMIMIIIMMIMFFIIMIIMMMFFMMMMMMMMMFMFMFMMMIMIIIIIIIIMFFMMFMFMMFMFMMIIIIIIIIIIIIIFMIFIIFMMFMFFFMFFFMMFFMMFMMFFMFIIIIIIIIIIIIIIFIIFMMMMFMMFMFMMMFFMMFFFMMFFMFFFMMFIIIIIIIIIIIIIIIIIMIIIIIIIIIFIMIIIIMIIIFMIFIIFMIIIMFFFFMFMFFFMFFMMIMMMFFMFFMMMMMIIIIIIFMMFMFMFMMMMMFFFMMFFMMFIIIIIIIIIIIIIIIIIIIIIIIFIIMIMIMFIIIIIIFFIMIFFFMFMFMFMMMIMFIIFMMMMMFMMFMFMFFMFFMFMMMFMFMIIIIFMIIFMIMIMMFFMMMMMFFFFFFIIIIIIIIIIIIIIIMMMIIIIFMMFIIMFIMFMIMMMFIMMMMFFFFFFMMFMFFMIIIIMIFMFIMFIIIMMMMMMFFMMFMMFMFFMMFMIIMFMFMMMIMFMFMMFFMIMFFFFMFIMFFFFMFFIFMMFMFIFFMIIFFFMMFFIMFMFFIMFIMMMMIIFMIIIIIFIFIMMIMFFIIIFFIFIIMFMFMMFFMMIMMFFFFIIMIFFFFMMFIIIIIIIIIMIIIIIMMFMIFMMFFMFMMMMIIIIIIIIIIMFMFMMMMFMMMFMMMFFMIIIIIIIIIIIMIIIIIFIFFFMMMFMMMMFFFMFFMIMMFFIIIIIIIIIIMIIMMIMIMFMMIMMMMFMMFFMFMFFMMFFFIIMMIFIFFMFMIMIIIIIMIMIMIIMFFFMMFFFMFMMMMMIIIIIIIMMIFFFMIIIIMFMMMFMMFM'\n 'length_shortlength_shortlength_shortlength_shortlength_shortlength_shortlength_shortlength_shortlength_shortlength_longlength_shortlength_shortlength_shortlength_shortlength_shortlength_shortlength_shortlength_shortlength_shortlength_shortlength_shortlength_shortlength_longlength_longlength_longlength_longlength_longlength_longlength_longlength_longlength_longlength_longlength_longlength_longlength_longlength_shortlength_shortlength_shortlength_longlength_shortlength_shortlength_longlength_shortlength_shortlength_shortlength_shortlength_shortlength_shortlength_shortlength_shortlength_shortlength_shortlength_shortlength_shortlength_shortlength_shortlength_shortlength_shortlength_shortlength_shortlength_shortlength_shortlength_shortlength_shortlength_shortlength_shortlength_longlength_longlength_shortlength_shortlength_longlength_shortlength_longlength_longlength_longlength_longlength_longlength_longlength_longlength_longlength_longlength_longlength_shortlength_longlength_longlength_longlength_longlength_longlength_shortlength_longlength_longlength_longlength_longlength_longlength_longlength_longlength_shortlength_shortlength_shortlength_shortlength_shortlength_longlength_shortlength_shortlength_longlength_shortlength_shortlength_shortlength_shortlength_shortlength_shortlength_shortlength_shortlength_shortlength_shortlength_shortlength_shortlength_shortlength_longlength_shortlength_shortlength_shortlength_shortlength_shortlength_shortlength_shortlength_shortlength_shortlength_longlength_longlength_longlength_shortlength_shortlength_shortlength_shortlength_shortlength_shortlength_shortlength_shortlength_shortlength_longlength_longlength_longlength_longlength_shortlength_shortlength_shortlength_shortlength_shortlength_shortlength_longlength_longlength_longlength_longlength_longlength_shortlength_longlength_longlength_longlength_longlength_longlength_longlength_longlength_longlength_longlength_longlength_longlength_longlength_longlength_longlength_longlength_shortlength_shortlength_shortlength_shortlength_shortlength_shortlength_shortlength_shortlength_longlength_longlength_longlength_longlength_longlength_longlength_longlength_longlength_longlength_longlength_longlength_longlength_longlength_longlength_shortlength_shortlength_shortlength_shortlength_longlength_longlength_longlength_shortlength_shortlength_shortlength_shortlength_shortlength_shortlength_shortlength_shortlength_shortlength_shortlength_shortlength_shortlength_shortlength_shortlength_shortlength_longlength_shortlength_shortlength_shortlength_shortlength_shortlength_shortlength_shortlength_shortlength_shortlength_shortlength_shortlength_shortlength_longlength_shortlength_longlength_longlength_longlength_shortlength_shortlength_shortlength_shortlength_shortlength_shortlength_shortlength_longlength_shortlength_shortlength_shortlength_shortlength_shortlength_shortlength_shortlength_shortlength_shortlength_shortlength_longlength_longlength_longlength_longlength_longlength_longlength_shortlength_longlength_longlength_shortlength_longlength_shortlength_shortlength_shortlength_shortlength_shortlength_shortlength_shortlength_shortlength_longlength_longlength_longlength_longlength_longlength_longlength_longlength_longlength_longlength_shortlength_shortlength_shortlength_shortlength_shortlength_shortlength_shortlength_shortlength_shortlength_shortlength_shortlength_shortlength_longlength_longlength_longlength_longlength_shortlength_shortlength_shortlength_shortlength_shortlength_shortlength_shortlength_shortlength_shortlength_shortlength_shortlength_shortlength_longlength_longlength_longlength_longlength_longlength_longlength_longlength_longlength_shortlength_longlength_shortlength_longlength_shortlength_shortlength_shortlength_shortlength_shortlength_shortlength_shortlength_shortlength_shortlength_shortlength_shortlength_shortlength_shortlength_shortlength_shortlength_longlength_longlength_longlength_longlength_longlength_longlength_longlength_longlength_longlength_shortlength_shortlength_shortlength_shortlength_shortlength_shortlength_longlength_longlength_longlength_longlength_longlength_longlength_longlength_longlength_longlength_longlength_longlength_longlength_longlength_longlength_longlength_longlength_longlength_longlength_longlength_longlength_longlength_longlength_longlength_longlength_longlength_longlength_longlength_longlength_longlength_longlength_longlength_longlength_shortlength_shortlength_shortlength_shortlength_shortlength_shortlength_shortlength_shortlength_shortlength_shortlength_shortlength_shortlength_shortlength_shortlength_shortlength_shortlength_shortlength_shortlength_longlength_shortlength_shortlength_shortlength_shortlength_shortlength_shortlength_shortlength_longlength_longlength_longlength_longlength_longlength_longlength_shortlength_longlength_longlength_longlength_longlength_longlength_shortlength_longlength_shortlength_shortlength_shortlength_shortlength_longlength_longlength_longlength_longlength_longlength_longlength_longlength_longlength_shortlength_shortlength_shortlength_shortlength_shortlength_shortlength_shortlength_shortlength_shortlength_shortlength_shortlength_shortlength_longlength_longlength_longlength_longlength_longlength_longlength_longlength_longlength_longlength_longlength_longlength_longlength_shortlength_shortlength_shortlength_shortlength_longlength_shortlength_shortlength_shortlength_shortlength_longlength_longlength_longlength_longlength_shortlength_shortlength_shortlength_shortlength_shortlength_shortlength_shortlength_longlength_longlength_longlength_longlength_longlength_longlength_longlength_longlength_longlength_longlength_longlength_shortlength_longlength_longlength_longlength_longlength_longlength_longlength_longlength_longlength_longlength_longlength_longlength_longlength_longlength_longlength_longlength_longlength_longlength_longlength_longlength_longlength_longlength_longlength_shortlength_shortlength_shortlength_shortlength_shortlength_shortlength_shortlength_shortlength_shortlength_shortlength_shortlength_shortlength_shortlength_shortlength_shortlength_shortlength_longlength_longlength_shortlength_shortlength_shortlength_shortlength_shortlength_shortlength_shortlength_shortlength_shortlength_shortlength_shortlength_shortlength_shortlength_shortlength_shortlength_shortlength_shortlength_shortlength_shortlength_longlength_longlength_longlength_longlength_longlength_shortlength_shortlength_shortlength_shortlength_longlength_longlength_shortlength_shortlength_shortlength_shortlength_shortlength_shortlength_shortlength_shortlength_shortlength_shortlength_shortlength_shortlength_shortlength_longlength_longlength_longlength_longlength_longlength_longlength_longlength_longlength_longlength_longlength_longlength_shortlength_shortlength_shortlength_shortlength_longlength_shortlength_shortlength_shortlength_shortlength_shortlength_longlength_shortlength_longlength_longlength_longlength_longlength_longlength_shortlength_shortlength_shortlength_shortlength_shortlength_shortlength_shortlength_shortlength_shortlength_shortlength_shortlength_shortlength_shortlength_shortlength_shortlength_shortlength_shortlength_shortlength_shortlength_shortlength_shortlength_shortlength_shortlength_shortlength_shortlength_shortlength_shortlength_shortlength_shortlength_shortlength_shortlength_shortlength_shortlength_shortlength_shortlength_shortlength_shortlength_shortlength_shortlength_shortlength_shortlength_longlength_longlength_shortlength_shortlength_shortlength_shortlength_shortlength_shortlength_shortlength_shortlength_shortlength_shortlength_shortlength_shortlength_shortlength_longlength_longlength_longlength_longlength_longlength_shortlength_shortlength_shortlength_shortlength_shortlength_shortlength_shortlength_longlength_shortlength_shortlength_shortlength_shortlength_shortlength_shortlength_shortlength_shortlength_shortlength_shortlength_shortlength_shortlength_shortlength_shortlength_shortlength_shortlength_longlength_shortlength_shortlength_shortlength_longlength_shortlength_shortlength_shortlength_shortlength_shortlength_shortlength_shortlength_shortlength_shortlength_shortlength_shortlength_shortlength_shortlength_shortlength_shortlength_shortlength_shortlength_shortlength_shortlength_shortlength_shortlength_shortlength_shortlength_shortlength_shortlength_shortlength_shortlength_shortlength_shortlength_shortlength_shortlength_longlength_longlength_shortlength_shortlength_shortlength_shortlength_shortlength_shortlength_shortlength_shortlength_shortlength_shortlength_shortlength_shortlength_shortlength_shortlength_shortlength_shortlength_shortlength_shortlength_shortlength_shortlength_shortlength_shortlength_shortlength_longlength_shortlength_shortlength_longlength_shortlength_shortlength_longlength_longlength_longlength_longlength_longlength_longlength_longlength_longlength_longlength_longlength_shortlength_longlength_longlength_shortlength_longlength_shortlength_longlength_shortlength_shortlength_shortlength_shortlength_shortlength_shortlength_shortlength_shortlength_shortlength_shortlength_shortlength_longlength_shortlength_shortlength_shortlength_shortlength_longlength_shortlength_shortlength_shortlength_longlength_longlength_shortlength_shortlength_longlength_longlength_shortlength_shortlength_shortlength_shortlength_shortlength_shortlength_shortlength_shortlength_shortlength_shortlength_shortlength_shortlength_shortlength_shortlength_shortlength_shortlength_shortlength_shortlength_shortlength_shortlength_shortlength_shortlength_shortlength_shortlength_shortlength_shortlength_shortlength_shortlength_shortlength_shortlength_shortlength_shortlength_shortlength_shortlength_shortlength_shortlength_shortlength_shortlength_shortlength_shortlength_shortlength_shortlength_shortlength_shortlength_shortlength_shortlength_shortlength_shortlength_shortlength_shortlength_shortlength_shortlength_shortlength_longlength_longlength_longlength_longlength_longlength_longlength_longlength_longlength_longlength_longlength_longlength_longlength_longlength_longlength_longlength_longlength_longlength_longlength_longlength_longlength_longlength_longlength_longlength_longlength_longlength_longlength_longlength_longlength_longlength_longlength_longlength_longlength_longlength_longlength_longlength_longlength_longlength_longlength_longlength_longlength_longlength_longlength_longlength_longlength_shortlength_shortlength_shortlength_shortlength_shortlength_shortlength_shortlength_shortlength_shortlength_shortlength_shortlength_shortlength_shortlength_shortlength_shortlength_shortlength_shortlength_shortlength_shortlength_shortlength_shortlength_shortlength_shortlength_shortlength_shortlength_shortlength_shortlength_shortlength_shortlength_shortlength_shortlength_shortlength_shortlength_shortlength_shortlength_shortlength_shortlength_shortlength_shortlength_shortlength_shortlength_shortlength_shortlength_shortlength_shortlength_shortlength_shortlength_shortlength_shortlength_shortlength_shortlength_shortlength_shortlength_shortlength_shortlength_shortlength_shortlength_shortlength_shortlength_shortlength_shortlength_shortlength_shortlength_shortlength_shortlength_shortlength_shortlength_shortlength_shortlength_shortlength_shortlength_shortlength_shortlength_shortlength_shortlength_shortlength_shortlength_shortlength_shortlength_shortlength_shortlength_shortlength_shortlength_shortlength_shortlength_shortlength_shortlength_shortlength_longlength_longlength_longlength_longlength_longlength_longlength_longlength_longlength_longlength_longlength_longlength_longlength_longlength_longlength_longlength_longlength_longlength_longlength_longlength_longlength_longlength_longlength_longlength_longlength_longlength_longlength_longlength_longlength_longlength_longlength_longlength_longlength_longlength_longlength_longlength_longlength_longlength_longlength_longlength_longlength_longlength_longlength_longlength_longlength_longlength_longlength_longlength_longlength_longlength_longlength_longlength_longlength_longlength_longlength_longlength_longlength_longlength_longlength_longlength_longlength_longlength_longlength_longlength_longlength_longlength_longlength_longlength_longlength_longlength_longlength_longlength_longlength_longlength_shortlength_shortlength_shortlength_shortlength_shortlength_shortlength_shortlength_shortlength_shortlength_shortlength_shortlength_shortlength_shortlength_shortlength_shortlength_shortlength_shortlength_shortlength_shortlength_shortlength_shortlength_shortlength_shortlength_shortlength_shortlength_shortlength_shortlength_shortlength_shortlength_shortlength_shortlength_shortlength_shortlength_shortlength_shortlength_shortlength_shortlength_shortlength_shortlength_shortlength_shortlength_shortlength_shortlength_shortlength_shortlength_shortlength_shortlength_shortlength_shortlength_shortlength_shortlength_shortlength_shortlength_shortlength_shortlength_shortlength_shortlength_shortlength_shortlength_shortlength_shortlength_shortlength_shortlength_shortlength_shortlength_shortlength_shortlength_shortlength_shortlength_shortlength_longlength_longlength_longlength_longlength_longlength_longlength_longlength_longlength_longlength_longlength_longlength_longlength_longlength_longlength_longlength_longlength_longlength_longlength_longlength_longlength_longlength_longlength_longlength_longlength_longlength_longlength_longlength_longlength_longlength_longlength_longlength_longlength_longlength_longlength_longlength_longlength_longlength_longlength_longlength_longlength_longlength_longlength_longlength_longlength_longlength_longlength_longlength_longlength_longlength_longlength_longlength_longlength_longlength_longlength_longlength_longlength_longlength_longlength_longlength_longlength_longlength_longlength_longlength_longlength_longlength_longlength_longlength_longlength_longlength_longlength_longlength_longlength_longlength_longlength_longlength_longlength_longlength_longlength_longlength_longlength_longlength_longlength_longlength_longlength_longlength_longlength_longlength_shortlength_shortlength_shortlength_shortlength_shortlength_shortlength_shortlength_shortlength_shortlength_shortlength_shortlength_shortlength_shortlength_shortlength_shortlength_shortlength_shortlength_shortlength_shortlength_shortlength_shortlength_shortlength_shortlength_shortlength_shortlength_shortlength_shortlength_shortlength_shortlength_shortlength_shortlength_shortlength_shortlength_shortlength_shortlength_shortlength_shortlength_shortlength_shortlength_shortlength_shortlength_shortlength_shortlength_shortlength_shortlength_shortlength_shortlength_shortlength_shortlength_shortlength_shortlength_shortlength_shortlength_shortlength_shortlength_shortlength_shortlength_shortlength_shortlength_shortlength_shortlength_shortlength_shortlength_shortlength_shortlength_shortlength_shortlength_shortlength_shortlength_shortlength_shortlength_shortlength_shortlength_shortlength_shortlength_shortlength_shortlength_shortlength_shortlength_shortlength_shortlength_shortlength_shortlength_shortlength_shortlength_shortlength_shortlength_shortlength_shortlength_shortlength_shortlength_shortlength_shortlength_shortlength_shortlength_shortlength_shortlength_shortlength_shortlength_shortlength_shortlength_longlength_longlength_longlength_longlength_longlength_longlength_longlength_longlength_longlength_longlength_longlength_longlength_longlength_longlength_longlength_longlength_longlength_longlength_longlength_longlength_longlength_longlength_longlength_longlength_longlength_longlength_longlength_longlength_longlength_longlength_longlength_longlength_longlength_longlength_longlength_longlength_longlength_longlength_longlength_longlength_longlength_longlength_longlength_longlength_longlength_longlength_longlength_longlength_longlength_longlength_longlength_longlength_longlength_longlength_longlength_longlength_longlength_longlength_longlength_longlength_longlength_longlength_longlength_longlength_longlength_longlength_longlength_longlength_longlength_longlength_longlength_longlength_longlength_longlength_longlength_longlength_longlength_longlength_longlength_longlength_longlength_longlength_longlength_longlength_longlength_longlength_longlength_longlength_longlength_longlength_longlength_longlength_longlength_longlength_longlength_longlength_longlength_longlength_longlength_longlength_longlength_longlength_longlength_longlength_longlength_longlength_longlength_longlength_longlength_longlength_longlength_longlength_longlength_longlength_longlength_longlength_longlength_longlength_shortlength_shortlength_shortlength_shortlength_shortlength_shortlength_shortlength_shortlength_shortlength_shortlength_shortlength_shortlength_shortlength_shortlength_shortlength_shortlength_shortlength_shortlength_shortlength_shortlength_shortlength_shortlength_shortlength_shortlength_shortlength_shortlength_shortlength_shortlength_shortlength_shortlength_shortlength_shortlength_shortlength_shortlength_shortlength_shortlength_shortlength_shortlength_shortlength_shortlength_shortlength_shortlength_shortlength_shortlength_longlength_longlength_longlength_longlength_longlength_longlength_longlength_longlength_longlength_longlength_longlength_longlength_longlength_longlength_longlength_longlength_longlength_longlength_longlength_longlength_longlength_longlength_longlength_longlength_longlength_longlength_longlength_longlength_longlength_longlength_longlength_longlength_longlength_longlength_longlength_longlength_longlength_longlength_longlength_longlength_longlength_longlength_longlength_longlength_longlength_longlength_longlength_longlength_longlength_longlength_longlength_longlength_longlength_longlength_longlength_longlength_longlength_longlength_shortlength_shortlength_shortlength_shortlength_shortlength_shortlength_shortlength_shortlength_shortlength_shortlength_shortlength_shortlength_shortlength_shortlength_shortlength_shortlength_shortlength_shortlength_shortlength_shortlength_shortlength_shortlength_shortlength_shortlength_shortlength_shortlength_shortlength_shortlength_shortlength_shortlength_shortlength_shortlength_shortlength_shortlength_shortlength_shortlength_shortlength_shortlength_shortlength_shortlength_shortlength_shortlength_shortlength_shortlength_shortlength_shortlength_shortlength_shortlength_shortlength_shortlength_shortlength_shortlength_shortlength_shortlength_shortlength_shortlength_shortlength_shortlength_shortlength_shortlength_shortlength_shortlength_shortlength_shortlength_shortlength_shortlength_shortlength_shortlength_shortlength_shortlength_shortlength_shortlength_shortlength_shortlength_shortlength_shortlength_shortlength_shortlength_shortlength_shortlength_longlength_longlength_longlength_longlength_longlength_longlength_longlength_longlength_longlength_longlength_longlength_longlength_longlength_longlength_longlength_longlength_longlength_longlength_longlength_longlength_longlength_longlength_longlength_longlength_longlength_longlength_longlength_longlength_longlength_longlength_longlength_longlength_longlength_longlength_longlength_longlength_longlength_longlength_longlength_longlength_longlength_longlength_longlength_longlength_longlength_longlength_longlength_longlength_longlength_longlength_longlength_longlength_longlength_longlength_longlength_longlength_longlength_longlength_longlength_longlength_longlength_longlength_longlength_longlength_longlength_longlength_longlength_longlength_longlength_longlength_longlength_longlength_longlength_longlength_longlength_longlength_longlength_longlength_longlength_longlength_longlength_longlength_longlength_longlength_longlength_longlength_longlength_longlength_longlength_longlength_longlength_longlength_longlength_longlength_longlength_longlength_longlength_longlength_longlength_longlength_longlength_longlength_longlength_longlength_longlength_longlength_longlength_longlength_longlength_longlength_longlength_longlength_longlength_longlength_longlength_longlength_longlength_longlength_longlength_longlength_longlength_longlength_longlength_longlength_longlength_longlength_longlength_longlength_longlength_longlength_longlength_longlength_longlength_longlength_longlength_longlength_longlength_longlength_longlength_longlength_longlength_longlength_longlength_longlength_longlength_longlength_longlength_longlength_longlength_longlength_longlength_longlength_longlength_shortlength_shortlength_shortlength_shortlength_shortlength_shortlength_shortlength_shortlength_shortlength_shortlength_shortlength_shortlength_shortlength_shortlength_shortlength_shortlength_shortlength_shortlength_shortlength_shortlength_shortlength_shortlength_shortlength_shortlength_shortlength_shortlength_longlength_longlength_longlength_longlength_longlength_longlength_longlength_longlength_longlength_longlength_longlength_longlength_longlength_longlength_longlength_longlength_longlength_longlength_longlength_longlength_longlength_longlength_longlength_longlength_longlength_longlength_longlength_longlength_longlength_longlength_longlength_longlength_longlength_longlength_shortlength_shortlength_shortlength_shortlength_shortlength_shortlength_shortlength_shortlength_shortlength_shortlength_shortlength_shortlength_shortlength_shortlength_shortlength_shortlength_shortlength_shortlength_shortlength_shortlength_shortlength_shortlength_shortlength_shortlength_shortlength_shortlength_shortlength_shortlength_shortlength_shortlength_shortlength_shortlength_shortlength_shortlength_shortlength_shortlength_shortlength_shortlength_shortlength_shortlength_shortlength_shortlength_shortlength_shortlength_shortlength_shortlength_shortlength_shortlength_shortlength_shortlength_shortlength_shortlength_shortlength_shortlength_shortlength_shortlength_longlength_longlength_longlength_longlength_longlength_longlength_longlength_longlength_longlength_longlength_longlength_longlength_longlength_longlength_longlength_longlength_longlength_longlength_longlength_longlength_longlength_longlength_longlength_longlength_longlength_longlength_longlength_longlength_longlength_longlength_longlength_longlength_longlength_longlength_longlength_longlength_longlength_longlength_longlength_longlength_longlength_longlength_longlength_longlength_longlength_longlength_longlength_longlength_longlength_longlength_longlength_longlength_longlength_longlength_longlength_longlength_longlength_longlength_longlength_longlength_longlength_longlength_longlength_longlength_longlength_longlength_longlength_longlength_longlength_longlength_longlength_longlength_longlength_longlength_longlength_longlength_longlength_longlength_longlength_longlength_longlength_longlength_longlength_longlength_longlength_longlength_longlength_longlength_longlength_longlength_longlength_longlength_longlength_longlength_longlength_longlength_longlength_longlength_longlength_longlength_longlength_longlength_longlength_longlength_longlength_longlength_shortlength_shortlength_shortlength_shortlength_shortlength_shortlength_shortlength_shortlength_shortlength_shortlength_shortlength_shortlength_shortlength_shortlength_shortlength_shortlength_shortlength_shortlength_shortlength_shortlength_shortlength_shortlength_shortlength_shortlength_shortlength_shortlength_shortlength_shortlength_shortlength_shortlength_shortlength_shortlength_shortlength_shortlength_shortlength_shortlength_shortlength_shortlength_shortlength_longlength_longlength_longlength_longlength_longlength_longlength_longlength_longlength_longlength_longlength_longlength_shortlength_shortlength_shortlength_shortlength_shortlength_shortlength_shortlength_shortlength_shortlength_shortlength_shortlength_shortlength_shortlength_shortlength_shortlength_shortlength_shortlength_shortlength_shortlength_shortlength_shortlength_shortlength_shortlength_shortlength_shortlength_shortlength_shortlength_shortlength_shortlength_shortlength_shortlength_shortlength_shortlength_longlength_longlength_longlength_longlength_longlength_longlength_longlength_longlength_longlength_longlength_longlength_longlength_longlength_longlength_longlength_longlength_longlength_longlength_longlength_longlength_longlength_longlength_shortlength_shortlength_shortlength_shortlength_shortlength_shortlength_shortlength_shortlength_shortlength_shortlength_shortlength_shortlength_shortlength_shortlength_longlength_longlength_longlength_longlength_longlength_shortlength_shortlength_shortlength_shortlength_shortlength_shortlength_shortlength_shortlength_shortlength_shortlength_shortlength_shortlength_shortlength_shortlength_shortlength_shortlength_shortlength_shortlength_longlength_longlength_longlength_shortlength_shortlength_shortlength_shortlength_longlength_longlength_longlength_longlength_longlength_shortlength_shortlength_shortlength_shortlength_shortlength_shortlength_shortlength_shortlength_shortlength_shortlength_shortlength_longlength_shortlength_shortlength_longlength_longlength_longlength_longlength_longlength_longlength_longlength_longlength_longlength_longlength_shortlength_longlength_shortlength_shortlength_shortlength_shortlength_shortlength_shortlength_shortlength_longlength_longlength_longlength_longlength_longlength_longlength_longlength_longlength_shortlength_longlength_shortlength_shortlength_shortlength_shortlength_shortlength_shortlength_shortlength_longlength_longlength_longlength_shortlength_shortlength_shortlength_shortlength_shortlength_shortlength_longlength_longlength_longlength_longlength_longlength_shortlength_shortlength_shortlength_shortlength_longlength_longlength_longlength_longlength_longlength_longlength_shortlength_shortlength_shortlength_shortlength_shortlength_shortlength_shortlength_longlength_longlength_longlength_longlength_longlength_shortlength_shortlength_shortlength_shortlength_longlength_shortlength_longlength_longlength_longlength_longlength_longlength_longlength_shortlength_shortlength_shortlength_shortlength_shortlength_shortlength_shortlength_shortlength_shortlength_shortlength_shortlength_longlength_longlength_longlength_longlength_longlength_longlength_shortlength_shortlength_shortlength_shortlength_longlength_longlength_longlength_longlength_longlength_longlength_longlength_longlength_longlength_shortlength_longlength_longlength_shortlength_longlength_longlength_longlength_longlength_longlength_longlength_shortlength_shortlength_shortlength_shortlength_shortlength_shortlength_shortlength_shortlength_shortlength_shortlength_shortlength_longlength_shortlength_shortlength_shortlength_shortlength_shortlength_shortlength_shortlength_shortlength_shortlength_shortlength_shortlength_shortlength_shortlength_longlength_longlength_longlength_longlength_shortlength_shortlength_shortlength_shortlength_shortlength_shortlength_longlength_longlength_longlength_shortlength_shortlength_shortlength_shortlength_shortlength_shortlength_shortlength_shortlength_longlength_shortlength_shortlength_shortlength_shortlength_shortlength_shortlength_longlength_shortlength_longlength_longlength_longlength_longlength_longlength_longlength_longlength_longlength_shortlength_shortlength_shortlength_longlength_longlength_longlength_shortlength_shortlength_shortlength_shortlength_longlength_longlength_longlength_longlength_longlength_longlength_longlength_longlength_longlength_shortlength_longlength_longlength_longlength_longlength_longlength_longlength_longlength_longlength_longlength_shortlength_shortlength_shortlength_shortlength_shortlength_shortlength_shortlength_shortlength_shortlength_shortlength_shortlength_shortlength_shortlength_shortlength_shortlength_shortlength_shortlength_shortlength_shortlength_shortlength_shortlength_shortlength_shortlength_shortlength_longlength_longlength_longlength_longlength_shortlength_shortlength_shortlength_longlength_shortlength_shortlength_longlength_longlength_longlength_longlength_longlength_longlength_shortlength_shortlength_shortlength_shortlength_shortlength_shortlength_shortlength_shortlength_shortlength_shortlength_shortlength_shortlength_shortlength_shortlength_shortlength_longlength_longlength_shortlength_shortlength_shortlength_shortlength_longlength_longlength_longlength_longlength_shortlength_shortlength_shortlength_shortlength_shortlength_shortlength_shortlength_shortlength_shortlength_shortlength_shortlength_longlength_shortlength_shortlength_shortlength_shortlength_shortlength_shortlength_shortlength_shortlength_shortlength_shortlength_shortlength_shortlength_longlength_shortlength_shortlength_shortlength_shortlength_shortlength_shortlength_shortlength_shortlength_shortlength_shortlength_longlength_longlength_longlength_longlength_longlength_longlength_longlength_longlength_shortlength_shortlength_shortlength_shortlength_shortlength_shortlength_shortlength_shortlength_shortlength_longlength_shortlength_shortlength_shortlength_shortlength_shortlength_shortlength_shortlength_shortlength_shortlength_shortlength_shortlength_shortlength_shortlength_shortlength_shortlength_shortlength_shortlength_shortlength_shortlength_shortlength_shortlength_shortlength_shortlength_shortlength_shortlength_shortlength_shortlength_shortlength_shortlength_shortlength_shortlength_shortlength_shortlength_shortlength_shortlength_longlength_longlength_longlength_longlength_longlength_longlength_longlength_longlength_longlength_longlength_longlength_longlength_longlength_longlength_longlength_longlength_longlength_longlength_longlength_longlength_longlength_longlength_shortlength_shortlength_shortlength_shortlength_shortlength_shortlength_shortlength_shortlength_shortlength_shortlength_shortlength_shortlength_shortlength_shortlength_shortlength_shortlength_shortlength_shortlength_shortlength_shortlength_shortlength_shortlength_shortlength_shortlength_shortlength_shortlength_shortlength_shortlength_shortlength_shortlength_shortlength_shortlength_shortlength_shortlength_shortlength_shortlength_shortlength_shortlength_shortlength_shortlength_longlength_longlength_longlength_longlength_longlength_longlength_longlength_longlength_longlength_longlength_longlength_longlength_longlength_longlength_longlength_longlength_longlength_longlength_longlength_longlength_longlength_longlength_longlength_longlength_longlength_longlength_longlength_longlength_longlength_longlength_longlength_longlength_longlength_longlength_longlength_longlength_longlength_longlength_longlength_longlength_longlength_shortlength_shortlength_shortlength_shortlength_shortlength_shortlength_shortlength_shortlength_shortlength_shortlength_shortlength_shortlength_shortlength_shortlength_shortlength_shortlength_shortlength_shortlength_shortlength_shortlength_shortlength_shortlength_shortlength_shortlength_shortlength_shortlength_shortlength_shortlength_shortlength_shortlength_shortlength_shortlength_longlength_longlength_longlength_longlength_longlength_longlength_longlength_longlength_longlength_longlength_longlength_longlength_longlength_longlength_longlength_longlength_longlength_longlength_longlength_longlength_longlength_longlength_longlength_longlength_longlength_longlength_longlength_longlength_longlength_longlength_longlength_longlength_longlength_longlength_longlength_longlength_longlength_longlength_longlength_longlength_longlength_longlength_longlength_longlength_longlength_longlength_longlength_longlength_longlength_longlength_longlength_longlength_longlength_shortlength_shortlength_shortlength_shortlength_shortlength_shortlength_shortlength_shortlength_shortlength_shortlength_shortlength_shortlength_shortlength_shortlength_shortlength_shortlength_shortlength_shortlength_shortlength_shortlength_shortlength_shortlength_shortlength_shortlength_shortlength_shortlength_shortlength_shortlength_shortlength_shortlength_shortlength_shortlength_shortlength_shortlength_shortlength_shortlength_shortlength_shortlength_shortlength_shortlength_shortlength_shortlength_shortlength_shortlength_shortlength_shortlength_shortlength_shortlength_shortlength_longlength_longlength_longlength_longlength_longlength_longlength_longlength_longlength_longlength_longlength_longlength_longlength_longlength_longlength_longlength_longlength_longlength_longlength_longlength_longlength_longlength_longlength_longlength_longlength_longlength_longlength_longlength_longlength_longlength_longlength_longlength_longlength_longlength_longlength_longlength_longlength_longlength_longlength_longlength_longlength_longlength_longlength_longlength_longlength_longlength_longlength_longlength_longlength_longlength_longlength_longlength_longlength_shortlength_shortlength_shortlength_shortlength_shortlength_shortlength_shortlength_shortlength_shortlength_shortlength_shortlength_shortlength_shortlength_shortlength_shortlength_shortlength_shortlength_shortlength_shortlength_shortlength_shortlength_shortlength_longlength_longlength_longlength_longlength_longlength_longlength_longlength_longlength_longlength_longlength_longlength_longlength_longlength_longlength_longlength_longlength_longlength_longlength_longlength_longlength_longlength_longlength_longlength_longlength_longlength_longlength_longlength_longlength_longlength_longlength_shortlength_shortlength_shortlength_shortlength_shortlength_shortlength_shortlength_shortlength_shortlength_shortlength_shortlength_shortlength_shortlength_shortlength_shortlength_shortlength_shortlength_shortlength_shortlength_shortlength_shortlength_shortlength_shortlength_shortlength_shortlength_shortlength_shortlength_shortlength_shortlength_shortlength_shortlength_shortlength_shortlength_shortlength_longlength_longlength_longlength_longlength_longlength_longlength_longlength_longlength_longlength_longlength_longlength_longlength_longlength_longlength_longlength_longlength_longlength_longlength_longlength_longlength_longlength_longlength_longlength_longlength_longlength_longlength_longlength_longlength_longlength_longlength_longlength_longlength_longlength_longlength_longlength_longlength_longlength_longlength_longlength_longlength_longlength_longlength_longlength_longlength_longlength_longlength_longlength_longlength_longlength_longlength_longlength_longlength_longlength_longlength_longlength_longlength_longlength_longlength_longlength_longlength_longlength_longlength_longlength_longlength_longlength_longlength_longlength_longlength_longlength_longlength_longlength_longlength_longlength_longlength_longlength_longlength_longlength_shortlength_shortlength_shortlength_shortlength_shortlength_shortlength_shortlength_shortlength_shortlength_shortlength_shortlength_shortlength_longlength_longlength_longlength_longlength_longlength_longlength_longlength_longlength_longlength_longlength_longlength_longlength_longlength_longlength_longlength_longlength_longlength_longlength_longlength_longlength_longlength_longlength_shortlength_shortlength_shortlength_shortlength_shortlength_shortlength_shortlength_shortlength_shortlength_shortlength_shortlength_shortlength_shortlength_shortlength_shortlength_shortlength_shortlength_shortlength_shortlength_shortlength_shortlength_shortlength_shortlength_shortlength_shortlength_shortlength_longlength_longlength_longlength_longlength_longlength_longlength_longlength_longlength_longlength_longlength_longlength_longlength_longlength_longlength_longlength_longlength_longlength_longlength_longlength_longlength_longlength_longlength_longlength_longlength_longlength_longlength_longlength_longlength_longlength_longlength_longlength_longlength_longlength_longlength_longlength_longlength_longlength_longlength_longlength_longlength_longlength_longlength_longlength_longlength_longlength_longlength_longlength_longlength_shortlength_shortlength_shortlength_shortlength_shortlength_shortlength_shortlength_shortlength_shortlength_shortlength_shortlength_shortlength_shortlength_shortlength_shortlength_longlength_longlength_longlength_longlength_longlength_longlength_longlength_shortlength_shortlength_shortlength_shortlength_shortlength_shortlength_shortlength_shortlength_shortlength_shortlength_shortlength_shortlength_shortlength_shortlength_shortlength_shortlength_longlength_longlength_longlength_longlength_longlength_longlength_longlength_longlength_longlength_longlength_longlength_longlength_shortlength_shortlength_shortlength_shortlength_shortlength_shortlength_shortlength_longlength_shortlength_shortlength_shortlength_longlength_longlength_longlength_longlength_longlength_longlength_longlength_longlength_shortlength_shortlength_shortlength_shortlength_shortlength_shortlength_longlength_shortlength_shortlength_shortlength_longlength_longlength_longlength_shortlength_longlength_longlength_longlength_longlength_longlength_shortlength_shortlength_shortlength_shortlength_shortlength_shortlength_shortlength_shortlength_shortlength_shortlength_shortlength_longlength_longlength_longlength_longlength_shortlength_shortlength_longlength_longlength_shortlength_longlength_shortlength_longlength_longlength_shortlength_shortlength_shortlength_shortlength_shortlength_shortlength_shortlength_longlength_longlength_longlength_shortlength_shortlength_shortlength_shortlength_shortlength_longlength_longlength_longlength_longlength_longlength_longlength_longlength_shortlength_longlength_longlength_shortlength_shortlength_shortlength_shortlength_longlength_shortlength_shortlength_shortlength_shortlength_longlength_longlength_shortlength_shortlength_longlength_longlength_longlength_shortlength_longlength_longlength_longlength_longlength_longlength_longlength_longlength_longlength_longlength_longlength_longlength_longlength_shortlength_shortlength_shortlength_shortlength_shortlength_shortlength_shortlength_longlength_shortlength_shortlength_longlength_longlength_longlength_longlength_longlength_longlength_shortlength_shortlength_shortlength_shortlength_longlength_longlength_shortlength_shortlength_shortlength_shortlength_shortlength_shortlength_shortlength_shortlength_longlength_longlength_longlength_longlength_longlength_longlength_longlength_longlength_longlength_longlength_shortlength_shortlength_shortlength_shortlength_longlength_longlength_longlength_longlength_longlength_longlength_longlength_longlength_longlength_longlength_longlength_longlength_longlength_shortlength_shortlength_shortlength_shortlength_longlength_shortlength_shortlength_shortlength_shortlength_shortlength_shortlength_shortlength_shortlength_longlength_shortlength_shortlength_shortlength_shortlength_shortlength_shortlength_longlength_longlength_longlength_shortlength_shortlength_shortlength_shortlength_shortlength_shortlength_shortlength_shortlength_longlength_longlength_longlength_shortlength_shortlength_shortlength_shortlength_shortlength_shortlength_shortlength_shortlength_shortlength_shortlength_shortlength_shortlength_shortlength_shortlength_shortlength_shortlength_shortlength_shortlength_shortlength_longlength_longlength_shortlength_shortlength_shortlength_shortlength_shortlength_shortlength_longlength_longlength_longlength_shortlength_shortlength_shortlength_shortlength_shortlength_shortlength_shortlength_shortlength_shortlength_shortlength_shortlength_shortlength_shortlength_shortlength_shortlength_shortlength_shortlength_shortlength_longlength_longlength_longlength_shortlength_longlength_longlength_longlength_longlength_longlength_shortlength_shortlength_shortlength_shortlength_shortlength_shortlength_shortlength_shortlength_shortlength_shortlength_shortlength_shortlength_shortlength_shortlength_shortlength_shortlength_shortlength_shortlength_longlength_longlength_longlength_longlength_longlength_longlength_longlength_longlength_longlength_longlength_longlength_longlength_longlength_shortlength_shortlength_shortlength_shortlength_shortlength_shortlength_shortlength_shortlength_shortlength_shortlength_shortlength_shortlength_shortlength_shortlength_shortlength_shortlength_shortlength_shortlength_shortlength_shortlength_shortlength_shortlength_shortlength_longlength_longlength_longlength_longlength_longlength_longlength_longlength_longlength_longlength_longlength_longlength_longlength_longlength_longlength_longlength_longlength_longlength_longlength_longlength_longlength_longlength_shortlength_shortlength_shortlength_shortlength_shortlength_shortlength_shortlength_shortlength_shortlength_shortlength_shortlength_shortlength_shortlength_shortlength_shortlength_shortlength_shortlength_shortlength_shortlength_longlength_longlength_longlength_longlength_longlength_longlength_longlength_longlength_longlength_longlength_longlength_longlength_longlength_longlength_longlength_longlength_longlength_longlength_longlength_longlength_longlength_longlength_longlength_longlength_longlength_longlength_longlength_longlength_longlength_longlength_shortlength_shortlength_shortlength_shortlength_shortlength_shortlength_shortlength_shortlength_shortlength_shortlength_shortlength_shortlength_shortlength_shortlength_shortlength_shortlength_shortlength_shortlength_shortlength_shortlength_shortlength_shortlength_shortlength_shortlength_shortlength_shortlength_shortlength_shortlength_shortlength_shortlength_shortlength_shortlength_shortlength_shortlength_shortlength_shortlength_shortlength_longlength_longlength_longlength_longlength_longlength_longlength_longlength_longlength_longlength_longlength_longlength_longlength_longlength_longlength_longlength_longlength_longlength_longlength_longlength_longlength_longlength_longlength_longlength_longlength_longlength_longlength_longlength_longlength_longlength_longlength_longlength_longlength_longlength_longlength_longlength_longlength_longlength_longlength_longlength_longlength_longlength_longlength_shortlength_shortlength_shortlength_shortlength_shortlength_shortlength_shortlength_shortlength_shortlength_longlength_longlength_longlength_longlength_longlength_longlength_longlength_longlength_longlength_longlength_longlength_longlength_longlength_longlength_longlength_longlength_longlength_longlength_longlength_longlength_shortlength_shortlength_shortlength_shortlength_shortlength_shortlength_shortlength_shortlength_shortlength_shortlength_shortlength_shortlength_shortlength_shortlength_shortlength_shortlength_shortlength_shortlength_shortlength_shortlength_shortlength_shortlength_shortlength_shortlength_shortlength_shortlength_shortlength_shortlength_shortlength_shortlength_shortlength_shortlength_longlength_longlength_longlength_longlength_longlength_longlength_longlength_longlength_longlength_longlength_longlength_longlength_longlength_longlength_longlength_longlength_longlength_longlength_longlength_longlength_longlength_longlength_longlength_longlength_longlength_longlength_longlength_longlength_longlength_longlength_longlength_longlength_longlength_longlength_longlength_longlength_longlength_longlength_longlength_longlength_longlength_longlength_longlength_longlength_longlength_longlength_longlength_longlength_longlength_longlength_longlength_longlength_longlength_longlength_longlength_shortlength_shortlength_shortlength_shortlength_shortlength_shortlength_shortlength_shortlength_shortlength_shortlength_shortlength_shortlength_shortlength_shortlength_shortlength_longlength_longlength_longlength_longlength_longlength_longlength_longlength_longlength_longlength_longlength_longlength_longlength_longlength_shortlength_shortlength_shortlength_shortlength_shortlength_shortlength_shortlength_shortlength_shortlength_shortlength_shortlength_shortlength_shortlength_shortlength_shortlength_shortlength_shortlength_shortlength_shortlength_shortlength_shortlength_shortlength_longlength_longlength_longlength_longlength_longlength_longlength_longlength_longlength_longlength_longlength_longlength_longlength_longlength_longlength_longlength_longlength_longlength_longlength_longlength_longlength_longlength_longlength_longlength_longlength_longlength_longlength_longlength_longlength_longlength_longlength_longlength_longlength_longlength_longlength_longlength_shortlength_shortlength_shortlength_shortlength_shortlength_shortlength_shortlength_shortlength_shortlength_shortlength_longlength_longlength_shortlength_shortlength_shortlength_shortlength_shortlength_longlength_longlength_longlength_longlength_longlength_longlength_longlength_longlength_longlength_longlength_longlength_longlength_shortlength_shortlength_shortlength_shortlength_shortlength_shortlength_shortlength_shortlength_shortlength_shortlength_shortlength_shortlength_longlength_longlength_longlength_shortlength_shortlength_shortlength_longlength_shortlength_shortlength_longlength_longlength_longlength_shortlength_shortlength_shortlength_longlength_longlength_longlength_longlength_longlength_shortlength_longlength_shortlength_shortlength_shortlength_shortlength_shortlength_shortlength_shortlength_shortlength_shortlength_shortlength_shortlength_shortlength_shortlength_longlength_shortlength_longlength_shortlength_longlength_longlength_shortlength_shortlength_shortlength_shortlength_longlength_longlength_longlength_shortlength_longlength_shortlength_shortlength_shortlength_longlength_longlength_longlength_longlength_shortlength_shortlength_shortlength_shortlength_longlength_longlength_shortlength_shortlength_shortlength_shortlength_shortlength_shortlength_shortlength_shortlength_shortlength_shortlength_longlength_shortlength_longlength_longlength_longlength_shortlength_shortlength_shortlength_shortlength_shortlength_shortlength_longlength_shortlength_longlength_longlength_longlength_longlength_shortlength_shortlength_shortlength_shortlength_shortlength_shortlength_shortlength_longlength_shortlength_shortlength_shortlength_longlength_longlength_shortlength_shortlength_shortlength_shortlength_shortlength_shortlength_shortlength_shortlength_shortlength_shortlength_shortlength_shortlength_longlength_longlength_longlength_longlength_longlength_longlength_shortlength_shortlength_shortlength_shortlength_shortlength_shortlength_shortlength_shortlength_shortlength_shortlength_shortlength_shortlength_shortlength_shortlength_shortlength_shortlength_shortlength_shortlength_longlength_longlength_longlength_longlength_longlength_longlength_longlength_longlength_longlength_longlength_longlength_longlength_longlength_shortlength_shortlength_shortlength_shortlength_shortlength_shortlength_shortlength_shortlength_shortlength_shortlength_shortlength_longlength_longlength_longlength_longlength_longlength_longlength_longlength_longlength_longlength_longlength_longlength_longlength_longlength_longlength_longlength_longlength_longlength_longlength_shortlength_shortlength_shortlength_shortlength_shortlength_shortlength_shortlength_shortlength_shortlength_shortlength_shortlength_shortlength_shortlength_shortlength_shortlength_longlength_longlength_longlength_longlength_longlength_longlength_longlength_longlength_longlength_longlength_longlength_longlength_longlength_longlength_longlength_longlength_longlength_longlength_longlength_longlength_longlength_shortlength_shortlength_longlength_longlength_longlength_longlength_shortlength_shortlength_shortlength_shortlength_shortlength_shortlength_shortlength_shortlength_shortlength_shortlength_shortlength_shortlength_longlength_longlength_longlength_longlength_longlength_longlength_longlength_longlength_longlength_longlength_longlength_longlength_longlength_longlength_longlength_longlength_longlength_longlength_longlength_longlength_longlength_longlength_longlength_longlength_longlength_longlength_longlength_longlength_longlength_longlength_shortlength_shortlength_shortlength_shortlength_shortlength_longlength_longlength_longlength_longlength_longlength_longlength_longlength_shortlength_shortlength_shortlength_shortlength_shortlength_shortlength_shortlength_longlength_longlength_longlength_longlength_longlength_longlength_longlength_longlength_longlength_longlength_longlength_longlength_longlength_longlength_longlength_longlength_longlength_longlength_longlength_longlength_longlength_longlength_longlength_shortlength_shortlength_shortlength_shortlength_shortlength_shortlength_shortlength_shortlength_shortlength_shortlength_longlength_longlength_longlength_shortlength_shortlength_shortlength_shortlength_shortlength_shortlength_shortlength_shortlength_longlength_longlength_longlength_longlength_longlength_longlength_long'] to numeric"
     ]
    }
   ],
   "source": [
    "nan_abalone_df.mean()"
   ],
   "metadata": {
    "collapsed": false,
    "ExecuteTime": {
     "end_time": "2024-03-14T23:22:55.327239Z",
     "start_time": "2024-03-14T23:22:55.208796Z"
    }
   },
   "id": "64e153a274e95403",
   "execution_count": 41
  },
  {
   "cell_type": "code",
   "outputs": [],
   "source": [
    "nan_abalone_df.loc[2, 'sex'] = np.nan"
   ],
   "metadata": {
    "collapsed": false,
    "ExecuteTime": {
     "end_time": "2024-03-14T23:23:41.412125Z",
     "start_time": "2024-03-14T23:23:41.409400Z"
    }
   },
   "id": "b058f766713f5504",
   "execution_count": 43
  },
  {
   "cell_type": "code",
   "outputs": [
    {
     "data": {
      "text/plain": "      sex  length  diameter  height  whole_weight  shucked_weight  \\\n0       M   0.455     0.365   0.095        0.5140          0.2245   \n1       M   0.350     0.265   0.090        0.2255          0.0995   \n2     NaN     NaN     0.420   0.135        0.6770          0.2565   \n3       M   0.440     0.365   0.125        0.5160          0.2155   \n4       I   0.330     0.255   0.080        0.2050          0.0895   \n...   ...     ...       ...     ...           ...             ...   \n4172    F   0.565     0.450   0.165        0.8870          0.3700   \n4173    M   0.590     0.440   0.135        0.9660          0.4390   \n4174    M   0.600     0.475   0.205        1.1760          0.5255   \n4175    F   0.625     0.485   0.150        1.0945          0.5310   \n4176    M   0.710     0.555   0.195        1.9485          0.9455   \n\n      viscera_weight  shell_weight  rings   length_bool  \n0             0.1010        0.1500     15  length_short  \n1             0.0485        0.0700      7  length_short  \n2             0.1415        0.2100      9  length_short  \n3             0.1140        0.1550     10  length_short  \n4             0.0395        0.0550      7  length_short  \n...              ...           ...    ...           ...  \n4172          0.2390        0.2490     11   length_long  \n4173          0.2145        0.2605     10   length_long  \n4174          0.2875        0.3080      9   length_long  \n4175          0.2610        0.2960     10   length_long  \n4176          0.3765        0.4950     12   length_long  \n\n[4177 rows x 10 columns]",
      "text/html": "<div>\n<style scoped>\n    .dataframe tbody tr th:only-of-type {\n        vertical-align: middle;\n    }\n\n    .dataframe tbody tr th {\n        vertical-align: top;\n    }\n\n    .dataframe thead th {\n        text-align: right;\n    }\n</style>\n<table border=\"1\" class=\"dataframe\">\n  <thead>\n    <tr style=\"text-align: right;\">\n      <th></th>\n      <th>sex</th>\n      <th>length</th>\n      <th>diameter</th>\n      <th>height</th>\n      <th>whole_weight</th>\n      <th>shucked_weight</th>\n      <th>viscera_weight</th>\n      <th>shell_weight</th>\n      <th>rings</th>\n      <th>length_bool</th>\n    </tr>\n  </thead>\n  <tbody>\n    <tr>\n      <th>0</th>\n      <td>M</td>\n      <td>0.455</td>\n      <td>0.365</td>\n      <td>0.095</td>\n      <td>0.5140</td>\n      <td>0.2245</td>\n      <td>0.1010</td>\n      <td>0.1500</td>\n      <td>15</td>\n      <td>length_short</td>\n    </tr>\n    <tr>\n      <th>1</th>\n      <td>M</td>\n      <td>0.350</td>\n      <td>0.265</td>\n      <td>0.090</td>\n      <td>0.2255</td>\n      <td>0.0995</td>\n      <td>0.0485</td>\n      <td>0.0700</td>\n      <td>7</td>\n      <td>length_short</td>\n    </tr>\n    <tr>\n      <th>2</th>\n      <td>NaN</td>\n      <td>NaN</td>\n      <td>0.420</td>\n      <td>0.135</td>\n      <td>0.6770</td>\n      <td>0.2565</td>\n      <td>0.1415</td>\n      <td>0.2100</td>\n      <td>9</td>\n      <td>length_short</td>\n    </tr>\n    <tr>\n      <th>3</th>\n      <td>M</td>\n      <td>0.440</td>\n      <td>0.365</td>\n      <td>0.125</td>\n      <td>0.5160</td>\n      <td>0.2155</td>\n      <td>0.1140</td>\n      <td>0.1550</td>\n      <td>10</td>\n      <td>length_short</td>\n    </tr>\n    <tr>\n      <th>4</th>\n      <td>I</td>\n      <td>0.330</td>\n      <td>0.255</td>\n      <td>0.080</td>\n      <td>0.2050</td>\n      <td>0.0895</td>\n      <td>0.0395</td>\n      <td>0.0550</td>\n      <td>7</td>\n      <td>length_short</td>\n    </tr>\n    <tr>\n      <th>...</th>\n      <td>...</td>\n      <td>...</td>\n      <td>...</td>\n      <td>...</td>\n      <td>...</td>\n      <td>...</td>\n      <td>...</td>\n      <td>...</td>\n      <td>...</td>\n      <td>...</td>\n    </tr>\n    <tr>\n      <th>4172</th>\n      <td>F</td>\n      <td>0.565</td>\n      <td>0.450</td>\n      <td>0.165</td>\n      <td>0.8870</td>\n      <td>0.3700</td>\n      <td>0.2390</td>\n      <td>0.2490</td>\n      <td>11</td>\n      <td>length_long</td>\n    </tr>\n    <tr>\n      <th>4173</th>\n      <td>M</td>\n      <td>0.590</td>\n      <td>0.440</td>\n      <td>0.135</td>\n      <td>0.9660</td>\n      <td>0.4390</td>\n      <td>0.2145</td>\n      <td>0.2605</td>\n      <td>10</td>\n      <td>length_long</td>\n    </tr>\n    <tr>\n      <th>4174</th>\n      <td>M</td>\n      <td>0.600</td>\n      <td>0.475</td>\n      <td>0.205</td>\n      <td>1.1760</td>\n      <td>0.5255</td>\n      <td>0.2875</td>\n      <td>0.3080</td>\n      <td>9</td>\n      <td>length_long</td>\n    </tr>\n    <tr>\n      <th>4175</th>\n      <td>F</td>\n      <td>0.625</td>\n      <td>0.485</td>\n      <td>0.150</td>\n      <td>1.0945</td>\n      <td>0.5310</td>\n      <td>0.2610</td>\n      <td>0.2960</td>\n      <td>10</td>\n      <td>length_long</td>\n    </tr>\n    <tr>\n      <th>4176</th>\n      <td>M</td>\n      <td>0.710</td>\n      <td>0.555</td>\n      <td>0.195</td>\n      <td>1.9485</td>\n      <td>0.9455</td>\n      <td>0.3765</td>\n      <td>0.4950</td>\n      <td>12</td>\n      <td>length_long</td>\n    </tr>\n  </tbody>\n</table>\n<p>4177 rows × 10 columns</p>\n</div>"
     },
     "execution_count": 44,
     "metadata": {},
     "output_type": "execute_result"
    }
   ],
   "source": [
    "nan_abalone_df"
   ],
   "metadata": {
    "collapsed": false,
    "ExecuteTime": {
     "end_time": "2024-03-14T23:23:44.246410Z",
     "start_time": "2024-03-14T23:23:44.239160Z"
    }
   },
   "id": "1a8a917235edb699",
   "execution_count": 44
  },
  {
   "cell_type": "code",
   "outputs": [
    {
     "data": {
      "text/plain": "     sex  length  diameter  height  whole_weight  shucked_weight  \\\n0      M   0.455     0.365   0.095        0.5140          0.2245   \n1      M   0.350     0.265   0.090        0.2255          0.0995   \n2      0   0.000     0.420   0.135        0.6770          0.2565   \n3      M   0.440     0.365   0.125        0.5160          0.2155   \n4      I   0.330     0.255   0.080        0.2050          0.0895   \n...   ..     ...       ...     ...           ...             ...   \n4172   F   0.565     0.450   0.165        0.8870          0.3700   \n4173   M   0.590     0.440   0.135        0.9660          0.4390   \n4174   M   0.600     0.475   0.205        1.1760          0.5255   \n4175   F   0.625     0.485   0.150        1.0945          0.5310   \n4176   M   0.710     0.555   0.195        1.9485          0.9455   \n\n      viscera_weight  shell_weight  rings   length_bool  \n0             0.1010        0.1500     15  length_short  \n1             0.0485        0.0700      7  length_short  \n2             0.1415        0.2100      9  length_short  \n3             0.1140        0.1550     10  length_short  \n4             0.0395        0.0550      7  length_short  \n...              ...           ...    ...           ...  \n4172          0.2390        0.2490     11   length_long  \n4173          0.2145        0.2605     10   length_long  \n4174          0.2875        0.3080      9   length_long  \n4175          0.2610        0.2960     10   length_long  \n4176          0.3765        0.4950     12   length_long  \n\n[4177 rows x 10 columns]",
      "text/html": "<div>\n<style scoped>\n    .dataframe tbody tr th:only-of-type {\n        vertical-align: middle;\n    }\n\n    .dataframe tbody tr th {\n        vertical-align: top;\n    }\n\n    .dataframe thead th {\n        text-align: right;\n    }\n</style>\n<table border=\"1\" class=\"dataframe\">\n  <thead>\n    <tr style=\"text-align: right;\">\n      <th></th>\n      <th>sex</th>\n      <th>length</th>\n      <th>diameter</th>\n      <th>height</th>\n      <th>whole_weight</th>\n      <th>shucked_weight</th>\n      <th>viscera_weight</th>\n      <th>shell_weight</th>\n      <th>rings</th>\n      <th>length_bool</th>\n    </tr>\n  </thead>\n  <tbody>\n    <tr>\n      <th>0</th>\n      <td>M</td>\n      <td>0.455</td>\n      <td>0.365</td>\n      <td>0.095</td>\n      <td>0.5140</td>\n      <td>0.2245</td>\n      <td>0.1010</td>\n      <td>0.1500</td>\n      <td>15</td>\n      <td>length_short</td>\n    </tr>\n    <tr>\n      <th>1</th>\n      <td>M</td>\n      <td>0.350</td>\n      <td>0.265</td>\n      <td>0.090</td>\n      <td>0.2255</td>\n      <td>0.0995</td>\n      <td>0.0485</td>\n      <td>0.0700</td>\n      <td>7</td>\n      <td>length_short</td>\n    </tr>\n    <tr>\n      <th>2</th>\n      <td>0</td>\n      <td>0.000</td>\n      <td>0.420</td>\n      <td>0.135</td>\n      <td>0.6770</td>\n      <td>0.2565</td>\n      <td>0.1415</td>\n      <td>0.2100</td>\n      <td>9</td>\n      <td>length_short</td>\n    </tr>\n    <tr>\n      <th>3</th>\n      <td>M</td>\n      <td>0.440</td>\n      <td>0.365</td>\n      <td>0.125</td>\n      <td>0.5160</td>\n      <td>0.2155</td>\n      <td>0.1140</td>\n      <td>0.1550</td>\n      <td>10</td>\n      <td>length_short</td>\n    </tr>\n    <tr>\n      <th>4</th>\n      <td>I</td>\n      <td>0.330</td>\n      <td>0.255</td>\n      <td>0.080</td>\n      <td>0.2050</td>\n      <td>0.0895</td>\n      <td>0.0395</td>\n      <td>0.0550</td>\n      <td>7</td>\n      <td>length_short</td>\n    </tr>\n    <tr>\n      <th>...</th>\n      <td>...</td>\n      <td>...</td>\n      <td>...</td>\n      <td>...</td>\n      <td>...</td>\n      <td>...</td>\n      <td>...</td>\n      <td>...</td>\n      <td>...</td>\n      <td>...</td>\n    </tr>\n    <tr>\n      <th>4172</th>\n      <td>F</td>\n      <td>0.565</td>\n      <td>0.450</td>\n      <td>0.165</td>\n      <td>0.8870</td>\n      <td>0.3700</td>\n      <td>0.2390</td>\n      <td>0.2490</td>\n      <td>11</td>\n      <td>length_long</td>\n    </tr>\n    <tr>\n      <th>4173</th>\n      <td>M</td>\n      <td>0.590</td>\n      <td>0.440</td>\n      <td>0.135</td>\n      <td>0.9660</td>\n      <td>0.4390</td>\n      <td>0.2145</td>\n      <td>0.2605</td>\n      <td>10</td>\n      <td>length_long</td>\n    </tr>\n    <tr>\n      <th>4174</th>\n      <td>M</td>\n      <td>0.600</td>\n      <td>0.475</td>\n      <td>0.205</td>\n      <td>1.1760</td>\n      <td>0.5255</td>\n      <td>0.2875</td>\n      <td>0.3080</td>\n      <td>9</td>\n      <td>length_long</td>\n    </tr>\n    <tr>\n      <th>4175</th>\n      <td>F</td>\n      <td>0.625</td>\n      <td>0.485</td>\n      <td>0.150</td>\n      <td>1.0945</td>\n      <td>0.5310</td>\n      <td>0.2610</td>\n      <td>0.2960</td>\n      <td>10</td>\n      <td>length_long</td>\n    </tr>\n    <tr>\n      <th>4176</th>\n      <td>M</td>\n      <td>0.710</td>\n      <td>0.555</td>\n      <td>0.195</td>\n      <td>1.9485</td>\n      <td>0.9455</td>\n      <td>0.3765</td>\n      <td>0.4950</td>\n      <td>12</td>\n      <td>length_long</td>\n    </tr>\n  </tbody>\n</table>\n<p>4177 rows × 10 columns</p>\n</div>"
     },
     "execution_count": 45,
     "metadata": {},
     "output_type": "execute_result"
    }
   ],
   "source": [
    "nan_abalone_df.fillna(0)"
   ],
   "metadata": {
    "collapsed": false,
    "ExecuteTime": {
     "end_time": "2024-03-14T23:23:51.499611Z",
     "start_time": "2024-03-14T23:23:51.490897Z"
    }
   },
   "id": "ce31ebd6e80555ef",
   "execution_count": 45
  },
  {
   "cell_type": "code",
   "outputs": [],
   "source": [
    "sex_mode = nan_abalone_df['sex'].value_counts().sort_values(ascending=False).index[0]"
   ],
   "metadata": {
    "collapsed": false,
    "ExecuteTime": {
     "end_time": "2024-03-14T23:25:49.853680Z",
     "start_time": "2024-03-14T23:25:49.850598Z"
    }
   },
   "id": "4edafdb4530ffd8d",
   "execution_count": 48
  },
  {
   "cell_type": "code",
   "outputs": [
    {
     "data": {
      "text/plain": "'M'"
     },
     "execution_count": 49,
     "metadata": {},
     "output_type": "execute_result"
    }
   ],
   "source": [
    "sex_mode"
   ],
   "metadata": {
    "collapsed": false,
    "ExecuteTime": {
     "end_time": "2024-03-14T23:25:54.738516Z",
     "start_time": "2024-03-14T23:25:54.735733Z"
    }
   },
   "id": "f3589c3175b9240c",
   "execution_count": 49
  },
  {
   "cell_type": "code",
   "outputs": [
    {
     "data": {
      "text/plain": "0       M\n1       M\n2       M\n3       M\n4       I\n       ..\n4172    F\n4173    M\n4174    M\n4175    F\n4176    M\nName: sex, Length: 4177, dtype: object"
     },
     "execution_count": 50,
     "metadata": {},
     "output_type": "execute_result"
    }
   ],
   "source": [
    "nan_abalone_df['sex'].fillna(sex_mode)"
   ],
   "metadata": {
    "collapsed": false,
    "ExecuteTime": {
     "end_time": "2024-03-14T23:26:32.401858Z",
     "start_time": "2024-03-14T23:26:32.397121Z"
    }
   },
   "id": "a9135cff1642656d",
   "execution_count": 50
  },
  {
   "cell_type": "code",
   "outputs": [
    {
     "data": {
      "text/plain": "diameter    0.407881\ndtype: float64"
     },
     "execution_count": 51,
     "metadata": {},
     "output_type": "execute_result"
    }
   ],
   "source": [
    "abalone_df[['diameter']].apply(np.average, axis= 0)"
   ],
   "metadata": {
    "collapsed": false,
    "ExecuteTime": {
     "end_time": "2024-03-14T23:28:48.696433Z",
     "start_time": "2024-03-14T23:28:48.687153Z"
    }
   },
   "id": "2f58226162aed0f7",
   "execution_count": 51
  },
  {
   "cell_type": "code",
   "outputs": [
    {
     "data": {
      "text/plain": "0       0.43950\n1       0.24525\n2       0.54850\n3       0.44050\n4       0.23000\n         ...   \n4172    0.66850\n4173    0.70300\n4174    0.82550\n4175    0.78975\n4176    1.25175\nLength: 4177, dtype: float64"
     },
     "execution_count": 53,
     "metadata": {},
     "output_type": "execute_result"
    }
   ],
   "source": [
    "abalone_df[['diameter', 'whole_weight']].apply(np.average, axis= 1)"
   ],
   "metadata": {
    "collapsed": false,
    "ExecuteTime": {
     "end_time": "2024-03-14T23:29:41.558505Z",
     "start_time": "2024-03-14T23:29:41.509170Z"
    }
   },
   "id": "5d9c74a1d4b3dca2",
   "execution_count": 53
  },
  {
   "cell_type": "code",
   "outputs": [],
   "source": [
    "import math"
   ],
   "metadata": {
    "collapsed": false,
    "ExecuteTime": {
     "end_time": "2024-03-14T23:30:09.223982Z",
     "start_time": "2024-03-14T23:30:09.221425Z"
    }
   },
   "id": "f40aa04010fd8e3e",
   "execution_count": 54
  },
  {
   "cell_type": "code",
   "outputs": [
    {
     "name": "stderr",
     "output_type": "stream",
     "text": [
      "/var/folders/_z/02wl7m_56p33_nfvgpcr8r780000gn/T/ipykernel_15556/3091517507.py:4: FutureWarning: Series.__getitem__ treating keys as positions is deprecated. In a future version, integer keys will always be treated as labels (consistent with DataFrame behavior). To access a value by position, use `ser.iloc[pos]`\n",
      "  abalone_df[['diameter', 'height', 'whole_weight']].apply(lambda x: avg_ceil(x[0], x[1], x[2]), axis=1)\n"
     ]
    },
    {
     "data": {
      "text/plain": "0       1\n1       1\n2       2\n3       2\n4       1\n       ..\n4172    2\n4173    2\n4174    2\n4175    2\n4176    3\nLength: 4177, dtype: int64"
     },
     "execution_count": 60,
     "metadata": {},
     "output_type": "execute_result"
    }
   ],
   "source": [
    "def avg_ceil(x, y, z):\n",
    "    return math.ceil((x + y + z))\n",
    "\n",
    "abalone_df[['diameter', 'height', 'whole_weight']].apply(lambda x: avg_ceil(x[0], x[1], x[2]), axis=1)"
   ],
   "metadata": {
    "collapsed": false,
    "ExecuteTime": {
     "end_time": "2024-03-14T23:34:25.010844Z",
     "start_time": "2024-03-14T23:34:24.894010Z"
    }
   },
   "id": "882b06a4a5575ca7",
   "execution_count": 60
  },
  {
   "cell_type": "code",
   "outputs": [
    {
     "name": "stderr",
     "output_type": "stream",
     "text": [
      "/var/folders/_z/02wl7m_56p33_nfvgpcr8r780000gn/T/ipykernel_15556/3228013345.py:2: FutureWarning: Series.__getitem__ treating keys as positions is deprecated. In a future version, integer keys will always be treated as labels (consistent with DataFrame behavior). To access a value by position, use `ser.iloc[pos]`\n",
      "  sum_ = x[0] + x[1] + x[2]\n"
     ]
    }
   ],
   "source": [
    "def f(x):\n",
    "    sum_ = x[0] + x[1] + x[2]\n",
    "    if sum_ > 1:\n",
    "        return True\n",
    "    else:\n",
    "        return False\n",
    "    \n",
    "answer = abalone_df[['diameter', 'height', 'whole_weight']].apply(lambda x: f(x), axis=1)\n",
    "abalone_df['answer'] = answer"
   ],
   "metadata": {
    "collapsed": false,
    "ExecuteTime": {
     "end_time": "2024-03-14T23:37:33.435374Z",
     "start_time": "2024-03-14T23:37:33.336403Z"
    }
   },
   "id": "cc353036eeab0001",
   "execution_count": 63
  },
  {
   "cell_type": "code",
   "outputs": [
    {
     "data": {
      "text/plain": "sex\nM    1528\nI    1342\nF    1307\nName: count, dtype: int64"
     },
     "execution_count": 64,
     "metadata": {},
     "output_type": "execute_result"
    }
   ],
   "source": [
    "abalone_df['sex'].value_counts(dropna=True)"
   ],
   "metadata": {
    "collapsed": false,
    "ExecuteTime": {
     "end_time": "2024-03-14T23:39:26.002429Z",
     "start_time": "2024-03-14T23:39:25.998383Z"
    }
   },
   "id": "17abe90d0e5f5720",
   "execution_count": 64
  },
  {
   "cell_type": "code",
   "outputs": [
    {
     "data": {
      "text/plain": "     sex  length diameter  height  whole_weight  shucked_weight  \\\n0      M   0.455    0.365   0.095        0.5140          0.2245   \n1      M   0.350    0.265   0.090        0.2255          0.0995   \n2      F   0.530    0.420   0.135        0.6770          0.2565   \n3      M   0.440    0.365   0.125        0.5160          0.2155   \n4      I   0.330    0.255   0.080        0.2050          0.0895   \n...   ..     ...      ...     ...           ...             ...   \n4172   F   0.565    0.450   0.165        0.8870          0.3700   \n4173   M   0.590    0.440   0.135        0.9660          0.4390   \n4174   M   0.600    0.475   0.205        1.1760          0.5255   \n4175   F   0.625    0.485   0.150        1.0945          0.5310   \n4176   M   0.710    0.555   0.195        1.9485          0.9455   \n\n      viscera_weight  shell_weight  rings   length_bool  ...  length diameter  \\\n0             0.1010        0.1500     15  length_short  ...   0.455    0.365   \n1             0.0485        0.0700      7  length_short  ...     NaN      NaN   \n2             0.1415        0.2100      9  length_short  ...     NaN      NaN   \n3             0.1140        0.1550     10  length_short  ...     NaN      NaN   \n4             0.0395        0.0550      7  length_short  ...     NaN      NaN   \n...              ...           ...    ...           ...  ...     ...      ...   \n4172          0.2390        0.2490     11   length_long  ...     NaN      NaN   \n4173          0.2145        0.2605     10   length_long  ...     NaN      NaN   \n4174          0.2875        0.3080      9   length_long  ...     NaN      NaN   \n4175          0.2610        0.2960     10   length_long  ...     NaN      NaN   \n4176          0.3765        0.4950     12   length_long  ...     NaN      NaN   \n\n      height  whole_weight  shucked_weight  viscera_weight  shell_weight  \\\n0      0.095         0.514          0.2245           0.101          0.15   \n1        NaN           NaN             NaN             NaN           NaN   \n2        NaN           NaN             NaN             NaN           NaN   \n3        NaN           NaN             NaN             NaN           NaN   \n4        NaN           NaN             NaN             NaN           NaN   \n...      ...           ...             ...             ...           ...   \n4172     NaN           NaN             NaN             NaN           NaN   \n4173     NaN           NaN             NaN             NaN           NaN   \n4174     NaN           NaN             NaN             NaN           NaN   \n4175     NaN           NaN             NaN             NaN           NaN   \n4176     NaN           NaN             NaN             NaN           NaN   \n\n      rings   length_bool  answer  \n0      15.0  length_short   False  \n1       NaN           NaN     NaN  \n2       NaN           NaN     NaN  \n3       NaN           NaN     NaN  \n4       NaN           NaN     NaN  \n...     ...           ...     ...  \n4172    NaN           NaN     NaN  \n4173    NaN           NaN     NaN  \n4174    NaN           NaN     NaN  \n4175    NaN           NaN     NaN  \n4176    NaN           NaN     NaN  \n\n[4177 rows x 22 columns]",
      "text/html": "<div>\n<style scoped>\n    .dataframe tbody tr th:only-of-type {\n        vertical-align: middle;\n    }\n\n    .dataframe tbody tr th {\n        vertical-align: top;\n    }\n\n    .dataframe thead th {\n        text-align: right;\n    }\n</style>\n<table border=\"1\" class=\"dataframe\">\n  <thead>\n    <tr style=\"text-align: right;\">\n      <th></th>\n      <th>sex</th>\n      <th>length</th>\n      <th>diameter</th>\n      <th>height</th>\n      <th>whole_weight</th>\n      <th>shucked_weight</th>\n      <th>viscera_weight</th>\n      <th>shell_weight</th>\n      <th>rings</th>\n      <th>length_bool</th>\n      <th>...</th>\n      <th>length</th>\n      <th>diameter</th>\n      <th>height</th>\n      <th>whole_weight</th>\n      <th>shucked_weight</th>\n      <th>viscera_weight</th>\n      <th>shell_weight</th>\n      <th>rings</th>\n      <th>length_bool</th>\n      <th>answer</th>\n    </tr>\n  </thead>\n  <tbody>\n    <tr>\n      <th>0</th>\n      <td>M</td>\n      <td>0.455</td>\n      <td>0.365</td>\n      <td>0.095</td>\n      <td>0.5140</td>\n      <td>0.2245</td>\n      <td>0.1010</td>\n      <td>0.1500</td>\n      <td>15</td>\n      <td>length_short</td>\n      <td>...</td>\n      <td>0.455</td>\n      <td>0.365</td>\n      <td>0.095</td>\n      <td>0.514</td>\n      <td>0.2245</td>\n      <td>0.101</td>\n      <td>0.15</td>\n      <td>15.0</td>\n      <td>length_short</td>\n      <td>False</td>\n    </tr>\n    <tr>\n      <th>1</th>\n      <td>M</td>\n      <td>0.350</td>\n      <td>0.265</td>\n      <td>0.090</td>\n      <td>0.2255</td>\n      <td>0.0995</td>\n      <td>0.0485</td>\n      <td>0.0700</td>\n      <td>7</td>\n      <td>length_short</td>\n      <td>...</td>\n      <td>NaN</td>\n      <td>NaN</td>\n      <td>NaN</td>\n      <td>NaN</td>\n      <td>NaN</td>\n      <td>NaN</td>\n      <td>NaN</td>\n      <td>NaN</td>\n      <td>NaN</td>\n      <td>NaN</td>\n    </tr>\n    <tr>\n      <th>2</th>\n      <td>F</td>\n      <td>0.530</td>\n      <td>0.420</td>\n      <td>0.135</td>\n      <td>0.6770</td>\n      <td>0.2565</td>\n      <td>0.1415</td>\n      <td>0.2100</td>\n      <td>9</td>\n      <td>length_short</td>\n      <td>...</td>\n      <td>NaN</td>\n      <td>NaN</td>\n      <td>NaN</td>\n      <td>NaN</td>\n      <td>NaN</td>\n      <td>NaN</td>\n      <td>NaN</td>\n      <td>NaN</td>\n      <td>NaN</td>\n      <td>NaN</td>\n    </tr>\n    <tr>\n      <th>3</th>\n      <td>M</td>\n      <td>0.440</td>\n      <td>0.365</td>\n      <td>0.125</td>\n      <td>0.5160</td>\n      <td>0.2155</td>\n      <td>0.1140</td>\n      <td>0.1550</td>\n      <td>10</td>\n      <td>length_short</td>\n      <td>...</td>\n      <td>NaN</td>\n      <td>NaN</td>\n      <td>NaN</td>\n      <td>NaN</td>\n      <td>NaN</td>\n      <td>NaN</td>\n      <td>NaN</td>\n      <td>NaN</td>\n      <td>NaN</td>\n      <td>NaN</td>\n    </tr>\n    <tr>\n      <th>4</th>\n      <td>I</td>\n      <td>0.330</td>\n      <td>0.255</td>\n      <td>0.080</td>\n      <td>0.2050</td>\n      <td>0.0895</td>\n      <td>0.0395</td>\n      <td>0.0550</td>\n      <td>7</td>\n      <td>length_short</td>\n      <td>...</td>\n      <td>NaN</td>\n      <td>NaN</td>\n      <td>NaN</td>\n      <td>NaN</td>\n      <td>NaN</td>\n      <td>NaN</td>\n      <td>NaN</td>\n      <td>NaN</td>\n      <td>NaN</td>\n      <td>NaN</td>\n    </tr>\n    <tr>\n      <th>...</th>\n      <td>...</td>\n      <td>...</td>\n      <td>...</td>\n      <td>...</td>\n      <td>...</td>\n      <td>...</td>\n      <td>...</td>\n      <td>...</td>\n      <td>...</td>\n      <td>...</td>\n      <td>...</td>\n      <td>...</td>\n      <td>...</td>\n      <td>...</td>\n      <td>...</td>\n      <td>...</td>\n      <td>...</td>\n      <td>...</td>\n      <td>...</td>\n      <td>...</td>\n      <td>...</td>\n    </tr>\n    <tr>\n      <th>4172</th>\n      <td>F</td>\n      <td>0.565</td>\n      <td>0.450</td>\n      <td>0.165</td>\n      <td>0.8870</td>\n      <td>0.3700</td>\n      <td>0.2390</td>\n      <td>0.2490</td>\n      <td>11</td>\n      <td>length_long</td>\n      <td>...</td>\n      <td>NaN</td>\n      <td>NaN</td>\n      <td>NaN</td>\n      <td>NaN</td>\n      <td>NaN</td>\n      <td>NaN</td>\n      <td>NaN</td>\n      <td>NaN</td>\n      <td>NaN</td>\n      <td>NaN</td>\n    </tr>\n    <tr>\n      <th>4173</th>\n      <td>M</td>\n      <td>0.590</td>\n      <td>0.440</td>\n      <td>0.135</td>\n      <td>0.9660</td>\n      <td>0.4390</td>\n      <td>0.2145</td>\n      <td>0.2605</td>\n      <td>10</td>\n      <td>length_long</td>\n      <td>...</td>\n      <td>NaN</td>\n      <td>NaN</td>\n      <td>NaN</td>\n      <td>NaN</td>\n      <td>NaN</td>\n      <td>NaN</td>\n      <td>NaN</td>\n      <td>NaN</td>\n      <td>NaN</td>\n      <td>NaN</td>\n    </tr>\n    <tr>\n      <th>4174</th>\n      <td>M</td>\n      <td>0.600</td>\n      <td>0.475</td>\n      <td>0.205</td>\n      <td>1.1760</td>\n      <td>0.5255</td>\n      <td>0.2875</td>\n      <td>0.3080</td>\n      <td>9</td>\n      <td>length_long</td>\n      <td>...</td>\n      <td>NaN</td>\n      <td>NaN</td>\n      <td>NaN</td>\n      <td>NaN</td>\n      <td>NaN</td>\n      <td>NaN</td>\n      <td>NaN</td>\n      <td>NaN</td>\n      <td>NaN</td>\n      <td>NaN</td>\n    </tr>\n    <tr>\n      <th>4175</th>\n      <td>F</td>\n      <td>0.625</td>\n      <td>0.485</td>\n      <td>0.150</td>\n      <td>1.0945</td>\n      <td>0.5310</td>\n      <td>0.2610</td>\n      <td>0.2960</td>\n      <td>10</td>\n      <td>length_long</td>\n      <td>...</td>\n      <td>NaN</td>\n      <td>NaN</td>\n      <td>NaN</td>\n      <td>NaN</td>\n      <td>NaN</td>\n      <td>NaN</td>\n      <td>NaN</td>\n      <td>NaN</td>\n      <td>NaN</td>\n      <td>NaN</td>\n    </tr>\n    <tr>\n      <th>4176</th>\n      <td>M</td>\n      <td>0.710</td>\n      <td>0.555</td>\n      <td>0.195</td>\n      <td>1.9485</td>\n      <td>0.9455</td>\n      <td>0.3765</td>\n      <td>0.4950</td>\n      <td>12</td>\n      <td>length_long</td>\n      <td>...</td>\n      <td>NaN</td>\n      <td>NaN</td>\n      <td>NaN</td>\n      <td>NaN</td>\n      <td>NaN</td>\n      <td>NaN</td>\n      <td>NaN</td>\n      <td>NaN</td>\n      <td>NaN</td>\n      <td>NaN</td>\n    </tr>\n  </tbody>\n</table>\n<p>4177 rows × 22 columns</p>\n</div>"
     },
     "execution_count": 65,
     "metadata": {},
     "output_type": "execute_result"
    }
   ],
   "source": [
    "one_abalone_df = abalone_df.iloc[[0]]\n",
    "pd.concat([abalone_df, one_abalone_df], axis=1)"
   ],
   "metadata": {
    "collapsed": false,
    "ExecuteTime": {
     "end_time": "2024-03-14T23:41:35.829289Z",
     "start_time": "2024-03-14T23:41:35.811650Z"
    }
   },
   "id": "8c4e44a410722be5",
   "execution_count": 65
  },
  {
   "cell_type": "code",
   "outputs": [],
   "source": [],
   "metadata": {
    "collapsed": false
   },
   "id": "65b842ab9a67906b"
  }
 ],
 "metadata": {
  "kernelspec": {
   "display_name": "Python 3",
   "language": "python",
   "name": "python3"
  },
  "language_info": {
   "codemirror_mode": {
    "name": "ipython",
    "version": 2
   },
   "file_extension": ".py",
   "mimetype": "text/x-python",
   "name": "python",
   "nbconvert_exporter": "python",
   "pygments_lexer": "ipython2",
   "version": "2.7.6"
  }
 },
 "nbformat": 4,
 "nbformat_minor": 5
}
