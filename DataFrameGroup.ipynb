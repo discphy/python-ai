{
 "cells": [
  {
   "cell_type": "code",
   "execution_count": 20,
   "id": "initial_id",
   "metadata": {
    "collapsed": true,
    "ExecuteTime": {
     "end_time": "2024-03-13T23:40:38.417817Z",
     "start_time": "2024-03-13T23:40:38.412512Z"
    }
   },
   "outputs": [
    {
     "data": {
      "text/plain": "['new_friend.csv', 'friend.csv', 'abalone.data', 'new_friend_index_true.csv']"
     },
     "execution_count": 20,
     "metadata": {},
     "output_type": "execute_result"
    }
   ],
   "source": [
    "import os\n",
    "import pandas as pd\n",
    "import numpy as np\n",
    "\n",
    "base_src = './machine_learning_data'\n",
    "\n",
    "os.listdir(base_src)"
   ]
  },
  {
   "cell_type": "code",
   "outputs": [],
   "source": [
    "abalone_src = base_src + '/abalone.data'"
   ],
   "metadata": {
    "collapsed": false,
    "ExecuteTime": {
     "end_time": "2024-03-13T23:20:29.636838Z",
     "start_time": "2024-03-13T23:20:29.633922Z"
    }
   },
   "id": "1d14ab3a55ee2087",
   "execution_count": 2
  },
  {
   "cell_type": "code",
   "outputs": [
    {
     "data": {
      "text/plain": "     sex  length  diameter  height  whole_weight  shucked_weight  \\\n0      M   0.455     0.365   0.095        0.5140          0.2245   \n1      M   0.350     0.265   0.090        0.2255          0.0995   \n2      F   0.530     0.420   0.135        0.6770          0.2565   \n3      M   0.440     0.365   0.125        0.5160          0.2155   \n4      I   0.330     0.255   0.080        0.2050          0.0895   \n...   ..     ...       ...     ...           ...             ...   \n4172   F   0.565     0.450   0.165        0.8870          0.3700   \n4173   M   0.590     0.440   0.135        0.9660          0.4390   \n4174   M   0.600     0.475   0.205        1.1760          0.5255   \n4175   F   0.625     0.485   0.150        1.0945          0.5310   \n4176   M   0.710     0.555   0.195        1.9485          0.9455   \n\n      viscera_weight  shell_weight  rings  \n0             0.1010        0.1500     15  \n1             0.0485        0.0700      7  \n2             0.1415        0.2100      9  \n3             0.1140        0.1550     10  \n4             0.0395        0.0550      7  \n...              ...           ...    ...  \n4172          0.2390        0.2490     11  \n4173          0.2145        0.2605     10  \n4174          0.2875        0.3080      9  \n4175          0.2610        0.2960     10  \n4176          0.3765        0.4950     12  \n\n[4177 rows x 9 columns]",
      "text/html": "<div>\n<style scoped>\n    .dataframe tbody tr th:only-of-type {\n        vertical-align: middle;\n    }\n\n    .dataframe tbody tr th {\n        vertical-align: top;\n    }\n\n    .dataframe thead th {\n        text-align: right;\n    }\n</style>\n<table border=\"1\" class=\"dataframe\">\n  <thead>\n    <tr style=\"text-align: right;\">\n      <th></th>\n      <th>sex</th>\n      <th>length</th>\n      <th>diameter</th>\n      <th>height</th>\n      <th>whole_weight</th>\n      <th>shucked_weight</th>\n      <th>viscera_weight</th>\n      <th>shell_weight</th>\n      <th>rings</th>\n    </tr>\n  </thead>\n  <tbody>\n    <tr>\n      <th>0</th>\n      <td>M</td>\n      <td>0.455</td>\n      <td>0.365</td>\n      <td>0.095</td>\n      <td>0.5140</td>\n      <td>0.2245</td>\n      <td>0.1010</td>\n      <td>0.1500</td>\n      <td>15</td>\n    </tr>\n    <tr>\n      <th>1</th>\n      <td>M</td>\n      <td>0.350</td>\n      <td>0.265</td>\n      <td>0.090</td>\n      <td>0.2255</td>\n      <td>0.0995</td>\n      <td>0.0485</td>\n      <td>0.0700</td>\n      <td>7</td>\n    </tr>\n    <tr>\n      <th>2</th>\n      <td>F</td>\n      <td>0.530</td>\n      <td>0.420</td>\n      <td>0.135</td>\n      <td>0.6770</td>\n      <td>0.2565</td>\n      <td>0.1415</td>\n      <td>0.2100</td>\n      <td>9</td>\n    </tr>\n    <tr>\n      <th>3</th>\n      <td>M</td>\n      <td>0.440</td>\n      <td>0.365</td>\n      <td>0.125</td>\n      <td>0.5160</td>\n      <td>0.2155</td>\n      <td>0.1140</td>\n      <td>0.1550</td>\n      <td>10</td>\n    </tr>\n    <tr>\n      <th>4</th>\n      <td>I</td>\n      <td>0.330</td>\n      <td>0.255</td>\n      <td>0.080</td>\n      <td>0.2050</td>\n      <td>0.0895</td>\n      <td>0.0395</td>\n      <td>0.0550</td>\n      <td>7</td>\n    </tr>\n    <tr>\n      <th>...</th>\n      <td>...</td>\n      <td>...</td>\n      <td>...</td>\n      <td>...</td>\n      <td>...</td>\n      <td>...</td>\n      <td>...</td>\n      <td>...</td>\n      <td>...</td>\n    </tr>\n    <tr>\n      <th>4172</th>\n      <td>F</td>\n      <td>0.565</td>\n      <td>0.450</td>\n      <td>0.165</td>\n      <td>0.8870</td>\n      <td>0.3700</td>\n      <td>0.2390</td>\n      <td>0.2490</td>\n      <td>11</td>\n    </tr>\n    <tr>\n      <th>4173</th>\n      <td>M</td>\n      <td>0.590</td>\n      <td>0.440</td>\n      <td>0.135</td>\n      <td>0.9660</td>\n      <td>0.4390</td>\n      <td>0.2145</td>\n      <td>0.2605</td>\n      <td>10</td>\n    </tr>\n    <tr>\n      <th>4174</th>\n      <td>M</td>\n      <td>0.600</td>\n      <td>0.475</td>\n      <td>0.205</td>\n      <td>1.1760</td>\n      <td>0.5255</td>\n      <td>0.2875</td>\n      <td>0.3080</td>\n      <td>9</td>\n    </tr>\n    <tr>\n      <th>4175</th>\n      <td>F</td>\n      <td>0.625</td>\n      <td>0.485</td>\n      <td>0.150</td>\n      <td>1.0945</td>\n      <td>0.5310</td>\n      <td>0.2610</td>\n      <td>0.2960</td>\n      <td>10</td>\n    </tr>\n    <tr>\n      <th>4176</th>\n      <td>M</td>\n      <td>0.710</td>\n      <td>0.555</td>\n      <td>0.195</td>\n      <td>1.9485</td>\n      <td>0.9455</td>\n      <td>0.3765</td>\n      <td>0.4950</td>\n      <td>12</td>\n    </tr>\n  </tbody>\n</table>\n<p>4177 rows × 9 columns</p>\n</div>"
     },
     "execution_count": 7,
     "metadata": {},
     "output_type": "execute_result"
    }
   ],
   "source": [
    "abalone_df = pd.read_csv(abalone_src, header=None, sep=',', names = ['sex', 'length', 'diameter', 'height', 'whole_weight', 'shucked_weight', 'viscera_weight', 'shell_weight', 'rings'])\n",
    "abalone_df"
   ],
   "metadata": {
    "collapsed": false,
    "ExecuteTime": {
     "end_time": "2024-03-13T23:22:22.253894Z",
     "start_time": "2024-03-13T23:22:22.226494Z"
    }
   },
   "id": "acb5dd91f2e50545",
   "execution_count": 7
  },
  {
   "cell_type": "code",
   "outputs": [
    {
     "data": {
      "text/plain": "(4177, 9)"
     },
     "execution_count": 8,
     "metadata": {},
     "output_type": "execute_result"
    }
   ],
   "source": [
    "# 데이터 shape를 확인\n",
    "# 딥러닝 (CNN) => 이미지 (데이터수, 가로, 세로, 3)\n",
    "# 딥러닝 (RNN) => 텍스트, 시계열 (데이터수, 시간, 세로)\n",
    "abalone_df.shape"
   ],
   "metadata": {
    "collapsed": false,
    "ExecuteTime": {
     "end_time": "2024-03-13T23:23:59.518120Z",
     "start_time": "2024-03-13T23:23:59.515368Z"
    }
   },
   "id": "d2c7303ccbab8a2b",
   "execution_count": 8
  },
  {
   "cell_type": "code",
   "outputs": [
    {
     "data": {
      "text/plain": "0"
     },
     "execution_count": 10,
     "metadata": {},
     "output_type": "execute_result"
    }
   ],
   "source": [
    "# 데이터 결측값 확인 \n",
    "abalone_df.isnull().sum().sum()"
   ],
   "metadata": {
    "collapsed": false,
    "ExecuteTime": {
     "end_time": "2024-03-13T23:26:34.443444Z",
     "start_time": "2024-03-13T23:26:34.438590Z"
    }
   },
   "id": "bfe49fdc4d0e72d7",
   "execution_count": 10
  },
  {
   "cell_type": "code",
   "outputs": [
    {
     "data": {
      "text/plain": "2"
     },
     "execution_count": 11,
     "metadata": {},
     "output_type": "execute_result"
    }
   ],
   "source": [
    "sum([True, False, True])"
   ],
   "metadata": {
    "collapsed": false,
    "ExecuteTime": {
     "end_time": "2024-03-13T23:26:52.101283Z",
     "start_time": "2024-03-13T23:26:52.097042Z"
    }
   },
   "id": "aaf3e901699bfa0b",
   "execution_count": 11
  },
  {
   "cell_type": "code",
   "outputs": [
    {
     "data": {
      "text/plain": "            length     diameter       height  whole_weight  shucked_weight  \\\ncount  4177.000000  4177.000000  4177.000000   4177.000000     4177.000000   \nmean      0.523992     0.407881     0.139516      0.828742        0.359367   \nstd       0.120093     0.099240     0.041827      0.490389        0.221963   \nmin       0.075000     0.055000     0.000000      0.002000        0.001000   \n25%       0.450000     0.350000     0.115000      0.441500        0.186000   \n50%       0.545000     0.425000     0.140000      0.799500        0.336000   \n75%       0.615000     0.480000     0.165000      1.153000        0.502000   \nmax       0.815000     0.650000     1.130000      2.825500        1.488000   \n\n       viscera_weight  shell_weight        rings  \ncount     4177.000000   4177.000000  4177.000000  \nmean         0.180594      0.238831     9.933684  \nstd          0.109614      0.139203     3.224169  \nmin          0.000500      0.001500     1.000000  \n25%          0.093500      0.130000     8.000000  \n50%          0.171000      0.234000     9.000000  \n75%          0.253000      0.329000    11.000000  \nmax          0.760000      1.005000    29.000000  ",
      "text/html": "<div>\n<style scoped>\n    .dataframe tbody tr th:only-of-type {\n        vertical-align: middle;\n    }\n\n    .dataframe tbody tr th {\n        vertical-align: top;\n    }\n\n    .dataframe thead th {\n        text-align: right;\n    }\n</style>\n<table border=\"1\" class=\"dataframe\">\n  <thead>\n    <tr style=\"text-align: right;\">\n      <th></th>\n      <th>length</th>\n      <th>diameter</th>\n      <th>height</th>\n      <th>whole_weight</th>\n      <th>shucked_weight</th>\n      <th>viscera_weight</th>\n      <th>shell_weight</th>\n      <th>rings</th>\n    </tr>\n  </thead>\n  <tbody>\n    <tr>\n      <th>count</th>\n      <td>4177.000000</td>\n      <td>4177.000000</td>\n      <td>4177.000000</td>\n      <td>4177.000000</td>\n      <td>4177.000000</td>\n      <td>4177.000000</td>\n      <td>4177.000000</td>\n      <td>4177.000000</td>\n    </tr>\n    <tr>\n      <th>mean</th>\n      <td>0.523992</td>\n      <td>0.407881</td>\n      <td>0.139516</td>\n      <td>0.828742</td>\n      <td>0.359367</td>\n      <td>0.180594</td>\n      <td>0.238831</td>\n      <td>9.933684</td>\n    </tr>\n    <tr>\n      <th>std</th>\n      <td>0.120093</td>\n      <td>0.099240</td>\n      <td>0.041827</td>\n      <td>0.490389</td>\n      <td>0.221963</td>\n      <td>0.109614</td>\n      <td>0.139203</td>\n      <td>3.224169</td>\n    </tr>\n    <tr>\n      <th>min</th>\n      <td>0.075000</td>\n      <td>0.055000</td>\n      <td>0.000000</td>\n      <td>0.002000</td>\n      <td>0.001000</td>\n      <td>0.000500</td>\n      <td>0.001500</td>\n      <td>1.000000</td>\n    </tr>\n    <tr>\n      <th>25%</th>\n      <td>0.450000</td>\n      <td>0.350000</td>\n      <td>0.115000</td>\n      <td>0.441500</td>\n      <td>0.186000</td>\n      <td>0.093500</td>\n      <td>0.130000</td>\n      <td>8.000000</td>\n    </tr>\n    <tr>\n      <th>50%</th>\n      <td>0.545000</td>\n      <td>0.425000</td>\n      <td>0.140000</td>\n      <td>0.799500</td>\n      <td>0.336000</td>\n      <td>0.171000</td>\n      <td>0.234000</td>\n      <td>9.000000</td>\n    </tr>\n    <tr>\n      <th>75%</th>\n      <td>0.615000</td>\n      <td>0.480000</td>\n      <td>0.165000</td>\n      <td>1.153000</td>\n      <td>0.502000</td>\n      <td>0.253000</td>\n      <td>0.329000</td>\n      <td>11.000000</td>\n    </tr>\n    <tr>\n      <th>max</th>\n      <td>0.815000</td>\n      <td>0.650000</td>\n      <td>1.130000</td>\n      <td>2.825500</td>\n      <td>1.488000</td>\n      <td>0.760000</td>\n      <td>1.005000</td>\n      <td>29.000000</td>\n    </tr>\n  </tbody>\n</table>\n</div>"
     },
     "execution_count": 12,
     "metadata": {},
     "output_type": "execute_result"
    }
   ],
   "source": [
    "# 기술통계 확인 \n",
    "abalone_df.describe()"
   ],
   "metadata": {
    "collapsed": false,
    "ExecuteTime": {
     "end_time": "2024-03-13T23:28:27.288085Z",
     "start_time": "2024-03-13T23:28:27.274036Z"
    }
   },
   "id": "8cb406f530e2aaf2",
   "execution_count": 12
  },
  {
   "cell_type": "code",
   "outputs": [
    {
     "data": {
      "text/plain": "<pandas.core.groupby.generic.SeriesGroupBy object at 0x12f25a0d0>"
     },
     "execution_count": 14,
     "metadata": {},
     "output_type": "execute_result"
    }
   ],
   "source": [
    "grouped = abalone_df['whole_weight'].groupby(abalone_df['sex'])\n",
    "grouped"
   ],
   "metadata": {
    "collapsed": false,
    "ExecuteTime": {
     "end_time": "2024-03-13T23:32:38.937077Z",
     "start_time": "2024-03-13T23:32:38.933958Z"
    }
   },
   "id": "a8c6e9d60a0ff785",
   "execution_count": 14
  },
  {
   "cell_type": "code",
   "outputs": [
    {
     "data": {
      "text/plain": "sex\nF    1367.8175\nI     578.8885\nM    1514.9500\nName: whole_weight, dtype: float64"
     },
     "execution_count": 15,
     "metadata": {},
     "output_type": "execute_result"
    }
   ],
   "source": [
    "grouped.sum()"
   ],
   "metadata": {
    "collapsed": false,
    "ExecuteTime": {
     "end_time": "2024-03-13T23:34:02.390263Z",
     "start_time": "2024-03-13T23:34:02.384136Z"
    }
   },
   "id": "3a3e708c8edd8a95",
   "execution_count": 15
  },
  {
   "cell_type": "code",
   "outputs": [
    {
     "data": {
      "text/plain": "sex\nF    1.046532\nI    0.431363\nM    0.991459\nName: whole_weight, dtype: float64"
     },
     "execution_count": 16,
     "metadata": {},
     "output_type": "execute_result"
    }
   ],
   "source": [
    "grouped.mean()"
   ],
   "metadata": {
    "collapsed": false,
    "ExecuteTime": {
     "end_time": "2024-03-13T23:34:52.941416Z",
     "start_time": "2024-03-13T23:34:52.936175Z"
    }
   },
   "id": "9aa501c24e96677d",
   "execution_count": 16
  },
  {
   "cell_type": "code",
   "outputs": [
    {
     "data": {
      "text/plain": "sex\nF    1307\nI    1342\nM    1528\nName: whole_weight, dtype: int64"
     },
     "execution_count": 17,
     "metadata": {},
     "output_type": "execute_result"
    }
   ],
   "source": [
    "grouped.size()"
   ],
   "metadata": {
    "collapsed": false,
    "ExecuteTime": {
     "end_time": "2024-03-13T23:35:59.098552Z",
     "start_time": "2024-03-13T23:35:59.094455Z"
    }
   },
   "id": "5fe55357690615f4",
   "execution_count": 17
  },
  {
   "cell_type": "code",
   "outputs": [
    {
     "data": {
      "text/plain": "       length  diameter    height  whole_weight  shucked_weight  \\\nsex                                                               \nF    0.579093  0.454732  0.158011      1.046532        0.446188   \nI    0.427746  0.326494  0.107996      0.431363        0.191035   \nM    0.561391  0.439287  0.151381      0.991459        0.432946   \n\n     viscera_weight  shell_weight      rings  \nsex                                           \nF          0.230689      0.302010  11.129304  \nI          0.092010      0.128182   7.890462  \nM          0.215545      0.281969  10.705497  ",
      "text/html": "<div>\n<style scoped>\n    .dataframe tbody tr th:only-of-type {\n        vertical-align: middle;\n    }\n\n    .dataframe tbody tr th {\n        vertical-align: top;\n    }\n\n    .dataframe thead th {\n        text-align: right;\n    }\n</style>\n<table border=\"1\" class=\"dataframe\">\n  <thead>\n    <tr style=\"text-align: right;\">\n      <th></th>\n      <th>length</th>\n      <th>diameter</th>\n      <th>height</th>\n      <th>whole_weight</th>\n      <th>shucked_weight</th>\n      <th>viscera_weight</th>\n      <th>shell_weight</th>\n      <th>rings</th>\n    </tr>\n    <tr>\n      <th>sex</th>\n      <th></th>\n      <th></th>\n      <th></th>\n      <th></th>\n      <th></th>\n      <th></th>\n      <th></th>\n      <th></th>\n    </tr>\n  </thead>\n  <tbody>\n    <tr>\n      <th>F</th>\n      <td>0.579093</td>\n      <td>0.454732</td>\n      <td>0.158011</td>\n      <td>1.046532</td>\n      <td>0.446188</td>\n      <td>0.230689</td>\n      <td>0.302010</td>\n      <td>11.129304</td>\n    </tr>\n    <tr>\n      <th>I</th>\n      <td>0.427746</td>\n      <td>0.326494</td>\n      <td>0.107996</td>\n      <td>0.431363</td>\n      <td>0.191035</td>\n      <td>0.092010</td>\n      <td>0.128182</td>\n      <td>7.890462</td>\n    </tr>\n    <tr>\n      <th>M</th>\n      <td>0.561391</td>\n      <td>0.439287</td>\n      <td>0.151381</td>\n      <td>0.991459</td>\n      <td>0.432946</td>\n      <td>0.215545</td>\n      <td>0.281969</td>\n      <td>10.705497</td>\n    </tr>\n  </tbody>\n</table>\n</div>"
     },
     "execution_count": 18,
     "metadata": {},
     "output_type": "execute_result"
    }
   ],
   "source": [
    "# 그룹 변수 하나가 아닌, 전체 연속형 변수에 대한 집계\n",
    "abalone_df.groupby(abalone_df['sex']).mean()"
   ],
   "metadata": {
    "collapsed": false,
    "ExecuteTime": {
     "end_time": "2024-03-13T23:37:16.280166Z",
     "start_time": "2024-03-13T23:37:16.271765Z"
    }
   },
   "id": "88556824c48d24d8",
   "execution_count": 18
  },
  {
   "cell_type": "code",
   "outputs": [
    {
     "data": {
      "text/plain": "       length  diameter    height  whole_weight  shucked_weight  \\\nsex                                                               \nF    0.579093  0.454732  0.158011      1.046532        0.446188   \nI    0.427746  0.326494  0.107996      0.431363        0.191035   \nM    0.561391  0.439287  0.151381      0.991459        0.432946   \n\n     viscera_weight  shell_weight      rings  \nsex                                           \nF          0.230689      0.302010  11.129304  \nI          0.092010      0.128182   7.890462  \nM          0.215545      0.281969  10.705497  ",
      "text/html": "<div>\n<style scoped>\n    .dataframe tbody tr th:only-of-type {\n        vertical-align: middle;\n    }\n\n    .dataframe tbody tr th {\n        vertical-align: top;\n    }\n\n    .dataframe thead th {\n        text-align: right;\n    }\n</style>\n<table border=\"1\" class=\"dataframe\">\n  <thead>\n    <tr style=\"text-align: right;\">\n      <th></th>\n      <th>length</th>\n      <th>diameter</th>\n      <th>height</th>\n      <th>whole_weight</th>\n      <th>shucked_weight</th>\n      <th>viscera_weight</th>\n      <th>shell_weight</th>\n      <th>rings</th>\n    </tr>\n    <tr>\n      <th>sex</th>\n      <th></th>\n      <th></th>\n      <th></th>\n      <th></th>\n      <th></th>\n      <th></th>\n      <th></th>\n      <th></th>\n    </tr>\n  </thead>\n  <tbody>\n    <tr>\n      <th>F</th>\n      <td>0.579093</td>\n      <td>0.454732</td>\n      <td>0.158011</td>\n      <td>1.046532</td>\n      <td>0.446188</td>\n      <td>0.230689</td>\n      <td>0.302010</td>\n      <td>11.129304</td>\n    </tr>\n    <tr>\n      <th>I</th>\n      <td>0.427746</td>\n      <td>0.326494</td>\n      <td>0.107996</td>\n      <td>0.431363</td>\n      <td>0.191035</td>\n      <td>0.092010</td>\n      <td>0.128182</td>\n      <td>7.890462</td>\n    </tr>\n    <tr>\n      <th>M</th>\n      <td>0.561391</td>\n      <td>0.439287</td>\n      <td>0.151381</td>\n      <td>0.991459</td>\n      <td>0.432946</td>\n      <td>0.215545</td>\n      <td>0.281969</td>\n      <td>10.705497</td>\n    </tr>\n  </tbody>\n</table>\n</div>"
     },
     "execution_count": 19,
     "metadata": {},
     "output_type": "execute_result"
    }
   ],
   "source": [
    "abalone_df.groupby('sex').mean()"
   ],
   "metadata": {
    "collapsed": false,
    "ExecuteTime": {
     "end_time": "2024-03-13T23:38:53.746093Z",
     "start_time": "2024-03-13T23:38:53.736501Z"
    }
   },
   "id": "f34ba070cda9a5b",
   "execution_count": 19
  },
  {
   "cell_type": "markdown",
   "source": [],
   "metadata": {
    "collapsed": false
   },
   "id": "73014f7f0b16dc75"
  },
  {
   "cell_type": "code",
   "outputs": [],
   "source": [
    "abalone_df['length_bool'] = np.where(abalone_df['length']>abalone_df['length'].median(),\n",
    "                                     'length_long',\n",
    "                                     'length_short')"
   ],
   "metadata": {
    "collapsed": false,
    "ExecuteTime": {
     "end_time": "2024-03-13T23:41:40.221291Z",
     "start_time": "2024-03-13T23:41:40.216704Z"
    }
   },
   "id": "b25dee73de42f0c0",
   "execution_count": 24
  },
  {
   "cell_type": "code",
   "outputs": [
    {
     "data": {
      "text/plain": "     sex  length  diameter  height  whole_weight  shucked_weight  \\\n0      M   0.455     0.365   0.095        0.5140          0.2245   \n1      M   0.350     0.265   0.090        0.2255          0.0995   \n2      F   0.530     0.420   0.135        0.6770          0.2565   \n3      M   0.440     0.365   0.125        0.5160          0.2155   \n4      I   0.330     0.255   0.080        0.2050          0.0895   \n...   ..     ...       ...     ...           ...             ...   \n4172   F   0.565     0.450   0.165        0.8870          0.3700   \n4173   M   0.590     0.440   0.135        0.9660          0.4390   \n4174   M   0.600     0.475   0.205        1.1760          0.5255   \n4175   F   0.625     0.485   0.150        1.0945          0.5310   \n4176   M   0.710     0.555   0.195        1.9485          0.9455   \n\n      viscera_weight  shell_weight  rings   length_bool  \n0             0.1010        0.1500     15  length_short  \n1             0.0485        0.0700      7  length_short  \n2             0.1415        0.2100      9  length_short  \n3             0.1140        0.1550     10  length_short  \n4             0.0395        0.0550      7  length_short  \n...              ...           ...    ...           ...  \n4172          0.2390        0.2490     11   length_long  \n4173          0.2145        0.2605     10   length_long  \n4174          0.2875        0.3080      9   length_long  \n4175          0.2610        0.2960     10   length_long  \n4176          0.3765        0.4950     12   length_long  \n\n[4177 rows x 10 columns]",
      "text/html": "<div>\n<style scoped>\n    .dataframe tbody tr th:only-of-type {\n        vertical-align: middle;\n    }\n\n    .dataframe tbody tr th {\n        vertical-align: top;\n    }\n\n    .dataframe thead th {\n        text-align: right;\n    }\n</style>\n<table border=\"1\" class=\"dataframe\">\n  <thead>\n    <tr style=\"text-align: right;\">\n      <th></th>\n      <th>sex</th>\n      <th>length</th>\n      <th>diameter</th>\n      <th>height</th>\n      <th>whole_weight</th>\n      <th>shucked_weight</th>\n      <th>viscera_weight</th>\n      <th>shell_weight</th>\n      <th>rings</th>\n      <th>length_bool</th>\n    </tr>\n  </thead>\n  <tbody>\n    <tr>\n      <th>0</th>\n      <td>M</td>\n      <td>0.455</td>\n      <td>0.365</td>\n      <td>0.095</td>\n      <td>0.5140</td>\n      <td>0.2245</td>\n      <td>0.1010</td>\n      <td>0.1500</td>\n      <td>15</td>\n      <td>length_short</td>\n    </tr>\n    <tr>\n      <th>1</th>\n      <td>M</td>\n      <td>0.350</td>\n      <td>0.265</td>\n      <td>0.090</td>\n      <td>0.2255</td>\n      <td>0.0995</td>\n      <td>0.0485</td>\n      <td>0.0700</td>\n      <td>7</td>\n      <td>length_short</td>\n    </tr>\n    <tr>\n      <th>2</th>\n      <td>F</td>\n      <td>0.530</td>\n      <td>0.420</td>\n      <td>0.135</td>\n      <td>0.6770</td>\n      <td>0.2565</td>\n      <td>0.1415</td>\n      <td>0.2100</td>\n      <td>9</td>\n      <td>length_short</td>\n    </tr>\n    <tr>\n      <th>3</th>\n      <td>M</td>\n      <td>0.440</td>\n      <td>0.365</td>\n      <td>0.125</td>\n      <td>0.5160</td>\n      <td>0.2155</td>\n      <td>0.1140</td>\n      <td>0.1550</td>\n      <td>10</td>\n      <td>length_short</td>\n    </tr>\n    <tr>\n      <th>4</th>\n      <td>I</td>\n      <td>0.330</td>\n      <td>0.255</td>\n      <td>0.080</td>\n      <td>0.2050</td>\n      <td>0.0895</td>\n      <td>0.0395</td>\n      <td>0.0550</td>\n      <td>7</td>\n      <td>length_short</td>\n    </tr>\n    <tr>\n      <th>...</th>\n      <td>...</td>\n      <td>...</td>\n      <td>...</td>\n      <td>...</td>\n      <td>...</td>\n      <td>...</td>\n      <td>...</td>\n      <td>...</td>\n      <td>...</td>\n      <td>...</td>\n    </tr>\n    <tr>\n      <th>4172</th>\n      <td>F</td>\n      <td>0.565</td>\n      <td>0.450</td>\n      <td>0.165</td>\n      <td>0.8870</td>\n      <td>0.3700</td>\n      <td>0.2390</td>\n      <td>0.2490</td>\n      <td>11</td>\n      <td>length_long</td>\n    </tr>\n    <tr>\n      <th>4173</th>\n      <td>M</td>\n      <td>0.590</td>\n      <td>0.440</td>\n      <td>0.135</td>\n      <td>0.9660</td>\n      <td>0.4390</td>\n      <td>0.2145</td>\n      <td>0.2605</td>\n      <td>10</td>\n      <td>length_long</td>\n    </tr>\n    <tr>\n      <th>4174</th>\n      <td>M</td>\n      <td>0.600</td>\n      <td>0.475</td>\n      <td>0.205</td>\n      <td>1.1760</td>\n      <td>0.5255</td>\n      <td>0.2875</td>\n      <td>0.3080</td>\n      <td>9</td>\n      <td>length_long</td>\n    </tr>\n    <tr>\n      <th>4175</th>\n      <td>F</td>\n      <td>0.625</td>\n      <td>0.485</td>\n      <td>0.150</td>\n      <td>1.0945</td>\n      <td>0.5310</td>\n      <td>0.2610</td>\n      <td>0.2960</td>\n      <td>10</td>\n      <td>length_long</td>\n    </tr>\n    <tr>\n      <th>4176</th>\n      <td>M</td>\n      <td>0.710</td>\n      <td>0.555</td>\n      <td>0.195</td>\n      <td>1.9485</td>\n      <td>0.9455</td>\n      <td>0.3765</td>\n      <td>0.4950</td>\n      <td>12</td>\n      <td>length_long</td>\n    </tr>\n  </tbody>\n</table>\n<p>4177 rows × 10 columns</p>\n</div>"
     },
     "execution_count": 25,
     "metadata": {},
     "output_type": "execute_result"
    }
   ],
   "source": [
    "abalone_df"
   ],
   "metadata": {
    "collapsed": false,
    "ExecuteTime": {
     "end_time": "2024-03-13T23:41:42.383941Z",
     "start_time": "2024-03-13T23:41:42.375603Z"
    }
   },
   "id": "c4e177c3aa863823",
   "execution_count": 25
  },
  {
   "cell_type": "code",
   "outputs": [
    {
     "data": {
      "text/plain": "                    length  diameter    height  whole_weight  shucked_weight  \\\nsex length_bool                                                                \nF   length_long   0.626895  0.493020  0.169944      1.261330        0.542957   \n    length_short  0.477428  0.373301  0.132632      0.589702        0.240380   \nI   length_long   0.584495  0.452952  0.150957      0.923215        0.402524   \n    length_short  0.402210  0.305893  0.100997      0.351234        0.156581   \nM   length_long   0.623359  0.489291  0.168670      1.255182        0.554312   \n    length_short  0.454875  0.353336  0.121664      0.538157        0.224335   \n\n                  viscera_weight  shell_weight      rings  \nsex length_bool                                            \nF   length_long         0.276945      0.360013  11.415073  \n    length_short        0.132311      0.178650  10.521531  \nI   length_long         0.196912      0.273247  10.585106  \n    length_short        0.074920      0.104549   7.451473  \nM   length_long         0.272203      0.351683  11.299172  \n    length_short        0.118156      0.162141   9.685053  ",
      "text/html": "<div>\n<style scoped>\n    .dataframe tbody tr th:only-of-type {\n        vertical-align: middle;\n    }\n\n    .dataframe tbody tr th {\n        vertical-align: top;\n    }\n\n    .dataframe thead th {\n        text-align: right;\n    }\n</style>\n<table border=\"1\" class=\"dataframe\">\n  <thead>\n    <tr style=\"text-align: right;\">\n      <th></th>\n      <th></th>\n      <th>length</th>\n      <th>diameter</th>\n      <th>height</th>\n      <th>whole_weight</th>\n      <th>shucked_weight</th>\n      <th>viscera_weight</th>\n      <th>shell_weight</th>\n      <th>rings</th>\n    </tr>\n    <tr>\n      <th>sex</th>\n      <th>length_bool</th>\n      <th></th>\n      <th></th>\n      <th></th>\n      <th></th>\n      <th></th>\n      <th></th>\n      <th></th>\n      <th></th>\n    </tr>\n  </thead>\n  <tbody>\n    <tr>\n      <th rowspan=\"2\" valign=\"top\">F</th>\n      <th>length_long</th>\n      <td>0.626895</td>\n      <td>0.493020</td>\n      <td>0.169944</td>\n      <td>1.261330</td>\n      <td>0.542957</td>\n      <td>0.276945</td>\n      <td>0.360013</td>\n      <td>11.415073</td>\n    </tr>\n    <tr>\n      <th>length_short</th>\n      <td>0.477428</td>\n      <td>0.373301</td>\n      <td>0.132632</td>\n      <td>0.589702</td>\n      <td>0.240380</td>\n      <td>0.132311</td>\n      <td>0.178650</td>\n      <td>10.521531</td>\n    </tr>\n    <tr>\n      <th rowspan=\"2\" valign=\"top\">I</th>\n      <th>length_long</th>\n      <td>0.584495</td>\n      <td>0.452952</td>\n      <td>0.150957</td>\n      <td>0.923215</td>\n      <td>0.402524</td>\n      <td>0.196912</td>\n      <td>0.273247</td>\n      <td>10.585106</td>\n    </tr>\n    <tr>\n      <th>length_short</th>\n      <td>0.402210</td>\n      <td>0.305893</td>\n      <td>0.100997</td>\n      <td>0.351234</td>\n      <td>0.156581</td>\n      <td>0.074920</td>\n      <td>0.104549</td>\n      <td>7.451473</td>\n    </tr>\n    <tr>\n      <th rowspan=\"2\" valign=\"top\">M</th>\n      <th>length_long</th>\n      <td>0.623359</td>\n      <td>0.489291</td>\n      <td>0.168670</td>\n      <td>1.255182</td>\n      <td>0.554312</td>\n      <td>0.272203</td>\n      <td>0.351683</td>\n      <td>11.299172</td>\n    </tr>\n    <tr>\n      <th>length_short</th>\n      <td>0.454875</td>\n      <td>0.353336</td>\n      <td>0.121664</td>\n      <td>0.538157</td>\n      <td>0.224335</td>\n      <td>0.118156</td>\n      <td>0.162141</td>\n      <td>9.685053</td>\n    </tr>\n  </tbody>\n</table>\n</div>"
     },
     "execution_count": 26,
     "metadata": {},
     "output_type": "execute_result"
    }
   ],
   "source": [
    "abalone_df.groupby(['sex', 'length_bool']).mean()"
   ],
   "metadata": {
    "collapsed": false,
    "ExecuteTime": {
     "end_time": "2024-03-13T23:42:49.269930Z",
     "start_time": "2024-03-13T23:42:49.260645Z"
    }
   },
   "id": "2a4eef0004c128c",
   "execution_count": 26
  },
  {
   "cell_type": "code",
   "outputs": [
    {
     "data": {
      "text/plain": "sex  length_bool \nF    length_long     1.261330\n     length_short    0.589702\nI    length_long     0.923215\n     length_short    0.351234\nM    length_long     1.255182\n     length_short    0.538157\nName: whole_weight, dtype: float64"
     },
     "execution_count": 28,
     "metadata": {},
     "output_type": "execute_result"
    }
   ],
   "source": [
    "abalone_df.groupby(['sex', 'length_bool'])['whole_weight'].mean()"
   ],
   "metadata": {
    "collapsed": false,
    "ExecuteTime": {
     "end_time": "2024-03-13T23:45:35.958284Z",
     "start_time": "2024-03-13T23:45:35.953229Z"
    }
   },
   "id": "cd17e8d84aea0cf5",
   "execution_count": 28
  },
  {
   "cell_type": "code",
   "outputs": [],
   "source": [],
   "metadata": {
    "collapsed": false
   },
   "id": "8171651eb78b3196"
  }
 ],
 "metadata": {
  "kernelspec": {
   "display_name": "Python 3",
   "language": "python",
   "name": "python3"
  },
  "language_info": {
   "codemirror_mode": {
    "name": "ipython",
    "version": 2
   },
   "file_extension": ".py",
   "mimetype": "text/x-python",
   "name": "python",
   "nbconvert_exporter": "python",
   "pygments_lexer": "ipython2",
   "version": "2.7.6"
  }
 },
 "nbformat": 4,
 "nbformat_minor": 5
}
